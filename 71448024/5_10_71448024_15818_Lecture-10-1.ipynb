{
 "metadata": {
  "name": "",
  "signature": "sha256:9cad472054ce60f7864e34c53e838d52b9e954638ad5a54a286c9f30040afa49"
 },
 "nbformat": 3,
 "nbformat_minor": 0,
 "worksheets": [
  {
   "cells": [
    {
     "cell_type": "heading",
     "level": 1,
     "metadata": {},
     "source": [
      "\u7b2c10\u56de\u3000\u30b7\u30df\u30e5\u30ec\u30fc\u30b7\u30e7\u30f3\u3072\u3068\u3081\u3050\u308a\uff08\uff11\uff09\n"
     ]
    },
    {
     "cell_type": "heading",
     "level": 2,
     "metadata": {},
     "source": [
      "NumPy \u3068 matplotlib \u306b\u3064\u3044\u3066\u3001\u3044\u304f\u3064\u304b\u88dc\u8db3"
     ]
    },
    {
     "cell_type": "heading",
     "level": 3,
     "metadata": {},
     "source": [
      "\u914d\u5217\u306b\u5bfe\u3059\u308b\u3055\u307e\u3056\u307e\u306a\u64cd\u4f5c"
     ]
    },
    {
     "cell_type": "code",
     "collapsed": false,
     "input": [
      "import numpy as np"
     ],
     "language": "python",
     "metadata": {},
     "outputs": [],
     "prompt_number": 2
    },
    {
     "cell_type": "heading",
     "level": 4,
     "metadata": {},
     "source": [
      "\u914d\u5217\u306e\u5f62\u72b6\u3092\u5909\u66f4\u3000`reshape()`"
     ]
    },
    {
     "cell_type": "code",
     "collapsed": false,
     "input": [
      "a = np.arange(12)\n",
      "a"
     ],
     "language": "python",
     "metadata": {},
     "outputs": [
      {
       "metadata": {},
       "output_type": "pyout",
       "prompt_number": 3,
       "text": [
        "array([ 0,  1,  2,  3,  4,  5,  6,  7,  8,  9, 10, 11])"
       ]
      }
     ],
     "prompt_number": 3
    },
    {
     "cell_type": "code",
     "collapsed": false,
     "input": [
      "shape = [ 3, 4 ]  # \uff13\u884c\uff14\u5217\u306e\uff12\u6b21\u5143\u914d\u5217\n",
      "a.reshape( shape )"
     ],
     "language": "python",
     "metadata": {},
     "outputs": [
      {
       "metadata": {},
       "output_type": "pyout",
       "prompt_number": 4,
       "text": [
        "array([[ 0,  1,  2,  3],\n",
        "       [ 4,  5,  6,  7],\n",
        "       [ 8,  9, 10, 11]])"
       ]
      }
     ],
     "prompt_number": 4
    },
    {
     "cell_type": "code",
     "collapsed": false,
     "input": [
      "shape = [ 2, 2, 3 ]  # \uff12\u00d7\uff12\u00d7\uff13\u306e\uff13\u6b21\u5143\u914d\u5217\n",
      "a.reshape( shape )"
     ],
     "language": "python",
     "metadata": {},
     "outputs": [
      {
       "metadata": {},
       "output_type": "pyout",
       "prompt_number": 5,
       "text": [
        "array([[[ 0,  1,  2],\n",
        "        [ 3,  4,  5]],\n",
        "\n",
        "       [[ 6,  7,  8],\n",
        "        [ 9, 10, 11]]])"
       ]
      }
     ],
     "prompt_number": 5
    },
    {
     "cell_type": "code",
     "collapsed": false,
     "input": [
      "b = np.arange( 1, 10 ).reshape((9,1))\n",
      "b"
     ],
     "language": "python",
     "metadata": {},
     "outputs": [
      {
       "metadata": {},
       "output_type": "pyout",
       "prompt_number": 6,
       "text": [
        "array([[1],\n",
        "       [2],\n",
        "       [3],\n",
        "       [4],\n",
        "       [5],\n",
        "       [6],\n",
        "       [7],\n",
        "       [8],\n",
        "       [9]])"
       ]
      }
     ],
     "prompt_number": 6
    },
    {
     "cell_type": "heading",
     "level": 4,
     "metadata": {},
     "source": [
      "\u914d\u5217\u3092\u5bfe\u8c61\u3068\u3057\u305f\u6f14\u7b97"
     ]
    },
    {
     "cell_type": "markdown",
     "metadata": {},
     "source": [
      "* \u914d\u5217\u306b\u5bfe\u3057\u3066\u56db\u5247\u6f14\u7b97\u306a\u3069\u306e\u6f14\u7b97\u3092\u884c\u3046\u3068\u3001\u914d\u5217\u306e\u5404\u8981\u7d20\u306b\u305d\u306e\u6f14\u7b97\u3092\u9069\u7528\u3057\u305f\u7d50\u679c\u3092\u8981\u7d20\u3068\u3059\u308b\u65b0\u305f\u306a\u914d\u5217\u304c\u4f5c\u3089\u308c\u307e\u3059\u3002"
     ]
    },
    {
     "cell_type": "code",
     "collapsed": false,
     "input": [
      "c = 10 * b\n",
      "c"
     ],
     "language": "python",
     "metadata": {},
     "outputs": [
      {
       "metadata": {},
       "output_type": "pyout",
       "prompt_number": 7,
       "text": [
        "array([[10],\n",
        "       [20],\n",
        "       [30],\n",
        "       [40],\n",
        "       [50],\n",
        "       [60],\n",
        "       [70],\n",
        "       [80],\n",
        "       [90]])"
       ]
      }
     ],
     "prompt_number": 7
    },
    {
     "cell_type": "code",
     "collapsed": false,
     "input": [
      "d = c - 2\n",
      "d"
     ],
     "language": "python",
     "metadata": {},
     "outputs": [
      {
       "metadata": {},
       "output_type": "pyout",
       "prompt_number": 8,
       "text": [
        "array([[ 8],\n",
        "       [18],\n",
        "       [28],\n",
        "       [38],\n",
        "       [48],\n",
        "       [58],\n",
        "       [68],\n",
        "       [78],\n",
        "       [88]])"
       ]
      }
     ],
     "prompt_number": 8
    },
    {
     "cell_type": "markdown",
     "metadata": {},
     "source": [
      "* \u914d\u5217\u3069\u3046\u3057\u306e\u6f14\u7b97\u3082\u540c\u69d8\u3067\u3001\u5bfe\u5fdc\u3059\u308b\u8981\u7d20\u3069\u3046\u3057\u306b\u6f14\u7b97\u304c\u9069\u7528\u3055\u308c\u3001\u65b0\u305f\u306a\u914d\u5217\u304c\u4f5c\u3089\u308c\u307e\u3059\u3002"
     ]
    },
    {
     "cell_type": "code",
     "collapsed": false,
     "input": [
      "c / b"
     ],
     "language": "python",
     "metadata": {},
     "outputs": [
      {
       "metadata": {},
       "output_type": "pyout",
       "prompt_number": 9,
       "text": [
        "array([[10],\n",
        "       [10],\n",
        "       [10],\n",
        "       [10],\n",
        "       [10],\n",
        "       [10],\n",
        "       [10],\n",
        "       [10],\n",
        "       [10]])"
       ]
      }
     ],
     "prompt_number": 9
    },
    {
     "cell_type": "code",
     "collapsed": false,
     "input": [
      "array_list = [ b, c, d ]"
     ],
     "language": "python",
     "metadata": {},
     "outputs": [],
     "prompt_number": 10
    },
    {
     "cell_type": "heading",
     "level": 4,
     "metadata": {},
     "source": [
      "\u914d\u5217\u3092\u5217\u65b9\u5411\u306b\u7d50\u5408\u3000`hstack()`"
     ]
    },
    {
     "cell_type": "code",
     "collapsed": false,
     "input": [
      "np.hstack( array_list )"
     ],
     "language": "python",
     "metadata": {},
     "outputs": [
      {
       "metadata": {},
       "output_type": "pyout",
       "prompt_number": 11,
       "text": [
        "array([[ 1, 10,  8],\n",
        "       [ 2, 20, 18],\n",
        "       [ 3, 30, 28],\n",
        "       [ 4, 40, 38],\n",
        "       [ 5, 50, 48],\n",
        "       [ 6, 60, 58],\n",
        "       [ 7, 70, 68],\n",
        "       [ 8, 80, 78],\n",
        "       [ 9, 90, 88]])"
       ]
      }
     ],
     "prompt_number": 11
    },
    {
     "cell_type": "heading",
     "level": 4,
     "metadata": {},
     "source": [
      "\u914d\u5217\u3092\u884c\u65b9\u5411\u306b\u7d50\u5408\u3000`vstack()`"
     ]
    },
    {
     "cell_type": "code",
     "collapsed": false,
     "input": [
      "np.vstack( array_list )"
     ],
     "language": "python",
     "metadata": {},
     "outputs": [
      {
       "metadata": {},
       "output_type": "pyout",
       "prompt_number": 12,
       "text": [
        "array([[ 1],\n",
        "       [ 2],\n",
        "       [ 3],\n",
        "       [ 4],\n",
        "       [ 5],\n",
        "       [ 6],\n",
        "       [ 7],\n",
        "       [ 8],\n",
        "       [ 9],\n",
        "       [10],\n",
        "       [20],\n",
        "       [30],\n",
        "       [40],\n",
        "       [50],\n",
        "       [60],\n",
        "       [70],\n",
        "       [80],\n",
        "       [90],\n",
        "       [ 8],\n",
        "       [18],\n",
        "       [28],\n",
        "       [38],\n",
        "       [48],\n",
        "       [58],\n",
        "       [68],\n",
        "       [78],\n",
        "       [88]])"
       ]
      }
     ],
     "prompt_number": 12
    },
    {
     "cell_type": "code",
     "collapsed": false,
     "input": [
      "np.dstack( array_list )"
     ],
     "language": "python",
     "metadata": {},
     "outputs": [
      {
       "metadata": {},
       "output_type": "pyout",
       "prompt_number": 13,
       "text": [
        "array([[[ 1, 10,  8]],\n",
        "\n",
        "       [[ 2, 20, 18]],\n",
        "\n",
        "       [[ 3, 30, 28]],\n",
        "\n",
        "       [[ 4, 40, 38]],\n",
        "\n",
        "       [[ 5, 50, 48]],\n",
        "\n",
        "       [[ 6, 60, 58]],\n",
        "\n",
        "       [[ 7, 70, 68]],\n",
        "\n",
        "       [[ 8, 80, 78]],\n",
        "\n",
        "       [[ 9, 90, 88]]])"
       ]
      }
     ],
     "prompt_number": 13
    },
    {
     "cell_type": "heading",
     "level": 4,
     "metadata": {},
     "source": [
      "\u540c\u3058\u5f62\u72b6\u306e\u914d\u5217\u3092\u7d50\u5408\u3057\u3066\u6b21\u5143\u3092\uff11\u3064\u5897\u3084\u3059\u3000`dstack()`"
     ]
    },
    {
     "cell_type": "code",
     "collapsed": false,
     "input": [
      "e = np.arange(12).reshape((3,4))\n",
      "e"
     ],
     "language": "python",
     "metadata": {},
     "outputs": [
      {
       "metadata": {},
       "output_type": "pyout",
       "prompt_number": 14,
       "text": [
        "array([[ 0,  1,  2,  3],\n",
        "       [ 4,  5,  6,  7],\n",
        "       [ 8,  9, 10, 11]])"
       ]
      }
     ],
     "prompt_number": 14
    },
    {
     "cell_type": "code",
     "collapsed": false,
     "input": [
      "f = e + 10\n",
      "f"
     ],
     "language": "python",
     "metadata": {},
     "outputs": [
      {
       "metadata": {},
       "output_type": "pyout",
       "prompt_number": 15,
       "text": [
        "array([[10, 11, 12, 13],\n",
        "       [14, 15, 16, 17],\n",
        "       [18, 19, 20, 21]])"
       ]
      }
     ],
     "prompt_number": 15
    },
    {
     "cell_type": "code",
     "collapsed": false,
     "input": [
      "# \uff13\u00d7\uff14\u306e\uff12\u6b21\u5143\u914d\u5217\uff12\u3064\u3092\u5408\u6210\u3057\u3066\u3001\uff13\u00d7\uff14\u00d7\uff12\u306e\uff13\u6b21\u5143\u914d\u5217\u3092\u3064\u304f\u308b\n",
      "np.dstack( ( e, f ) )"
     ],
     "language": "python",
     "metadata": {},
     "outputs": [
      {
       "metadata": {},
       "output_type": "pyout",
       "prompt_number": 16,
       "text": [
        "array([[[ 0, 10],\n",
        "        [ 1, 11],\n",
        "        [ 2, 12],\n",
        "        [ 3, 13]],\n",
        "\n",
        "       [[ 4, 14],\n",
        "        [ 5, 15],\n",
        "        [ 6, 16],\n",
        "        [ 7, 17]],\n",
        "\n",
        "       [[ 8, 18],\n",
        "        [ 9, 19],\n",
        "        [10, 20],\n",
        "        [11, 21]]])"
       ]
      }
     ],
     "prompt_number": 16
    },
    {
     "cell_type": "heading",
     "level": 3,
     "metadata": {},
     "source": [
      "matplotlib\uff1a\uff12\u6b21\u5143\u914d\u5217\u304b\u3089\u8907\u6570\u306e\u30d7\u30ed\u30c3\u30c8\u3092\u3064\u304f\u308b"
     ]
    },
    {
     "cell_type": "markdown",
     "metadata": {},
     "source": [
      "`plot()` \u306e\uff12\u756a\u76ee\u306e\u5f15\u6570\uff08_y_ \u8ef8\u306e\u5024\uff09\u306b\u3001\uff12\u6b21\u5143\u914d\u5217\u3092\u6e21\u3059\u3068\u3001\u5404\u5217\u3092\u5225\u3005\u306b\u30d7\u30ed\u30c3\u30c8\u3057\u307e\u3059\u3002"
     ]
    },
    {
     "cell_type": "code",
     "collapsed": false,
     "input": [
      "%matplotlib inline\n",
      "import matplotlib.pyplot as plt"
     ],
     "language": "python",
     "metadata": {},
     "outputs": [],
     "prompt_number": 17
    },
    {
     "cell_type": "markdown",
     "metadata": {},
     "source": [
      "0 \u2266 _x_ \uff1c 100 \u306e\u9818\u57df\u3067\u3001_y_ = _x_<sup>_n_</sup> \u306e\u30b0\u30e9\u30d5\u3092\u3001_n_ = 2, 3, 4 \u306b\u3064\u3044\u3066\u63cf\u3044\u3066\u307f\u307e\u3059\u3002"
     ]
    },
    {
     "cell_type": "code",
     "collapsed": false,
     "input": [
      "x = np.arange( 100 ).reshape((100,1))\n",
      "x"
     ],
     "language": "python",
     "metadata": {},
     "outputs": [
      {
       "metadata": {},
       "output_type": "pyout",
       "prompt_number": 18,
       "text": [
        "array([[ 0],\n",
        "       [ 1],\n",
        "       [ 2],\n",
        "       [ 3],\n",
        "       [ 4],\n",
        "       [ 5],\n",
        "       [ 6],\n",
        "       [ 7],\n",
        "       [ 8],\n",
        "       [ 9],\n",
        "       [10],\n",
        "       [11],\n",
        "       [12],\n",
        "       [13],\n",
        "       [14],\n",
        "       [15],\n",
        "       [16],\n",
        "       [17],\n",
        "       [18],\n",
        "       [19],\n",
        "       [20],\n",
        "       [21],\n",
        "       [22],\n",
        "       [23],\n",
        "       [24],\n",
        "       [25],\n",
        "       [26],\n",
        "       [27],\n",
        "       [28],\n",
        "       [29],\n",
        "       [30],\n",
        "       [31],\n",
        "       [32],\n",
        "       [33],\n",
        "       [34],\n",
        "       [35],\n",
        "       [36],\n",
        "       [37],\n",
        "       [38],\n",
        "       [39],\n",
        "       [40],\n",
        "       [41],\n",
        "       [42],\n",
        "       [43],\n",
        "       [44],\n",
        "       [45],\n",
        "       [46],\n",
        "       [47],\n",
        "       [48],\n",
        "       [49],\n",
        "       [50],\n",
        "       [51],\n",
        "       [52],\n",
        "       [53],\n",
        "       [54],\n",
        "       [55],\n",
        "       [56],\n",
        "       [57],\n",
        "       [58],\n",
        "       [59],\n",
        "       [60],\n",
        "       [61],\n",
        "       [62],\n",
        "       [63],\n",
        "       [64],\n",
        "       [65],\n",
        "       [66],\n",
        "       [67],\n",
        "       [68],\n",
        "       [69],\n",
        "       [70],\n",
        "       [71],\n",
        "       [72],\n",
        "       [73],\n",
        "       [74],\n",
        "       [75],\n",
        "       [76],\n",
        "       [77],\n",
        "       [78],\n",
        "       [79],\n",
        "       [80],\n",
        "       [81],\n",
        "       [82],\n",
        "       [83],\n",
        "       [84],\n",
        "       [85],\n",
        "       [86],\n",
        "       [87],\n",
        "       [88],\n",
        "       [89],\n",
        "       [90],\n",
        "       [91],\n",
        "       [92],\n",
        "       [93],\n",
        "       [94],\n",
        "       [95],\n",
        "       [96],\n",
        "       [97],\n",
        "       [98],\n",
        "       [99]])"
       ]
      }
     ],
     "prompt_number": 18
    },
    {
     "cell_type": "code",
     "collapsed": false,
     "input": [
      "y_list = []\n",
      "for i in range( 2, 5 ):\n",
      "    y_list.append( x ** i )\n",
      "\n",
      "y = np.hstack( y_list )\n",
      "y"
     ],
     "language": "python",
     "metadata": {},
     "outputs": [
      {
       "metadata": {},
       "output_type": "pyout",
       "prompt_number": 19,
       "text": [
        "array([[       0,        0,        0],\n",
        "       [       1,        1,        1],\n",
        "       [       4,        8,       16],\n",
        "       [       9,       27,       81],\n",
        "       [      16,       64,      256],\n",
        "       [      25,      125,      625],\n",
        "       [      36,      216,     1296],\n",
        "       [      49,      343,     2401],\n",
        "       [      64,      512,     4096],\n",
        "       [      81,      729,     6561],\n",
        "       [     100,     1000,    10000],\n",
        "       [     121,     1331,    14641],\n",
        "       [     144,     1728,    20736],\n",
        "       [     169,     2197,    28561],\n",
        "       [     196,     2744,    38416],\n",
        "       [     225,     3375,    50625],\n",
        "       [     256,     4096,    65536],\n",
        "       [     289,     4913,    83521],\n",
        "       [     324,     5832,   104976],\n",
        "       [     361,     6859,   130321],\n",
        "       [     400,     8000,   160000],\n",
        "       [     441,     9261,   194481],\n",
        "       [     484,    10648,   234256],\n",
        "       [     529,    12167,   279841],\n",
        "       [     576,    13824,   331776],\n",
        "       [     625,    15625,   390625],\n",
        "       [     676,    17576,   456976],\n",
        "       [     729,    19683,   531441],\n",
        "       [     784,    21952,   614656],\n",
        "       [     841,    24389,   707281],\n",
        "       [     900,    27000,   810000],\n",
        "       [     961,    29791,   923521],\n",
        "       [    1024,    32768,  1048576],\n",
        "       [    1089,    35937,  1185921],\n",
        "       [    1156,    39304,  1336336],\n",
        "       [    1225,    42875,  1500625],\n",
        "       [    1296,    46656,  1679616],\n",
        "       [    1369,    50653,  1874161],\n",
        "       [    1444,    54872,  2085136],\n",
        "       [    1521,    59319,  2313441],\n",
        "       [    1600,    64000,  2560000],\n",
        "       [    1681,    68921,  2825761],\n",
        "       [    1764,    74088,  3111696],\n",
        "       [    1849,    79507,  3418801],\n",
        "       [    1936,    85184,  3748096],\n",
        "       [    2025,    91125,  4100625],\n",
        "       [    2116,    97336,  4477456],\n",
        "       [    2209,   103823,  4879681],\n",
        "       [    2304,   110592,  5308416],\n",
        "       [    2401,   117649,  5764801],\n",
        "       [    2500,   125000,  6250000],\n",
        "       [    2601,   132651,  6765201],\n",
        "       [    2704,   140608,  7311616],\n",
        "       [    2809,   148877,  7890481],\n",
        "       [    2916,   157464,  8503056],\n",
        "       [    3025,   166375,  9150625],\n",
        "       [    3136,   175616,  9834496],\n",
        "       [    3249,   185193, 10556001],\n",
        "       [    3364,   195112, 11316496],\n",
        "       [    3481,   205379, 12117361],\n",
        "       [    3600,   216000, 12960000],\n",
        "       [    3721,   226981, 13845841],\n",
        "       [    3844,   238328, 14776336],\n",
        "       [    3969,   250047, 15752961],\n",
        "       [    4096,   262144, 16777216],\n",
        "       [    4225,   274625, 17850625],\n",
        "       [    4356,   287496, 18974736],\n",
        "       [    4489,   300763, 20151121],\n",
        "       [    4624,   314432, 21381376],\n",
        "       [    4761,   328509, 22667121],\n",
        "       [    4900,   343000, 24010000],\n",
        "       [    5041,   357911, 25411681],\n",
        "       [    5184,   373248, 26873856],\n",
        "       [    5329,   389017, 28398241],\n",
        "       [    5476,   405224, 29986576],\n",
        "       [    5625,   421875, 31640625],\n",
        "       [    5776,   438976, 33362176],\n",
        "       [    5929,   456533, 35153041],\n",
        "       [    6084,   474552, 37015056],\n",
        "       [    6241,   493039, 38950081],\n",
        "       [    6400,   512000, 40960000],\n",
        "       [    6561,   531441, 43046721],\n",
        "       [    6724,   551368, 45212176],\n",
        "       [    6889,   571787, 47458321],\n",
        "       [    7056,   592704, 49787136],\n",
        "       [    7225,   614125, 52200625],\n",
        "       [    7396,   636056, 54700816],\n",
        "       [    7569,   658503, 57289761],\n",
        "       [    7744,   681472, 59969536],\n",
        "       [    7921,   704969, 62742241],\n",
        "       [    8100,   729000, 65610000],\n",
        "       [    8281,   753571, 68574961],\n",
        "       [    8464,   778688, 71639296],\n",
        "       [    8649,   804357, 74805201],\n",
        "       [    8836,   830584, 78074896],\n",
        "       [    9025,   857375, 81450625],\n",
        "       [    9216,   884736, 84934656],\n",
        "       [    9409,   912673, 88529281],\n",
        "       [    9604,   941192, 92236816],\n",
        "       [    9801,   970299, 96059601]])"
       ]
      }
     ],
     "prompt_number": 19
    },
    {
     "cell_type": "code",
     "collapsed": false,
     "input": [
      "fig = plt.figure()\n",
      "plt.plot( x, y )"
     ],
     "language": "python",
     "metadata": {},
     "outputs": [
      {
       "metadata": {},
       "output_type": "pyout",
       "prompt_number": 20,
       "text": [
        "[<matplotlib.lines.Line2D at 0x10408dad0>,\n",
        " <matplotlib.lines.Line2D at 0x10408dd50>,\n",
        " <matplotlib.lines.Line2D at 0x10408df90>]"
       ]
      },
      {
       "metadata": {},
       "output_type": "display_data",
       "png": "[encoded data removed]",
       "text": [
        "<matplotlib.figure.Figure at 0x103f4e810>"
       ]
      }
     ],
     "prompt_number": 20
    },
    {
     "cell_type": "markdown",
     "metadata": {},
     "source": [
      "_x_<sup>4</sup> \u306e\u5024\u304c\u5927\u304d\u3059\u304e\u3066\u4ed6\u306e\u30c8\u30ec\u30fc\u30b9\u304c _x_ \u8ef8\u4ed8\u8fd1\u306b\u6f70\u308c\u3066\u3057\u307e\u3063\u3066\u3044\u308b\u306e\u3067\u3001\uff08\u5c11\u306a\u304f\u3068\u3082\uff09_y_ \u8ef8\u306f\u5bfe\u6570\u306b\u3057\u305f\u65b9\u304c\u826f\u3055\u305d\u3046\u3067\u3059\u3002\n",
      "\n",
      "\u8ef8\u3092\u5bfe\u6570\u306b\u3059\u308b\u306b\u306f\u3001**`xscale('log')`, `yscale('log')`** \u3092\u7528\u3044\u307e\u3059\u3002"
     ]
    },
    {
     "cell_type": "code",
     "collapsed": false,
     "input": [
      "plt.plot( x, y )\n",
      "plt.yscale('log')"
     ],
     "language": "python",
     "metadata": {},
     "outputs": [
      {
       "metadata": {},
       "output_type": "display_data",
       "png": "[encoded data removed]",
       "text": [
        "<matplotlib.figure.Figure at 0x10403e290>"
       ]
      }
     ],
     "prompt_number": 21
    },
    {
     "cell_type": "markdown",
     "metadata": {},
     "source": [
      "\u4e21\u5bfe\u6570\u306b\u3057\u3066\u307f\u307e\u3059\u3002"
     ]
    },
    {
     "cell_type": "code",
     "collapsed": false,
     "input": [
      "plt.plot( x, y )\n",
      "plt.xscale('log')\n",
      "plt.yscale('log')"
     ],
     "language": "python",
     "metadata": {},
     "outputs": [
      {
       "metadata": {},
       "output_type": "display_data",
       "png": "[encoded data removed]",
       "text": [
        "<matplotlib.figure.Figure at 0x104233250>"
       ]
      }
     ],
     "prompt_number": 22
    },
    {
     "cell_type": "heading",
     "level": 2,
     "metadata": {},
     "source": [
      "\u6f14\u7fd2\uff11"
     ]
    },
    {
     "cell_type": "markdown",
     "metadata": {},
     "source": [
      "`plt.plot()` \u3092\uff11\u56de\u3060\u3051\u4f7f\u3063\u3066\u3001\u4ee5\u4e0b\u306e\uff13\u3064\u306e\u4e09\u89d2\u95a2\u6570\u3092\uff11\u3064\u306e `figure` \u30aa\u30d6\u30b8\u30a7\u30af\u30c8\u4e0a\u306b\u30d7\u30ed\u30c3\u30c8\u3059\u308b\u30d7\u30ed\u30b0\u30e9\u30e0\u3092\u66f8\u304d\u306a\u3055\u3044\u3002\n",
      "\n",
      "_y_ = sin( _x_ )  \n",
      "_y_ = cos( _x_ )  \n",
      "_y_ = sin( _x_ )<sup>2</sup> + cos( _x_ )<sup>2</sup>  \n",
      "\n",
      "_x_ \u306e\u7bc4\u56f2\u306f -2\u03c0 \u2266 _x_ \uff1c +2\u03c0 \u3068\u3057\u307e\u3059\u3002"
     ]
    },
    {
     "cell_type": "code",
     "collapsed": false,
     "input": [
      "# \u89e3\u7b54\u6b04\n",
      "\n",
      "A = np.arange( -2, 2.05, 0.05 ).reshape((81,1))\n",
      "\n",
      "y1 = np.sin( [ x * np.pi for x in A ] )\n",
      "y2 = np.cos( [ x * np.pi for x in A ] )\n",
      "y3 = np.sin( [(x * np.pi) for x in A] ) ** 2 + np.cos( [(x * np.pi) for x in A] ) ** 2\n",
      "\n",
      "array_list = [ y1, y2, y3 ]\n",
      "\n",
      "y = np.hstack( array_list )\n",
      "print y\n",
      "\n",
      "fig = plt.figure()\n",
      "plt.plot( A, y )"
     ],
     "language": "python",
     "metadata": {},
     "outputs": [
      {
       "output_type": "stream",
       "stream": "stdout",
       "text": [
        "[[  2.44929360e-16   1.00000000e+00   1.00000000e+00]\n",
        " [  1.56434465e-01   9.87688341e-01   1.00000000e+00]\n",
        " [  3.09016994e-01   9.51056516e-01   1.00000000e+00]\n",
        " [  4.53990500e-01   8.91006524e-01   1.00000000e+00]\n",
        " [  5.87785252e-01   8.09016994e-01   1.00000000e+00]\n",
        " [  7.07106781e-01   7.07106781e-01   1.00000000e+00]\n",
        " [  8.09016994e-01   5.87785252e-01   1.00000000e+00]\n",
        " [  8.91006524e-01   4.53990500e-01   1.00000000e+00]\n",
        " [  9.51056516e-01   3.09016994e-01   1.00000000e+00]\n",
        " [  9.87688341e-01   1.56434465e-01   1.00000000e+00]\n",
        " [  1.00000000e+00  -1.96005386e-15   1.00000000e+00]\n",
        " [  9.87688341e-01  -1.56434465e-01   1.00000000e+00]\n",
        " [  9.51056516e-01  -3.09016994e-01   1.00000000e+00]\n",
        " [  8.91006524e-01  -4.53990500e-01   1.00000000e+00]\n",
        " [  8.09016994e-01  -5.87785252e-01   1.00000000e+00]\n",
        " [  7.07106781e-01  -7.07106781e-01   1.00000000e+00]\n",
        " [  5.87785252e-01  -8.09016994e-01   1.00000000e+00]\n",
        " [  4.53990500e-01  -8.91006524e-01   1.00000000e+00]\n",
        " [  3.09016994e-01  -9.51056516e-01   1.00000000e+00]\n",
        " [  1.56434465e-01  -9.87688341e-01   1.00000000e+00]\n",
        " [ -2.78699994e-15  -1.00000000e+00   1.00000000e+00]\n",
        " [ -1.56434465e-01  -9.87688341e-01   1.00000000e+00]\n",
        " [ -3.09016994e-01  -9.51056516e-01   1.00000000e+00]\n",
        " [ -4.53990500e-01  -8.91006524e-01   1.00000000e+00]\n",
        " [ -5.87785252e-01  -8.09016994e-01   1.00000000e+00]\n",
        " [ -7.07106781e-01  -7.07106781e-01   1.00000000e+00]\n",
        " [ -8.09016994e-01  -5.87785252e-01   1.00000000e+00]\n",
        " [ -8.91006524e-01  -4.53990500e-01   1.00000000e+00]\n",
        " [ -9.51056516e-01  -3.09016994e-01   1.00000000e+00]\n",
        " [ -9.87688341e-01  -1.56434465e-01   1.00000000e+00]\n",
        " [ -1.00000000e+00   4.28007983e-15   1.00000000e+00]\n",
        " [ -9.87688341e-01   1.56434465e-01   1.00000000e+00]\n",
        " [ -9.51056516e-01   3.09016994e-01   1.00000000e+00]\n",
        " [ -8.91006524e-01   4.53990500e-01   1.00000000e+00]\n",
        " [ -8.09016994e-01   5.87785252e-01   1.00000000e+00]\n",
        " [ -7.07106781e-01   7.07106781e-01   1.00000000e+00]\n",
        " [ -5.87785252e-01   8.09016994e-01   1.00000000e+00]\n",
        " [ -4.53990500e-01   8.91006524e-01   1.00000000e+00]\n",
        " [ -3.09016994e-01   9.51056516e-01   1.00000000e+00]\n",
        " [ -1.56434465e-01   9.87688341e-01   1.00000000e+00]\n",
        " [  5.58058960e-15   1.00000000e+00   1.00000000e+00]\n",
        " [  1.56434465e-01   9.87688341e-01   1.00000000e+00]\n",
        " [  3.09016994e-01   9.51056516e-01   1.00000000e+00]\n",
        " [  4.53990500e-01   8.91006524e-01   1.00000000e+00]\n",
        " [  5.87785252e-01   8.09016994e-01   1.00000000e+00]\n",
        " [  7.07106781e-01   7.07106781e-01   1.00000000e+00]\n",
        " [  8.09016994e-01   5.87785252e-01   1.00000000e+00]\n",
        " [  8.91006524e-01   4.53990500e-01   1.00000000e+00]\n",
        " [  9.51056516e-01   3.09016994e-01   1.00000000e+00]\n",
        " [  9.87688341e-01   1.56434465e-01   1.00000000e+00]\n",
        " [  1.00000000e+00  -6.82215041e-15   1.00000000e+00]\n",
        " [  9.87688341e-01  -1.56434465e-01   1.00000000e+00]\n",
        " [  9.51056516e-01  -3.09016994e-01   1.00000000e+00]\n",
        " [  8.91006524e-01  -4.53990500e-01   1.00000000e+00]\n",
        " [  8.09016994e-01  -5.87785252e-01   1.00000000e+00]\n",
        " [  7.07106781e-01  -7.07106781e-01   1.00000000e+00]\n",
        " [  5.87785252e-01  -8.09016994e-01   1.00000000e+00]\n",
        " [  4.53990500e-01  -8.91006524e-01   1.00000000e+00]\n",
        " [  3.09016994e-01  -9.51056516e-01   1.00000000e+00]\n",
        " [  1.56434465e-01  -9.87688341e-01   1.00000000e+00]\n",
        " [ -8.31523031e-15  -1.00000000e+00   1.00000000e+00]\n",
        " [ -1.56434465e-01  -9.87688341e-01   1.00000000e+00]\n",
        " [ -3.09016994e-01  -9.51056516e-01   1.00000000e+00]\n",
        " [ -4.53990500e-01  -8.91006524e-01   1.00000000e+00]\n",
        " [ -5.87785252e-01  -8.09016994e-01   1.00000000e+00]\n",
        " [ -7.07106781e-01  -7.07106781e-01   1.00000000e+00]\n",
        " [ -8.09016994e-01  -5.87785252e-01   1.00000000e+00]\n",
        " [ -8.91006524e-01  -4.53990500e-01   1.00000000e+00]\n",
        " [ -9.51056516e-01  -3.09016994e-01   1.00000000e+00]\n",
        " [ -9.87688341e-01  -1.56434465e-01   1.00000000e+00]\n",
        " [ -1.00000000e+00   9.58626560e-15   1.00000000e+00]\n",
        " [ -9.87688341e-01   1.56434465e-01   1.00000000e+00]\n",
        " [ -9.51056516e-01   3.09016994e-01   1.00000000e+00]\n",
        " [ -8.91006524e-01   4.53990500e-01   1.00000000e+00]\n",
        " [ -8.09016994e-01   5.87785252e-01   1.00000000e+00]\n",
        " [ -7.07106781e-01   7.07106781e-01   1.00000000e+00]\n",
        " [ -5.87785252e-01   8.09016994e-01   1.00000000e+00]\n",
        " [ -4.53990500e-01   8.91006524e-01   1.00000000e+00]\n",
        " [ -3.09016994e-01   9.51056516e-01   1.00000000e+00]\n",
        " [ -1.56434465e-01   9.87688341e-01   1.00000000e+00]\n",
        " [  1.13013901e-14   1.00000000e+00   1.00000000e+00]]\n"
       ]
      },
      {
       "metadata": {},
       "output_type": "pyout",
       "prompt_number": 49,
       "text": [
        "[<matplotlib.lines.Line2D at 0x1051d7850>,\n",
        " <matplotlib.lines.Line2D at 0x1051d7ad0>,\n",
        " <matplotlib.lines.Line2D at 0x1051d7d10>]"
       ]
      },
      {
       "metadata": {},
       "output_type": "display_data",
       "png": "[encoded data removed]",
       "text": [
        "<matplotlib.figure.Figure at 0x105099450>"
       ]
      }
     ],
     "prompt_number": 49
    },
    {
     "cell_type": "code",
     "collapsed": false,
     "input": [],
     "language": "python",
     "metadata": {},
     "outputs": []
    }
   ],
   "metadata": {}
  }
 ]
}