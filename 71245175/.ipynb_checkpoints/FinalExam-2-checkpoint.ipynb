{
 "metadata": {
  "name": "",
  "signature": "sha256:34756062b5ddf27853ae7468fda431a350a25f6b2b5c19bbb1e9740889e0db42"
 },
 "nbformat": 3,
 "nbformat_minor": 0,
 "worksheets": [
  {
   "cells": [
    {
     "cell_type": "heading",
     "level": 1,
     "metadata": {},
     "source": [
      "\u6700\u7d42\u8a66\u9a13\uff08\uff12\uff09"
     ]
    },
    {
     "cell_type": "code",
     "collapsed": false,
     "input": [
      "import imp\n",
      "try:\n",
      "    imp.find_module(\"ecell\")\n",
      "except ImportError:\n",
      "    import sys\n",
      "    sys.path.append(\"/opt/local/lib/python2.7/site-packages\")\n",
      "    sys.path.append(\"/opt/local/Library/Frameworks/Python.framework/Versions/2.7/lib/python2.7/site-packages\")"
     ],
     "language": "python",
     "metadata": {},
     "outputs": [],
     "prompt_number": 1
    },
    {
     "cell_type": "code",
     "collapsed": false,
     "input": [
      "import numpy as np\n",
      "\n",
      "%matplotlib inline\n",
      "import matplotlib.pyplot as plt\n",
      "\n",
      "%install_ext https://raw.githubusercontent.com/naito/ecell3-ipython/master/extensions/ecell3.py\n",
      "%load_ext ecell3"
     ],
     "language": "python",
     "metadata": {},
     "outputs": [
      {
       "output_type": "stream",
       "stream": "stdout",
       "text": [
        "Installed ecell3.py. To use it, type:\n",
        "  %load_ext ecell3\n"
       ]
      }
     ],
     "prompt_number": 2
    },
    {
     "cell_type": "heading",
     "level": 3,
     "metadata": {},
     "source": [
      "\u30e2\u30c7\u30eb\u30d5\u30a1\u30a4\u30eb\u306e\u8aad\u307f\u8fbc\u307f"
     ]
    },
    {
     "cell_type": "code",
     "collapsed": false,
     "input": [
      "loadModel(\"Lec-14.eml\")"
     ],
     "language": "python",
     "metadata": {},
     "outputs": [],
     "prompt_number": 3
    },
    {
     "cell_type": "heading",
     "level": 2,
     "metadata": {},
     "source": [
      "\u554f\u984c\uff12"
     ]
    },
    {
     "cell_type": "markdown",
     "metadata": {},
     "source": [
      "* \u6642\u523b _t_ = 0 \u3067\u306e _S_ \u306e\u5024\uff08`Value`\uff09\u3092\u30011.1 \u306b\u8a2d\u5b9a\u3057\u3001\u6642\u523b _t_ = 50 \u307e\u3067\u30b7\u30df\u30e5\u30ec\u30fc\u30b7\u30e7\u30f3\u3092\u5b9f\u884c\u3057\u3001_X_ \u306e\u5024\uff08`Value`\uff09\u3092\u30d7\u30ed\u30c3\u30c8\u3057\u306a\u3055\u3044\u3002"
     ]
    },
    {
     "cell_type": "code",
     "collapsed": false,
     "input": [
      "target_SystemPath = '/'\n",
      "Target_Properties = { 'Variable':'Value'}\n",
      "Logger_dict = {}\n",
      "\n",
      "for E_type, p in Target_Properties.items():\n",
      "    for E in getEntityList( E_type, target_SystemPath ):\n",
      "        FullPN = ':'.join( ( E_type, target_SystemPath, E, p ) )\n",
      "        Logger_dict[ FullPN ] = createLoggerStub( FullPN )\n",
      "\n",
      "for L in Logger_dict.values():\n",
      "    L.create()\n",
      "\n",
      "S = createEntityStub( 'Variable:/:S' )\n",
      "S.getPropertyList()\n",
      "S['Value'] = 1.1\n",
      "\n",
      "run( 50 )\n",
      "\n",
      "Data_dict = {}\n",
      "for FullPN, Logger in Logger_dict.items():\n",
      "    Data_dict[ FullPN ] = np.array( Logger.getData( 0, 50, 0.1 ) )[ :, :2 ]\n",
      "\n",
      "Variable_FullPN_list = [ FullPN for FullPN in Data_dict.keys() if FullPN.split(':')[ 0 ] == 'Variable' ]\n",
      "\n",
      "plt.figure()\n",
      "for FullPN, d in Data_dict.items():\n",
      "    if FullPN == 'Variable:/:X:Value':\n",
      "        plt.plot( d[ :, 0 ], d[ :, 1 ], label = FullPN.split(':')[ 2 ] )\n",
      "\n",
      "plt.legend( loc = 'upper right' )"
     ],
     "language": "python",
     "metadata": {},
     "outputs": [
      {
       "metadata": {},
       "output_type": "pyout",
       "prompt_number": 4,
       "text": [
        "<matplotlib.legend.Legend at 0x111cce410>"
       ]
      },
      {
       "metadata": {},
       "output_type": "display_data",
       "png": "[encoded data removed]",
       "text": [
        "<matplotlib.figure.Figure at 0x111cc9e50>"
       ]
      }
     ],
     "prompt_number": 4
    },
    {
     "cell_type": "markdown",
     "metadata": {},
     "source": [
      "* \u554f\u984c\uff11\u306e _X_ \u306e\u5024\u306e\u9055\u3044\u3092\u8aac\u660e\u3057\u306a\u3055\u3044\u3002\uff11\u884c\u306e\u7c21\u5358\u306a\u8aac\u660e\u3067\u304b\u307e\u3044\u307e\u305b\u3093\u3002"
     ]
    },
    {
     "cell_type": "markdown",
     "metadata": {},
     "source": [
      "\u89e3\u7b54\u6b04\uff1a\u554f\u984c1\u3067\u306fX\u306e\u5024\u304ct=10\u306e\u3068\u304d2\u304b\u30890\u306b\u4e0b\u304c\u3063\u3066\u3044\u308b\u304c\u3001S\u306e\u5024\u3092\u5909\u5316\u3055\u305b\u308b\u30682\u304b\u30897\u306b\u5897\u52a0\u3059\u308b\u3002"
     ]
    },
    {
     "cell_type": "heading",
     "level": 4,
     "metadata": {},
     "source": [
      "FinalExam-3 \u306b\u9032\u3093\u3067\u304f\u3060\u3055\u3044\u3002"
     ]
    },
    {
     "cell_type": "heading",
     "level": 3,
     "metadata": {},
     "source": [
      "\u554f\u984c\uff12\uff22"
     ]
    },
    {
     "cell_type": "markdown",
     "metadata": {},
     "source": [
      "* \u554f\u984c\uff13\u304c\u96e3\u3057\u304f\u3066\u6b6f\u304c\u7acb\u305f\u306a\u3044\u3068\u611f\u3058\u305f\u3089\u3001\u3053\u3061\u3089\u3092\u89e3\u3044\u3066\u3082\u3044\u3044\u3067\u3059\u3002\u554f\u984c\uff13\u3088\u308a\u306f\u3084\u3084\u6613\u3057\u3044\u306f\u305a\u3067\u3059\u3002\n",
      "* \u5143\u306e\u30e2\u30c7\u30eb\uff08_S_ \u306e\u521d\u671f\u5024 = 1.0 \uff09\u3068\u3001\u554f\u984c\uff12\u3067\u5909\u66f4\u3057\u305f\u30e2\u30c7\u30eb\uff08_S_ \u306e\u521d\u671f\u5024 = 1.1 \uff09\u306e\u9055\u3044\u3092\u3001\uff14\u3064\u306e `Variable` \u306e `Value`\u3001\uff14\u3064\u306e `Process` \u306e `Activity` \uff08\u53cd\u5fdc\u901f\u5ea6\uff09\u3092\u8abf\u3079\u3066\u8aac\u660e\u3057\u306a\u3055\u3044\u3002\n",
      "* \u4e0b\u306e\u89e3\u7b54\u6b04\uff11\u306b\u30b3\u30fc\u30c9\u3092\u3001\u89e3\u7b54\u6b04\uff12\u306b\u8aac\u660e\u3092\u3001\u305d\u308c\u305e\u308c\u66f8\u304d\u306a\u3055\u3044\u3002"
     ]
    },
    {
     "cell_type": "code",
     "collapsed": false,
     "input": [
      "Entity_types = ( 'Variable' )\n",
      "Valiable_list = []\n",
      "\n",
      "a_systempath = '/'\n",
      "\n",
      "a_list = getEntityList( Entity_types, a_systempath )\n",
      "for an_Entity in a_list:\n",
      "    Valiable_list.append('{type}:{path}:{ID}'.format( type = Entity_types, path = a_systempath, ID = an_Entity ))\n",
      "\n",
      "Value_list = []\n",
      "for x in Valiable_list:\n",
      "    X = createEntityStub(x)\n",
      "    X.getPropertyList()\n",
      "    Value_list.append(X.getProperty( 'Value' ))\n",
      "print Value_list\n",
      "\n",
      "\n",
      "S1 = createEntityStub( 'Variable:/:S' )\n",
      "S1.getPropertyList()\n",
      "S1['Value'] = 1.0\n",
      "\n",
      "Valiable_list2 = []\n",
      "b_list = getEntityList( Entity_types, a_systempath )\n",
      "for an_Entity in b_list:\n",
      "    Valiable_list2.append('{type}:{path}:{ID}'.format( type = Entity_types, path = a_systempath, ID = an_Entity ))\n",
      "    Value_list2 = []\n",
      "    for x2 in Valiable_list2:\n",
      "        X2 = createEntityStub(x2)\n",
      "        X2.getPropertyList()\n",
      "        Value_list2.append(X2.getProperty( 'Value' ))\n",
      "print Value_list2\n"
     ],
     "language": "python",
     "metadata": {},
     "outputs": [
      {
       "output_type": "stream",
       "stream": "stdout",
       "text": [
        "[1.0, 1.1, 1.0, 6.881934726205762, 5.38193472673553]\n",
        "[1.0, 1.0, 1.0, 6.881934726205762, 5.38193472673553]\n"
       ]
      }
     ],
     "prompt_number": 5
    },
    {
     "cell_type": "code",
     "collapsed": false,
     "input": [
      "Entity_types = ( 'Variable' )\n",
      "Valiable_list = []\n",
      "\n",
      "a_systempath = '/'\n",
      "\n",
      "a_list = getEntityList( Entity_types, a_systempath )\n",
      "for an_Entity in a_list:\n",
      "    Valiable_list.append('{type}:{path}:{ID}'.format( type = Entity_types, path = a_systempath, ID = an_Entity ))\n",
      "\n",
      "Value_list = []\n",
      "for x in Valiable_list:\n",
      "    X = createEntityStub(x)\n",
      "    X.getPropertyList()\n",
      "    Value_list.append(X.getProperty( 'Value' ))\n",
      "print Value_list\n",
      "\n",
      "Entity_types1 = ( 'Process' )\n",
      "Process_list = []\n",
      "a1_list = getEntityList( Entity_types1, a_systempath )\n",
      "for an_Entity in a1_list:\n",
      "    Process_list.append('{type}:{path}:{ID}'.format( type = Entity_types1, path = a_systempath, ID = an_Entity ))\n",
      "\n",
      "Activity_list = []\n",
      "for x1 in Process_list:\n",
      "    X1 = createEntityStub(x1)\n",
      "    X1.getPropertyList()\n",
      "    Process_list.append(X1.getProperty( 'Activity' ))\n",
      "print Activity_list\n",
      "\n",
      "\n",
      "S1 = createEntityStub( 'Variable:/:S' )\n",
      "S1.getPropertyList()\n",
      "S1['Value'] = 1.0\n",
      "\n",
      "Valiable_list2 = []\n",
      "b_list = getEntityList( Entity_types, a_systempath )\n",
      "for an_Entity in b_list:\n",
      "    Valiable_list2.append('{type}:{path}:{ID}'.format( type = Entity_types, path = a_systempath, ID = an_Entity ))\n",
      "    Value_list2 = []\n",
      "    for x2 in Valiable_list2:\n",
      "        X2 = createEntityStub(x2)\n",
      "        X2.getPropertyList()\n",
      "        Value_list2.append(X2.getProperty( 'Value' ))\n",
      "print Value_list2\n"
     ],
     "language": "python",
     "metadata": {},
     "outputs": [
      {
       "output_type": "stream",
       "stream": "stdout",
       "text": [
        "[1.0, 1.0, 1.0, 6.881934726205762, 5.38193472673553]\n"
       ]
      },
      {
       "ename": "ArgumentError",
       "evalue": "Python argument types in\n    AbstractSimulator.getEntityPropertyList(Simulator, float)\ndid not match C++ signature:\n    getEntityPropertyList(AbstractSimulator {lvalue}, std::__1::basic_string<char, std::__1::char_traits<char>, std::__1::allocator<char> >)",
       "output_type": "pyerr",
       "traceback": [
        "\u001b[0;31m---------------------------------------------------------------------------\u001b[0m\n\u001b[0;31mArgumentError\u001b[0m                             Traceback (most recent call last)",
        "\u001b[0;32m<ipython-input-6-40941e65aa6c>\u001b[0m in \u001b[0;36m<module>\u001b[0;34m()\u001b[0m\n\u001b[1;32m     24\u001b[0m \u001b[0;32mfor\u001b[0m \u001b[0mx1\u001b[0m \u001b[0;32min\u001b[0m \u001b[0mProcess_list\u001b[0m\u001b[0;34m:\u001b[0m\u001b[0;34m\u001b[0m\u001b[0m\n\u001b[1;32m     25\u001b[0m     \u001b[0mX1\u001b[0m \u001b[0;34m=\u001b[0m \u001b[0mcreateEntityStub\u001b[0m\u001b[0;34m(\u001b[0m\u001b[0mx1\u001b[0m\u001b[0;34m)\u001b[0m\u001b[0;34m\u001b[0m\u001b[0m\n\u001b[0;32m---> 26\u001b[0;31m     \u001b[0mX1\u001b[0m\u001b[0;34m.\u001b[0m\u001b[0mgetPropertyList\u001b[0m\u001b[0;34m(\u001b[0m\u001b[0;34m)\u001b[0m\u001b[0;34m\u001b[0m\u001b[0m\n\u001b[0m\u001b[1;32m     27\u001b[0m     \u001b[0mProcess_list\u001b[0m\u001b[0;34m.\u001b[0m\u001b[0mappend\u001b[0m\u001b[0;34m(\u001b[0m\u001b[0mX1\u001b[0m\u001b[0;34m.\u001b[0m\u001b[0mgetProperty\u001b[0m\u001b[0;34m(\u001b[0m \u001b[0;34m'Activity'\u001b[0m \u001b[0;34m)\u001b[0m\u001b[0;34m)\u001b[0m\u001b[0;34m\u001b[0m\u001b[0m\n\u001b[1;32m     28\u001b[0m \u001b[0;32mprint\u001b[0m \u001b[0mActivity_list\u001b[0m\u001b[0;34m\u001b[0m\u001b[0m\n",
        "\u001b[0;32m/opt/local/lib/python2.7/site-packages/ecell/EntityStub.pyc\u001b[0m in \u001b[0;36mgetPropertyList\u001b[0;34m(self)\u001b[0m\n\u001b[1;32m     82\u001b[0m         \u001b[0mThis\u001b[0m \u001b[0mmethod\u001b[0m \u001b[0mcan\u001b[0m \u001b[0mthrow\u001b[0m \u001b[0mexceptions\u001b[0m\u001b[0;34m.\u001b[0m\u001b[0;34m\u001b[0m\u001b[0m\n\u001b[1;32m     83\u001b[0m         \"\"\"\n\u001b[0;32m---> 84\u001b[0;31m         \u001b[0;32mreturn\u001b[0m \u001b[0mself\u001b[0m\u001b[0;34m.\u001b[0m\u001b[0mtheSimulator\u001b[0m\u001b[0;34m(\u001b[0m\u001b[0;34m)\u001b[0m\u001b[0;34m.\u001b[0m\u001b[0mgetEntityPropertyList\u001b[0m\u001b[0;34m(\u001b[0m \u001b[0mself\u001b[0m\u001b[0;34m.\u001b[0m\u001b[0mtheFullIDString\u001b[0m \u001b[0;34m)\u001b[0m\u001b[0;34m\u001b[0m\u001b[0m\n\u001b[0m\u001b[1;32m     85\u001b[0m \u001b[0;34m\u001b[0m\u001b[0m\n\u001b[1;32m     86\u001b[0m     \u001b[0;32mdef\u001b[0m \u001b[0mexists\u001b[0m\u001b[0;34m(\u001b[0m \u001b[0mself\u001b[0m \u001b[0;34m)\u001b[0m\u001b[0;34m:\u001b[0m\u001b[0;34m\u001b[0m\u001b[0m\n",
        "\u001b[0;31mArgumentError\u001b[0m: Python argument types in\n    AbstractSimulator.getEntityPropertyList(Simulator, float)\ndid not match C++ signature:\n    getEntityPropertyList(AbstractSimulator {lvalue}, std::__1::basic_string<char, std::__1::char_traits<char>, std::__1::allocator<char> >)"
       ]
      }
     ],
     "prompt_number": 6
    },
    {
     "cell_type": "markdown",
     "metadata": {},
     "source": [
      "\u89e3\u7b54\u6b04\uff12"
     ]
    }
   ],
   "metadata": {}
  }
 ]
}