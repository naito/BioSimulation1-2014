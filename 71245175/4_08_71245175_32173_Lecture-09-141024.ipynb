{
 "metadata": {
  "name": "",
  "signature": "sha256:bfa1ce1059ebab158d2d1d760722fb39ec4fcc6532c1cb271cb8463bb3faef64"
 },
 "nbformat": 3,
 "nbformat_minor": 0,
 "worksheets": [
  {
   "cells": [
    {
     "cell_type": "heading",
     "level": 1,
     "metadata": {},
     "source": [
      "\u7b2c\uff19\u56de\u3000matplotlib\u3067\u30b0\u30e9\u30d5\u3092\u63cf\u304f"
     ]
    },
    {
     "cell_type": "markdown",
     "metadata": {},
     "source": [
      "**\u4eca\u56de\u306e\u5185\u5bb9\uff08\u76ee\u6a19\uff09**\n",
      "* matplotlib \u3092\u4f7f\u3063\u3066\u30b0\u30e9\u30d5\u3092\u63cf\u3051\u308b\u3088\u3046\u306b\u306a\u308b\n",
      "\n",
      "**\u8eab\u306b\u3064\u3051\u308b\u77e5\u8b58\u30fb\u30b9\u30ad\u30eb**\n",
      "* NumPy \u306e\u914d\u5217\uff08`array`\uff09\u306b\u95a2\u3059\u308b\u57fa\u672c\u30b9\u30ad\u30eb\n",
      "* matplotlib \u3067\u30b0\u30e9\u30d5\u3092\u63cf\u753b\u3055\u305b\u308b\u57fa\u672c\u30b9\u30ad\u30eb"
     ]
    },
    {
     "cell_type": "heading",
     "level": 2,
     "metadata": {},
     "source": [
      "NumPy"
     ]
    },
    {
     "cell_type": "markdown",
     "metadata": {},
     "source": [
      "* Python \u3067\u6570\u5024\u8a08\u7b97\u3092\u52b9\u7387\u7684\u30fb\u9ad8\u901f\u306b\u884c\u3046\u305f\u3081\u306e\u30e2\u30b8\u30e5\u30fc\u30eb\n",
      "* [Wikipedia](http://ja.wikipedia.org/wiki/NumPy \"Wikipedia\")\n",
      "* [\u30d7\u30ed\u30b8\u30a7\u30af\u30c8\u30b5\u30a4\u30c8\uff08\u82f1\u8a9e\uff09](http://www.numpy.org \"numpy.org\")"
     ]
    },
    {
     "cell_type": "markdown",
     "metadata": {},
     "source": [
      "**NumPy\u30e2\u30b8\u30e5\u30fc\u30eb\u3092\u3001`np` \u3068\u3044\u3046\u540d\u524d\u3067\u30a4\u30f3\u30dd\u30fc\u30c8\u3059\u308b**\n",
      "\n",
      "**\u66f8\u5f0f**  \n",
      "`import` _\u30e2\u30b8\u30e5\u30fc\u30eb\u540d_ `as` _\u540d\u524d_\n",
      "\n",
      "* _\u30e2\u30b8\u30e5\u30fc\u30eb\u540d_ \u3067\u6307\u5b9a\u3057\u305f\u30e2\u30b8\u30e5\u30fc\u30eb\u3092\u3001\u4ee5\u4e0b\u306e\u30d7\u30ed\u30b0\u30e9\u30e0\u4e2d\u3067 _\u540d\u524d_ \u3067\u547c\u3073\u51fa\u3059\u3002\n",
      "** \u983b\u7e41\u306b\u5229\u7528\u3059\u308b\u30e2\u30b8\u30e5\u30fc\u30eb\u306b\u77ed\u3044\u540d\u524d\u3092\u3064\u3051\u3066\u304a\u304f\u3068\u3001\u30d7\u30ed\u30b0\u30e9\u30e0\u304c\u30b3\u30f3\u30d1\u30af\u30c8\u3067\u8aad\u307f\u3084\u3059\u304f\u306a\u308b\u3002"
     ]
    },
    {
     "cell_type": "code",
     "collapsed": false,
     "input": [
      "import numpy as np"
     ],
     "language": "python",
     "metadata": {},
     "outputs": [],
     "prompt_number": 34
    },
    {
     "cell_type": "markdown",
     "metadata": {},
     "source": [
      "**\u30b0\u30e9\u30d5\u3092\u66f8\u304f\u4e0a\u3067\u3088\u304f\u5229\u7528\u3059\u308b\u30ea\u30b9\u30c8**\n",
      "* \u6642\u523b\u3068\u5024\u306e\u30da\u30a2\uff08\u30ea\u30b9\u30c8\uff09\u3092\u8981\u7d20\u3068\u3059\u308b\u30ea\u30b9\u30c8\n",
      "* \u3053\u306e\u3088\u3046\u306a\u300c\u30ea\u30b9\u30c8\u306e\u30ea\u30b9\u30c8\u300d\u3092\uff12\u6b21\u5143\u914d\u5217\uff08\u30ea\u30b9\u30c8\uff09\u3068\u547c\u3076\u3002  \n",
      "**\uff12**\u6b21\u5143\u914d\u5217\u3067\u306f\u3001\u3072\u3068\u3064\u306e\u5024\u306b\u305f\u3069\u308a\u7740\u304f\u305f\u3081\u306b\u3001**\uff12**\u3064\u306e\u30a4\u30f3\u30c7\u30c3\u30af\u30b9\u3092\u6307\u5b9a\u3059\u308b\u5fc5\u8981\u304c\u3042\u308b\u3002\n",
      "    * \u4e0b\u306e\u4f8b\u306f\u3001\u65e5\u672c\u306e\u4eba\u53e3\u63a8\u79fb\u306e\u63a8\u5b9a\u7d50\u679c\u3060\u304c\u3001`t = 2` \u306e\u897f\u66a6\u5e74\u3092\u53d6\u308a\u3060\u3059\u306b\u306f  \n",
      "\u3000  \n",
      "`time_series[ 2 ][ 0 ]`  \n",
      "\u3000  \n",
      "\u3068\u3059\u308b\u3002  \n",
      "`t = 4` \u306e\u4eba\u53e3\u3092\u53d6\u308a\u3060\u3059\u306b\u306f  \n",
      "\u3000  \n",
      "`time_series[ 4 ][ 1 ]`  \n",
      "\u3000  \n",
      "\u3068\u3059\u308b\u3002"
     ]
    },
    {
     "cell_type": "code",
     "collapsed": false,
     "input": [
      "# \u4f8b\n",
      "time_series = \\\n",
      "[[1920, 56000000.00000001],\n",
      " [1925, 59551358.23220792],\n",
      " [1930, 63176567.07507177],\n",
      " [1935, 66859331.517565556],\n",
      " [1940, 70582253.99534121],\n",
      " [1945, 74327152.11954822],\n",
      " [1950, 78075408.61438161],\n",
      " [1955, 81808339.4066201],\n",
      " [1960, 85507564.52227959],\n",
      " [1965, 89155366.24459514],\n",
      " [1970, 92735019.89562324],\n",
      " [1975, 96231084.52293614],\n",
      " [1980, 99629643.50041327],\n",
      " [1985, 102918488.31031133],\n",
      " [1990, 106087242.24914062],\n",
      " [1995, 109127424.18436913],\n",
      " [2000, 112032455.51631045],\n",
      " [2005, 114797615.97115213]]\n",
      "\n",
      "print \"t = 2: year = {}\".format( time_series[ 2 ][ 0 ] )\n",
      "print \"t = 4: N    = {}\".format( time_series[ 4 ][ 1 ] )"
     ],
     "language": "python",
     "metadata": {},
     "outputs": [
      {
       "output_type": "stream",
       "stream": "stdout",
       "text": [
        "t = 2: year = 1930\n",
        "t = 4: N    = 70582253.9953\n"
       ]
      }
     ],
     "prompt_number": 35
    },
    {
     "cell_type": "heading",
     "level": 3,
     "metadata": {},
     "source": [
      "NumPy\u306e\u914d\u5217\u3092\u3064\u304f\u3063\u3066\u307f\u308b"
     ]
    },
    {
     "cell_type": "markdown",
     "metadata": {},
     "source": [
      "`time_series` \u3092 NumPy \u306e **\u914d\u5217 `array`** \u578b\u306b\u5909\u63db\u3057\u3066\u307f\u308b\u3002"
     ]
    },
    {
     "cell_type": "code",
     "collapsed": false,
     "input": [
      "time_series_np = np.array( time_series )\n",
      "\n",
      "print time_series_np"
     ],
     "language": "python",
     "metadata": {},
     "outputs": [
      {
       "output_type": "stream",
       "stream": "stdout",
       "text": [
        "[[  1.92000000e+03   5.60000000e+07]\n",
        " [  1.92500000e+03   5.95513582e+07]\n",
        " [  1.93000000e+03   6.31765671e+07]\n",
        " [  1.93500000e+03   6.68593315e+07]\n",
        " [  1.94000000e+03   7.05822540e+07]\n",
        " [  1.94500000e+03   7.43271521e+07]\n",
        " [  1.95000000e+03   7.80754086e+07]\n",
        " [  1.95500000e+03   8.18083394e+07]\n",
        " [  1.96000000e+03   8.55075645e+07]\n",
        " [  1.96500000e+03   8.91553662e+07]\n",
        " [  1.97000000e+03   9.27350199e+07]\n",
        " [  1.97500000e+03   9.62310845e+07]\n",
        " [  1.98000000e+03   9.96296435e+07]\n",
        " [  1.98500000e+03   1.02918488e+08]\n",
        " [  1.99000000e+03   1.06087242e+08]\n",
        " [  1.99500000e+03   1.09127424e+08]\n",
        " [  2.00000000e+03   1.12032456e+08]\n",
        " [  2.00500000e+03   1.14797616e+08]]\n"
       ]
      }
     ],
     "prompt_number": 36
    },
    {
     "cell_type": "markdown",
     "metadata": {},
     "source": [
      "\u8981\u7d20\u306e\u53d6\u308a\u51fa\u3057\u306f\u30ea\u30b9\u30c8\u3068\u540c\u3058\u3088\u3046\u306b\u3067\u304d\u308b\u3002"
     ]
    },
    {
     "cell_type": "code",
     "collapsed": false,
     "input": [
      "print \"t = 2: year = {}\".format( time_series_np[ 2 ][ 0 ] )\n",
      "print \"t = 4: N    = {}\".format( time_series_np[ 4 ][ 1 ] )"
     ],
     "language": "python",
     "metadata": {},
     "outputs": [
      {
       "output_type": "stream",
       "stream": "stdout",
       "text": [
        "t = 2: year = 1930.0\n",
        "t = 4: N    = 70582253.9953\n"
       ]
      }
     ],
     "prompt_number": 37
    },
    {
     "cell_type": "markdown",
     "metadata": {},
     "source": [
      "\u30b3\u30f3\u30de\u3067\u533a\u5207\u3063\u3066\u8907\u6570\u306e\u30a4\u30f3\u30c7\u30c3\u30af\u30b9\u3092\u5217\u8a18\u3059\u308b\u3053\u3068\u3082\u3067\u304d\u308b\u3002**\u2190\u3053\u308c\u304c\u91cd\u8981**"
     ]
    },
    {
     "cell_type": "code",
     "collapsed": false,
     "input": [
      "print \"t = 2: year = {}\".format( time_series_np[ 2, 0 ] )\n",
      "print \"t = 4: N    = {}\".format( time_series_np[ 4, 1 ] )"
     ],
     "language": "python",
     "metadata": {},
     "outputs": [
      {
       "output_type": "stream",
       "stream": "stdout",
       "text": [
        "t = 2: year = 1930.0\n",
        "t = 4: N    = 70582253.9953\n"
       ]
      }
     ],
     "prompt_number": 38
    },
    {
     "cell_type": "heading",
     "level": 3,
     "metadata": {},
     "source": [
      "\u914d\u5217\u306e\u4e00\u90e8\uff08\u30b9\u30e9\u30a4\u30b9\uff09\u3092\u53d6\u308a\u3060\u3059"
     ]
    },
    {
     "cell_type": "markdown",
     "metadata": {},
     "source": [
      "**\u66f8\u5f0f**  \n",
      "`a[` _\u958b\u59cb_`, `_\u7d42\u4e86_`, `_\u9593\u9694_` ]`\n",
      "\n",
      "* \u30ea\u30b9\u30c8\u3067\u3082\u540c\u3058\u3053\u3068\u304c\u3067\u304d\u308b\u3002"
     ]
    },
    {
     "cell_type": "code",
     "collapsed": false,
     "input": [
      "# np.arange() \u306f\u3001range() \u306e NumPy \u7248\u306e\u3088\u3046\u306a\u3082\u306e\n",
      "a = np.arange( 10 )\n",
      "\n",
      "a"
     ],
     "language": "python",
     "metadata": {},
     "outputs": [
      {
       "metadata": {},
       "output_type": "pyout",
       "prompt_number": 39,
       "text": [
        "array([0, 1, 2, 3, 4, 5, 6, 7, 8, 9])"
       ]
      }
     ],
     "prompt_number": 39
    },
    {
     "cell_type": "code",
     "collapsed": false,
     "input": [
      "a[ 1:5 ]"
     ],
     "language": "python",
     "metadata": {},
     "outputs": [
      {
       "metadata": {},
       "output_type": "pyout",
       "prompt_number": 40,
       "text": [
        "array([1, 2, 3, 4])"
       ]
      }
     ],
     "prompt_number": 40
    },
    {
     "cell_type": "code",
     "collapsed": false,
     "input": [
      "a[ 1:7:2 ]"
     ],
     "language": "python",
     "metadata": {},
     "outputs": [
      {
       "metadata": {},
       "output_type": "pyout",
       "prompt_number": 41,
       "text": [
        "array([1, 3, 5])"
       ]
      }
     ],
     "prompt_number": 41
    },
    {
     "cell_type": "markdown",
     "metadata": {},
     "source": [
      "* _\u958b\u59cb_ \u3092\u7701\u7565\u3059\u308b\u3068\u3001\u6700\u521d\u306e\u8981\u7d20\u304b\u3089\u53d6\u308a\u3060\u3059\u3002 \n",
      "* _\u7d42\u4e86_ \u3092\u7701\u7565\u3059\u308b\u3068\u3001\u6700\u5f8c\u306e\u8981\u7d20\u307e\u3067\u53d6\u308a\u3060\u3059\u3002 "
     ]
    },
    {
     "cell_type": "code",
     "collapsed": false,
     "input": [
      "a[ :5 ]"
     ],
     "language": "python",
     "metadata": {},
     "outputs": [
      {
       "metadata": {},
       "output_type": "pyout",
       "prompt_number": 42,
       "text": [
        "array([0, 1, 2, 3, 4])"
       ]
      }
     ],
     "prompt_number": 42
    },
    {
     "cell_type": "code",
     "collapsed": false,
     "input": [
      "# \u7d42\u4e86\u3092\u7701\u7565\n",
      "a[ 3: ]"
     ],
     "language": "python",
     "metadata": {},
     "outputs": [
      {
       "metadata": {},
       "output_type": "pyout",
       "prompt_number": 43,
       "text": [
        "array([3, 4, 5, 6, 7, 8, 9])"
       ]
      }
     ],
     "prompt_number": 43
    },
    {
     "cell_type": "code",
     "collapsed": false,
     "input": [
      "# \u7d42\u4e86\u3092\u7701\u7565\u3057\u3001\u9593\u9694\u3092\u8a2d\u5b9a\n",
      "a[ 3::2 ]"
     ],
     "language": "python",
     "metadata": {},
     "outputs": [
      {
       "metadata": {},
       "output_type": "pyout",
       "prompt_number": 44,
       "text": [
        "array([3, 5, 7, 9])"
       ]
      }
     ],
     "prompt_number": 44
    },
    {
     "cell_type": "code",
     "collapsed": false,
     "input": [
      "# \u7d42\u4e86\u3068\u9593\u9694\u3092\u7701\u7565\u3057\u3066\u3044\u308b\u3053\u3068\u3092\u660e\u8a18\n",
      "a[ 3:: ]"
     ],
     "language": "python",
     "metadata": {},
     "outputs": [
      {
       "metadata": {},
       "output_type": "pyout",
       "prompt_number": 45,
       "text": [
        "array([3, 4, 5, 6, 7, 8, 9])"
       ]
      }
     ],
     "prompt_number": 45
    },
    {
     "cell_type": "heading",
     "level": 4,
     "metadata": {},
     "source": [
      "\uff12\u6b21\u5143\u914d\u5217\u306e\u30b9\u30e9\u30a4\u30b9\u3092\u53d6\u308a\u3060\u3059"
     ]
    },
    {
     "cell_type": "markdown",
     "metadata": {},
     "source": [
      "NumPy\u306e `array` \u3067\u306f\u3001\u4efb\u610f\u306e\u6b21\u5143\u306e\u30b9\u30e9\u30a4\u30b9\u3092\u81ea\u7531\u306b\u5207\u308a\u51fa\u3059\u3053\u3068\u304c\u3067\u304d\u308b\u3002\uff08\u30ea\u30b9\u30c8\u578b\u3067\u306f\u30b7\u30f3\u30d7\u30eb\u306b\u306f\u3067\u304d\u306a\u3044\uff09\n"
     ]
    },
    {
     "cell_type": "code",
     "collapsed": false,
     "input": [
      "a = np.array( range( 30 ))\n",
      "print a"
     ],
     "language": "python",
     "metadata": {},
     "outputs": [
      {
       "output_type": "stream",
       "stream": "stdout",
       "text": [
        "[ 0  1  2  3  4  5  6  7  8  9 10 11 12 13 14 15 16 17 18 19 20 21 22 23 24\n",
        " 25 26 27 28 29]\n"
       ]
      }
     ],
     "prompt_number": 46
    },
    {
     "cell_type": "code",
     "collapsed": false,
     "input": [
      "# \u3053\u3093\u306a\u3053\u3068\u3082\u3067\u304d\u308b\uff0830\u500b\u306e\u8981\u7d20\u304b\u3089\u306a\u308b\u914d\u5217\u3092\uff16\u884c\u00d7\uff15\u5217\u306b\u6574\u5217\u3057\u306a\u304a\u3059\uff09\n",
      "a = a.reshape( ( 6, 5 ) )\n",
      "print a"
     ],
     "language": "python",
     "metadata": {},
     "outputs": [
      {
       "output_type": "stream",
       "stream": "stdout",
       "text": [
        "[[ 0  1  2  3  4]\n",
        " [ 5  6  7  8  9]\n",
        " [10 11 12 13 14]\n",
        " [15 16 17 18 19]\n",
        " [20 21 22 23 24]\n",
        " [25 26 27 28 29]]\n"
       ]
      }
     ],
     "prompt_number": 47
    },
    {
     "cell_type": "markdown",
     "metadata": {},
     "source": [
      "* \uff12\u6b21\u5143\u914d\u5217\u306e\u69cb\u9020\n",
      "![array](./Lec-09.001.png)\n"
     ]
    },
    {
     "cell_type": "markdown",
     "metadata": {},
     "source": [
      "* \u4e0b\u306e\u56f3\u306e\u3088\u3046\u306b\u3001\uff12\u6b21\u5143\u76ee\u3092\u5207\u308a\u53d6\u308a\u305f\u3044\n",
      "![array](./Lec-09.002.png)\n",
      "* \u30b3\u30f3\u30de\u533a\u5207\u308a\u3067\u3001\u305d\u308c\u305e\u308c\u306e\u30a4\u30f3\u30c7\u30c3\u30af\u30b9\u306b\u3001**\u666e\u901a\u306b\u30b9\u30e9\u30a4\u30b9\u306e\u66f8\u5f0f\u3092\u66f8\u3051\u3070\u3088\u3044**\u3002"
     ]
    },
    {
     "cell_type": "code",
     "collapsed": false,
     "input": [
      "a[ :, 1:3 ]"
     ],
     "language": "python",
     "metadata": {},
     "outputs": [
      {
       "metadata": {},
       "output_type": "pyout",
       "prompt_number": 48,
       "text": [
        "array([[ 1,  2],\n",
        "       [ 6,  7],\n",
        "       [11, 12],\n",
        "       [16, 17],\n",
        "       [21, 22],\n",
        "       [26, 27]])"
       ]
      }
     ],
     "prompt_number": 48
    },
    {
     "cell_type": "markdown",
     "metadata": {},
     "source": [
      "* \uff11\u6b21\u5143\u76ee\u306e\u30a4\u30f3\u30c7\u30c3\u30af\u30b9\u306e\u6307\u5b9a\u3057\u305f `:` \u306f\u3001\u30b9\u30e9\u30a4\u30b9\u306e _\u958b\u59cb_, _\u7d42\u4e86_, _\u9593\u9694_ \u3092\u3059\u3079\u3066\u7701\u7565\u3057\u305f\u3053\u3068\u3092\u793a\u3059\u3002  \n",
      "\u3053\u308c\u304c\u306a\u3044\u3068\u3001\u30b9\u30e9\u30a4\u30b9\u3092\u6307\u793a\u3057\u3066\u3044\u308b\u3053\u3068\u304c\u4f1d\u308f\u3089\u305a\u3001\u30a8\u30e9\u30fc\u306b\u306a\u308b\u3002"
     ]
    },
    {
     "cell_type": "markdown",
     "metadata": {},
     "source": [
      "* \u5404\u6b21\u5143\u304b\u3089\u90e8\u5206\u3092\u5207\u308a\u51fa\u3057\u3066\u304f\u308b\u3053\u3068\u3082\u3067\u304d\u308b\u3002\n",
      "![array](./Lec-09.003.png)\n"
     ]
    },
    {
     "cell_type": "code",
     "collapsed": false,
     "input": [
      "a[ 2:5, 2:4 ]"
     ],
     "language": "python",
     "metadata": {},
     "outputs": [
      {
       "metadata": {},
       "output_type": "pyout",
       "prompt_number": 49,
       "text": [
        "array([[12, 13],\n",
        "       [17, 18],\n",
        "       [22, 23]])"
       ]
      }
     ],
     "prompt_number": 49
    },
    {
     "cell_type": "heading",
     "level": 3,
     "metadata": {},
     "source": [
      "\u6f14\u7fd2\uff11"
     ]
    },
    {
     "cell_type": "markdown",
     "metadata": {},
     "source": [
      "\u4ee5\u4e0b\u306e **a** \u301c **d** \u306e\u30b9\u30e9\u30a4\u30b9\u3092\u914d\u5217 `a` \u304b\u3089\u5207\u308a\u53d6\u308a\u306a\u3055\u3044\u3002\n",
      "\n",
      "**a**  \n",
      "![array](./Lec-09.004.png)\n"
     ]
    },
    {
     "cell_type": "code",
     "collapsed": false,
     "input": [
      "a[0:4,0:3]"
     ],
     "language": "python",
     "metadata": {},
     "outputs": [
      {
       "metadata": {},
       "output_type": "pyout",
       "prompt_number": 50,
       "text": [
        "array([[ 0,  1,  2],\n",
        "       [ 5,  6,  7],\n",
        "       [10, 11, 12],\n",
        "       [15, 16, 17]])"
       ]
      }
     ],
     "prompt_number": 50
    },
    {
     "cell_type": "markdown",
     "metadata": {},
     "source": [
      "**b**  \n",
      "![array](./Lec-09.005.png)\n",
      "\n"
     ]
    },
    {
     "cell_type": "code",
     "collapsed": false,
     "input": [
      "a[3:5,0:5]"
     ],
     "language": "python",
     "metadata": {},
     "outputs": [
      {
       "metadata": {},
       "output_type": "pyout",
       "prompt_number": 51,
       "text": [
        "array([[15, 16, 17, 18, 19],\n",
        "       [20, 21, 22, 23, 24]])"
       ]
      }
     ],
     "prompt_number": 51
    },
    {
     "cell_type": "markdown",
     "metadata": {},
     "source": [
      "**c**  \n",
      "![array](./Lec-09.006.png)\n",
      "\n"
     ]
    },
    {
     "cell_type": "code",
     "collapsed": false,
     "input": [
      "a[0:6:2,1:4]"
     ],
     "language": "python",
     "metadata": {},
     "outputs": [
      {
       "metadata": {},
       "output_type": "pyout",
       "prompt_number": 52,
       "text": [
        "array([[ 1,  2,  3],\n",
        "       [11, 12, 13],\n",
        "       [21, 22, 23]])"
       ]
      }
     ],
     "prompt_number": 52
    },
    {
     "cell_type": "markdown",
     "metadata": {},
     "source": [
      "**d**  \n",
      "![array](./Lec-09.007.png)\n"
     ]
    },
    {
     "cell_type": "code",
     "collapsed": false,
     "input": [
      "a[1:6:2,1:5:2]"
     ],
     "language": "python",
     "metadata": {},
     "outputs": [
      {
       "metadata": {},
       "output_type": "pyout",
       "prompt_number": 53,
       "text": [
        "array([[ 6,  8],\n",
        "       [16, 18],\n",
        "       [26, 28]])"
       ]
      }
     ],
     "prompt_number": 53
    },
    {
     "cell_type": "heading",
     "level": 2,
     "metadata": {},
     "source": [
      "matplotlib"
     ]
    },
    {
     "cell_type": "markdown",
     "metadata": {},
     "source": [
      "* Python + NumPy \u306e\u305f\u3081\u306e\u30b0\u30e9\u30d5\u63cf\u753b\u30e9\u30a4\u30d6\u30e9\u30ea\u3002\u975e\u5e38\u306b\u9ad8\u6a5f\u80fd\u3002\n",
      "* [Wikipedia](http://ja.wikipedia.org/wiki/Matplotlib \"Wikipedia\")\n",
      "* [\u30d7\u30ed\u30b8\u30a7\u30af\u30c8\u30b5\u30a4\u30c8\uff08\u82f1\u8a9e\uff09](http://matplotlib.org \"matplotlib.org\")\n",
      "* [\u30c1\u30e5\u30fc\u30c8\u30ea\u30a2\u30eb\uff08\u65e5\u672c\u8a9e\uff09](http://turbare.net/transl/scipy-lecture-notes/intro/matplotlib/matplotlib.html \"Scipy lecture notes\")\n",
      "* \u79d1\u5b66\u6280\u8853\u8a08\u7b97\u30bd\u30d5\u30c8\u306e\u5b9a\u756a\u306e\u3072\u3068\u3064 MATLAB \u30e6\u30fc\u30b6\u5411\u3051\u306b\u3001\u307b\u307c\u540c\u3058\u8a18\u6cd5\u3067 `matplotlib` \u3092\u5229\u7528\u53ef\u80fd\u306b\u3059\u308b `pylab` \u30a4\u30f3\u30bf\u30fc\u30d5\u30a7\u30a4\u30b9\u3092\u5229\u7528\u3067\u304d\u308b\u3002\n"
     ]
    },
    {
     "cell_type": "markdown",
     "metadata": {},
     "source": [
      "* `%matplotlib` \u306f IPython \u306e\u30de\u30b8\u30c3\u30af\u30b3\u30de\u30f3\u30c9  \n",
      "`%matplotlib inline` \u306f\u3001matplotlib \u306e\u5b9f\u884c\u7d50\u679c\u3068\u3057\u3066\u5f97\u3089\u308c\u308b\u30a4\u30e1\u30fc\u30b8\u306a\u3069\u3092\u3001\u30a4\u30f3\u30e9\u30a4\u30f3\uff08notebook\u306e\u5834\u5408\u3001web\u30d6\u30e9\u30a6\u30b6\u306e\u30a6\u30a3\u30f3\u30c9\u30a6\u5185\uff09\u306b\u8868\u793a\u3059\u308b\u3053\u3068\u3092\u6307\u793a\u3057\u3066\u3044\u308b\u3002"
     ]
    },
    {
     "cell_type": "code",
     "collapsed": false,
     "input": [
      "%matplotlib inline"
     ],
     "language": "python",
     "metadata": {},
     "outputs": [],
     "prompt_number": 54
    },
    {
     "cell_type": "markdown",
     "metadata": {},
     "source": [
      "* `matplotlib` \u306e\u30b5\u30d6\u30e2\u30b8\u30e5\u30fc\u30eb `pyplot` \u3092 `plt` \u3068\u3057\u3066\u30a4\u30f3\u30dd\u30fc\u30c8\u3059\u308b"
     ]
    },
    {
     "cell_type": "code",
     "collapsed": false,
     "input": [
      "import matplotlib.pyplot as plt"
     ],
     "language": "python",
     "metadata": {},
     "outputs": [],
     "prompt_number": 55
    },
    {
     "cell_type": "heading",
     "level": 3,
     "metadata": {},
     "source": [
      "figure"
     ]
    },
    {
     "cell_type": "markdown",
     "metadata": {},
     "source": [
      "* `figure` \u30aa\u30d6\u30b8\u30a7\u30af\u30c8\u306f\u3001\uff11\u679a\u306e\u56f3\u3002\n",
      "* \u8907\u6570\u306e\u30b0\u30e9\u30d5\u3092\u8cbc\u308a\u3064\u3051\u305f\u308a\u3001\u6587\u5b57\u3092\u66f8\u304d\u8fbc\u3093\u3060\u308a\u3067\u304d\u308b\u304c\u3001\u3053\u3053\u3067\u306f\u3001\uff11\u3064\u306e `figure` \u306b\uff11\u3064\u306e\u30b0\u30e9\u30d5\u3092\u63cf\u304f\u30b7\u30f3\u30d7\u30eb\u306a\u4f8b\u3092\u793a\u3057\u305f\u3002\n",
      "\n",
      "**`plot()` \u66f8\u5f0f**\n",
      "\n",
      "`plt.plot( _x_, _y_ )`\n",
      "\n",
      "**_x_** \uff1a x \u8ef8\u306e\u30c7\u30fc\u30bf\uff08`np.array` \u30aa\u30d6\u30b8\u30a7\u30af\u30c8\uff09  \n",
      "**_y_** \uff1a y \u8ef8\u306e\u30c7\u30fc\u30bf\uff08`np.array` \u30aa\u30d6\u30b8\u30a7\u30af\u30c8\uff09\n"
     ]
    },
    {
     "cell_type": "code",
     "collapsed": false,
     "input": [
      "fig = plt.figure()\n",
      "\n",
      "# x\u8ef8\u3001y\u8ef8\u306e\u30c7\u30fc\u30bf\u3092\u7528\u610f\u3059\u308b\u3002\n",
      "y = time_series_np[ :, 0 ]  # year\n",
      "N = time_series_np[ :, 1 ]  # population\n",
      "\n",
      "# \u30b0\u30e9\u30d5\u3092\u30d7\u30ed\u30c3\u30c8\u3059\u308b\n",
      "plt.plot( y, N )\n",
      "\n",
      "# x, y\u8ef8\u306b\u30e9\u30d9\u30eb\u3092\u3064\u3051\u308b\n",
      "plt.xlabel('year')\n",
      "plt.ylabel('population')"
     ],
     "language": "python",
     "metadata": {},
     "outputs": [
      {
       "metadata": {},
       "output_type": "pyout",
       "prompt_number": 56,
       "text": [
        "<matplotlib.text.Text at 0x1053fb590>"
       ]
      },
      {
       "metadata": {},
       "output_type": "display_data",
       "png": "[encoded data removed]",
       "text": [
        "<matplotlib.figure.Figure at 0x1038c3d90>"
       ]
      }
     ],
     "prompt_number": 56
    },
    {
     "cell_type": "heading",
     "level": 3,
     "metadata": {},
     "source": [
      "\u8907\u6570\u306e\u30d7\u30ed\u30c3\u30c8\n"
     ]
    },
    {
     "cell_type": "markdown",
     "metadata": {},
     "source": [
      "\u4e0b\u306e\u30c7\u30fc\u30bf\u3092\u52a0\u3048\u3066\u3001\u30b0\u30e9\u30d5\u306b\uff12\u3064\u306e\u30d7\u30ed\u30c3\u30c8\u3092\u91cd\u306d\u3066\u307f\u308b"
     ]
    },
    {
     "cell_type": "code",
     "collapsed": false,
     "input": [
      "time_series2 = \\\n",
      "[[1920, 56000000.00000001],\n",
      " [1925, 63176567.07507177],\n",
      " [1930, 70582253.99534121],\n",
      " [1935, 78075408.61438161],\n",
      " [1940, 85507564.52227959],\n",
      " [1945, 92735019.89562324],\n",
      " [1950, 99629643.50041327],\n",
      " [1955, 106087242.24914062],\n",
      " [1960, 112032455.51631045],\n",
      " [1965, 117419955.64925268],\n",
      " [1970, 122232459.53563386],\n",
      " [1975, 126476506.14450437],\n",
      " [1980, 130177081.29088463],\n",
      " [1985, 133372040.11769678],\n",
      " [1990, 136107008.616697],\n",
      " [1995, 138431149.56899378],\n",
      " [2000, 140393928.5772322],\n",
      " [2005, 142042842.70128906]]\n",
      "\n",
      "time_series_np2 = np.array( time_series2 )"
     ],
     "language": "python",
     "metadata": {},
     "outputs": [],
     "prompt_number": 57
    },
    {
     "cell_type": "code",
     "collapsed": false,
     "input": [
      "y2 = time_series_np2[ :, 0 ]\n",
      "N2 = time_series_np2[ :, 1 ]\n",
      "\n",
      "plt.plot( y, N, label = \"gamma=0.1\" )\n",
      "plt.plot( y2, N2, label = \"gamma=0.2\" )\n",
      "\n",
      "plt.legend( loc = \"best\" )\n",
      "plt.xlabel('year')\n",
      "plt.ylabel('population')"
     ],
     "language": "python",
     "metadata": {},
     "outputs": [
      {
       "metadata": {},
       "output_type": "pyout",
       "prompt_number": 58,
       "text": [
        "<matplotlib.text.Text at 0x1056db590>"
       ]
      },
      {
       "metadata": {},
       "output_type": "display_data",
       "png": "[encoded data removed]",
       "text": [
        "<matplotlib.figure.Figure at 0x103d40250>"
       ]
      }
     ],
     "prompt_number": 58
    },
    {
     "cell_type": "markdown",
     "metadata": {},
     "source": [
      "* `plot()` \u306e\uff13\u756a\u76ee\u306e\u5f15\u6570\u306f\u3001\u51e1\u4f8b\u3092\u8868\u793a\u3059\u308b\u5834\u5408\u306e\u30e9\u30d9\u30eb\uff08\u6587\u5b57\u5217\uff09\n",
      "* `legend()` \u306f\u51e1\u4f8b\u3092\u8868\u793a\u3059\u308b\u95a2\u6570\u3002\u5f15\u6570 `loc` \u3067\u5834\u6240\u3092\u6307\u5b9a\u3059\u308b\u3002  \n",
      "\u6307\u5b9a\u53ef\u80fd\u306a `loc` \u306f\u4ee5\u4e0b\u306e10\u7a2e\u3067\u3001\u30ab\u30c3\u30b3\u5185\u306b\u4ed8\u3057\u305f\u6570\u5b57\u3067\u6307\u5b9a\u3059\u308b\u3053\u3068\u3082\u3067\u304d\u308b\u3002  \n",
      "`best` \u3092\u6307\u5b9a\u3059\u308b\u3068\u3001\u81ea\u52d5\u7684\u306b\u6700\u3082\u30b0\u30e9\u30d5\u306e\u90aa\u9b54\u306b\u306a\u3089\u306a\u3044\u5834\u6240\u3092\u9078\u3093\u3067\u914d\u7f6e\u3059\u308b\u3002\n",
      "    * `best`\uff080\uff09\n",
      "    * `upper right`\uff081\uff09\n",
      "    * `upper left`\uff082\uff09\n",
      "    * `lower left`\uff083\uff09\n",
      "    * `lower right`\uff084\uff09\n",
      "    * `center right`\uff085\uff09\n",
      "    * `center left`\uff086\uff09\n",
      "    * `right`\uff087\uff09\n",
      "    * `lower center`\uff088\uff09\n",
      "    * `upper center`\uff089\uff09\n",
      "    * `center`\uff0810\uff09\n"
     ]
    },
    {
     "cell_type": "heading",
     "level": 3,
     "metadata": {},
     "source": [
      "\u6f14\u7fd22\n"
     ]
    },
    {
     "cell_type": "markdown",
     "metadata": {},
     "source": [
      "_y_ = sin _x_ \u304a\u3088\u3073 _y_ = cos _x_ \u3092\u3001_x_ \u306e\u7bc4\u56f2 0 \u2266 _x_ \u2266 2_\u03c0_ \u3067\u30d7\u30ed\u30c3\u30c8\u3057\u306a\u3055\u3044\u3002\n"
     ]
    },
    {
     "cell_type": "markdown",
     "metadata": {},
     "source": [
      "**\u6e96\u5099**\n",
      "* \u4e09\u89d2\u95a2\u6570 `sin`, `cos` \u3092\u30d7\u30ed\u30b0\u30e9\u30e0\u4e2d\u3067\u5229\u7528\u3067\u304d\u308b\u3088\u3046\u306b\u30a4\u30f3\u30dd\u30fc\u30c8\u3059\u308b\u3002\n",
      "\n",
      "**\u66f8\u5f0f**  \n",
      "`from` _\u30e2\u30b8\u30e5\u30fc\u30eb\u540d_ `import` _\u540d\u524d1_, _\u540d\u524d2_, ...\n",
      "\n",
      "* _\u30e2\u30b8\u30e5\u30fc\u30eb\u540d_ \u3067\u6307\u5b9a\u3057\u305f\u30e2\u30b8\u30e5\u30fc\u30eb\u306e\u4e2d\u306b\u3042\u308b\u540d\u524d\uff08\u30e1\u30bd\u30c3\u30c9\u540d\u3001\u5b9a\u6570\u540d\u306a\u3069\uff09\u3092\u3001 _\u540d\u524d1_, _\u540d\u524d2_, ... \u3067\u6307\u5b9a\u3057\u3066\u30d7\u30ed\u30b0\u30e9\u30e0\u5185\u3067\u5229\u7528\u3067\u304d\u308b\u3088\u3046\u306b\u3059\u308b\u3002\n",
      "\n"
     ]
    },
    {
     "cell_type": "code",
     "collapsed": false,
     "input": [
      "from math import sin, cos"
     ],
     "language": "python",
     "metadata": {},
     "outputs": [],
     "prompt_number": 59
    },
    {
     "cell_type": "markdown",
     "metadata": {},
     "source": [
      "* **`sin( _x_ )`** \uff1a \u4e09\u89d2\u95a2\u6570 sin( _x_ ) \u306e\u5024\u3092\u8fd4\u3059\u95a2\u6570\n",
      "* **`cos( _x_ )`** \uff1a \u4e09\u89d2\u95a2\u6570 cos( _x_ ) \u306e\u5024\u3092\u8fd4\u3059\u95a2\u6570\n"
     ]
    },
    {
     "cell_type": "heading",
     "level": 4,
     "metadata": {},
     "source": [
      "\u30d2\u30f3\u30c8"
     ]
    },
    {
     "cell_type": "markdown",
     "metadata": {},
     "source": [
      "** np.arange() \u306e\u8a73\u7d30\u306a\u66f8\u5f0f**\n",
      "`np.arange(` _\u958b\u59cb_`, `_\u7d42\u4e86_`, `_\u9593\u9694_` )`\n"
     ]
    },
    {
     "cell_type": "code",
     "collapsed": false,
     "input": [
      "np.arange( 0, 1, 0.1 )"
     ],
     "language": "python",
     "metadata": {},
     "outputs": [
      {
       "metadata": {},
       "output_type": "pyout",
       "prompt_number": 60,
       "text": [
        "array([ 0. ,  0.1,  0.2,  0.3,  0.4,  0.5,  0.6,  0.7,  0.8,  0.9])"
       ]
      }
     ],
     "prompt_number": 60
    },
    {
     "cell_type": "markdown",
     "metadata": {},
     "source": [
      "**\u30ea\u30b9\u30c8\u5185\u5305\u8868\u8a18**\n",
      "\u30ea\u30b9\u30c8 _A_ \u304b\u3089\u65b0\u305f\u306a\u30ea\u30b9\u30c8 _B_ \u3092\u3064\u304f\u308b\n",
      "\n",
      "**\u66f8\u5f0f**  \n",
      "`[ _\u30ea\u30b9\u30c8B \u306e\u8981\u7d20\u306e\u4f5c\u308a\u65b9\u3092\u8a18\u8ff0\u3057\u305f\u5f0f_ for _\u5909\u6570_ in _\u30ea\u30b9\u30c8A_ ]`\n",
      "\n",
      "* NumPy \u306e `array` \u3067\u3082\u30ea\u30b9\u30c8\u3068\u540c\u3058\u3088\u3046\u306b\u52d5\u4f5c\u3059\u308b\n",
      "* \u4e0b\u306e\u4f8b\u3067\u306f `array` A \u304b\u3089\u3001\u5404\u8981\u7d20\u3092\uff15\u500d\u3057\u305f\u8981\u7d20\u3092\u3082\u3064 `array` \u3092\u4f5c\u6210\u3057\u3066\u3044\u308b\n",
      "* \u30ea\u30b9\u30c8\u5185\u5305\u8868\u8a18\u306e\u623b\u308a\u5024\u306f\u30ea\u30b9\u30c8\u306a\u306e\u3067\u3001`np.array` \u306b\u5909\u63db\u3057\u3066\u3044\u308b\n"
     ]
    },
    {
     "cell_type": "markdown",
     "metadata": {},
     "source": [
      "**\u5186\u5468\u7387 _\u03c0_** \u306f\u3001NumPy \u306b\u5185\u8535\u3055\u308c\u3066\u3044\u308b\u3002\n",
      "\n",
      "**`np.pi`** \u3067\u5229\u7528\u3067\u304d\u308b\u3002"
     ]
    },
    {
     "cell_type": "code",
     "collapsed": false,
     "input": [
      "print np.pi"
     ],
     "language": "python",
     "metadata": {},
     "outputs": [
      {
       "output_type": "stream",
       "stream": "stdout",
       "text": [
        "3.14159265359\n"
       ]
      }
     ],
     "prompt_number": 61
    },
    {
     "cell_type": "code",
     "collapsed": false,
     "input": [
      "A = np.arange( 0, 10, 1 )\n",
      "\n",
      "np.array( [ x * 5.0 for x in A ] )"
     ],
     "language": "python",
     "metadata": {},
     "outputs": [
      {
       "metadata": {},
       "output_type": "pyout",
       "prompt_number": 62,
       "text": [
        "array([  0.,   5.,  10.,  15.,  20.,  25.,  30.,  35.,  40.,  45.])"
       ]
      }
     ],
     "prompt_number": 62
    },
    {
     "cell_type": "code",
     "collapsed": false,
     "input": [
      "A = np.arange( 0, 10, 1 )\n",
      "\n",
      "np.array( [ x * 5.0 for x in A ] )\n",
      "print A"
     ],
     "language": "python",
     "metadata": {},
     "outputs": [
      {
       "output_type": "stream",
       "stream": "stdout",
       "text": [
        "[0 1 2 3 4 5 6 7 8 9]\n"
       ]
      }
     ],
     "prompt_number": 63
    },
    {
     "cell_type": "markdown",
     "metadata": {},
     "source": [
      "* \u540c\u3058\u3053\u3068\u3092 for \u6587\u3092\u4f7f\u3063\u3066\u66f8\u304f\u3068\u3001\u4ee5\u4e0b\u306e\u3088\u3046\u306b\u306a\u308b\u3002  \n",
      "    * `np.array` \u3067\u306f\u306a\u304f\u3001\u30ea\u30b9\u30c8\u3092\u4f7f\u3044\u3001\u6700\u5f8c\u306b `np.array` \u306b\u5909\u63db\u3057\u3066\u3044\u308b\n",
      "    * `np.array` \u306b\u306f\u3001\u95a2\u6570 `append()` \u304c\u5b58\u5728\u3057\u306a\u3044\n",
      "\n"
     ]
    },
    {
     "cell_type": "code",
     "collapsed": false,
     "input": [
      "A = np.arange( 0, 10, 1 )\n",
      "\n",
      "B = []\n",
      "\n",
      "for x in A:\n",
      "    B.append( x * 5.0 )\n",
      "\n",
      "np.array( B )"
     ],
     "language": "python",
     "metadata": {},
     "outputs": [
      {
       "metadata": {},
       "output_type": "pyout",
       "prompt_number": 64,
       "text": [
        "array([  0.,   5.,  10.,  15.,  20.,  25.,  30.,  35.,  40.,  45.])"
       ]
      }
     ],
     "prompt_number": 64
    },
    {
     "cell_type": "code",
     "collapsed": false,
     "input": [
      "A = np.arange( 0, 2, 0.01 )\n",
      "A1 = np.array([ i * np.pi for i in A])\n",
      "sin = [sin(i * np.pi) for i in A]\n",
      "cos = [cos(i * np.pi) for i in A]\n",
      "\n",
      "y = sin\n",
      "y2 = cos\n",
      "N = A1\n",
      "\n",
      "plt.plot( N, y, label = \"sin x\" )\n",
      "plt.plot( N, y2, label = \"cos x\" )\n",
      "\n",
      "plt.legend( loc = \"best\" )\n",
      "plt.xlabel('x')\n",
      "plt.ylabel('y')"
     ],
     "language": "python",
     "metadata": {},
     "outputs": [
      {
       "metadata": {},
       "output_type": "pyout",
       "prompt_number": 65,
       "text": [
        "<matplotlib.text.Text at 0x1058252d0>"
       ]
      },
      {
       "metadata": {},
       "output_type": "display_data",
       "png": "[encoded data removed]",
       "text": [
        "<matplotlib.figure.Figure at 0x10575eb90>"
       ]
      }
     ],
     "prompt_number": 65
    },
    {
     "cell_type": "markdown",
     "metadata": {},
     "source": [
      "**\u89e3\u7b54\u4f8b**  \n",
      "![sin x](./Ex02.png)\n"
     ]
    }
   ],
   "metadata": {}
  }
 ]
}