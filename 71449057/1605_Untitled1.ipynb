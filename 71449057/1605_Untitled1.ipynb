{
 "metadata": {
  "name": "",
  "signature": "sha256:38f5d7ad833e604357fb14bc19f36c2a6aee6c27b2b2707215bf51fbe15d1082"
 },
 "nbformat": 3,
 "nbformat_minor": 0,
 "worksheets": [
  {
   "cells": [
    {
     "cell_type": "code",
     "collapsed": false,
     "input": [
      "import numpy as np"
     ],
     "language": "python",
     "metadata": {},
     "outputs": [],
     "prompt_number": 158
    },
    {
     "cell_type": "code",
     "collapsed": false,
     "input": [
      "import numpy as np\n",
      "%matplotlib inline\n",
      "from pylab import *\n",
      "import matplotlib.pyplot as plt"
     ],
     "language": "python",
     "metadata": {},
     "outputs": [],
     "prompt_number": 159
    },
    {
     "cell_type": "code",
     "collapsed": false,
     "input": [
      "def Verhulst( N0, Ninf, gamma ,t):\n",
      "    return Ninf / (1.0 + ((Ninf / N0) - 1.0)*(math.exp(-gamma*t)))\n",
      "    "
     ],
     "language": "python",
     "metadata": {},
     "outputs": [],
     "prompt_number": 160
    },
    {
     "cell_type": "code",
     "collapsed": false,
     "input": [
      "Ninf = 0.00000088\n",
      "gamma = 0.061\n",
      "N0 = 5.60e7\n",
      "for t in range(20):\n",
      "    y = 1915 + t * 5\n",
      "    N = Verhulst( N0, Ninf, gamma, t )\n",
      "    print \"Year{}: N = {:.2e}\".format(y, N)"
     ],
     "language": "python",
     "metadata": {},
     "outputs": [
      {
       "output_type": "stream",
       "stream": "stdout",
       "text": [
        "Year1915: N = 5.58e+07\n",
        "Year1920: N = 1.49e-05\n",
        "Year1925: N = 7.66e-06\n",
        "Year1930: N = 5.26e-06\n",
        "Year1935: N = 4.06e-06\n",
        "Year1940: N = 3.35e-06\n",
        "Year1945: N = 2.87e-06\n",
        "Year1950: N = 2.53e-06\n",
        "Year1955: N = 2.28e-06\n",
        "Year1960: N = 2.08e-06\n",
        "Year1965: N = 1.93e-06\n",
        "Year1970: N = 1.80e-06\n",
        "Year1975: N = 1.70e-06\n",
        "Year1980: N = 1.61e-06\n",
        "Year1985: N = 1.53e-06\n",
        "Year1990: N = 1.47e-06\n",
        "Year1995: N = 1.41e-06\n",
        "Year2000: N = 1.36e-06\n",
        "Year2005: N = 1.32e-06\n",
        "Year2010: N = 1.28e-06\n"
       ]
      }
     ],
     "prompt_number": 161
    },
    {
     "cell_type": "code",
     "collapsed": false,
     "input": [
      "N_real = np.array( [\n",
      "    [1920,  5.60],\n",
      "    [1925,  5.97],\n",
      "    [1930,  6.45],\n",
      "    [1935,  6.93],\n",
      "    [1940,  7.19],\n",
      "    [1945,  7.21],\n",
      "    [1950,  8.41],\n",
      "    [1955,  9.01],\n",
      "    [1960,  9.43],\n",
      "    [1965,  9.92],\n",
      "    [1970, 10.47],\n",
      "    [1975, 11.19],\n",
      "    [1980, 11.71],\n",
      "    [1985, 12.10],\n",
      "    [1990, 12.36],\n",
      "    [1995, 12.56],\n",
      "    [2000, 12.69],\n",
      "    [2005, 12.78] ])"
     ],
     "language": "python",
     "metadata": {},
     "outputs": [],
     "prompt_number": 162
    },
    {
     "cell_type": "code",
     "collapsed": false,
     "input": [
      "_data= []\n",
      "for t in range(1,16):\n",
      "    y = 1920 + t*5\n",
      "    N = N0 * math.exp( gamma*t )\n",
      "    _data.append([y,N])\n",
      "    \n",
      "N_Verhulst = np.array(_data )"
     ],
     "language": "python",
     "metadata": {},
     "outputs": [],
     "prompt_number": 163
    },
    {
     "cell_type": "code",
     "collapsed": false,
     "input": [
      "fig = plt.figure()\n",
      "ax = fig.add_axes([0.1, 0.1, 0.8, 0.8])\n",
      "\n",
      "ax.plot( N_real[ :,0], N_real[ :,1], label = \"Real stat\")\n",
      "ax.plot( N_Verhulst[ :, 0], N_Verhulst[ :,1] / 1.0e7, label = \"My Verhulst Model\")\n",
      "\n",
      "ax.legend( loc = 2)\n",
      "ax.set_xlabel('year')\n",
      "ax.set_ylabel('popultion (x 1e7)')"
     ],
     "language": "python",
     "metadata": {},
     "outputs": [
      {
       "metadata": {},
       "output_type": "pyout",
       "prompt_number": 164,
       "text": [
        "<matplotlib.text.Text at 0x1114d1790>"
       ]
      },
      {
       "metadata": {},
       "output_type": "display_data",
       "png": "[encoded data removed]",
       "text": [
        "<matplotlib.figure.Figure at 0x11151c890>"
       ]
      }
     ],
     "prompt_number": 164
    }
   ],
   "metadata": {}
  }
 ]
}