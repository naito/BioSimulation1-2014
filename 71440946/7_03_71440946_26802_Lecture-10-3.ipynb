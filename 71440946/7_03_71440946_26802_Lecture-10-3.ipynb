{
 "metadata": {
  "name": "",
  "signature": "sha256:7cfa29310d0f0b22fa897570df1003d4ce8ea44eeb81467a66f739ad4597594e"
 },
 "nbformat": 3,
 "nbformat_minor": 0,
 "worksheets": [
  {
   "cells": [
    {
     "cell_type": "heading",
     "level": 1,
     "metadata": {},
     "source": [
      "\u7b2c10\u56de\u3000\u30b7\u30df\u30e5\u30ec\u30fc\u30b7\u30e7\u30f3\u3072\u3068\u3081\u3050\u308a\uff08\uff13\uff09\n"
     ]
    },
    {
     "cell_type": "markdown",
     "metadata": {},
     "source": [
      "E-Cell \u306e\u30e2\u30c7\u30eb\u3092\u8aad\u307f\u8fbc\u3093\u3067\u3001\u30b7\u30df\u30e5\u30ec\u30fc\u30b7\u30e7\u30f3\u3092\u5b9f\u884c\u3057\u3001\u305d\u306e\u7d50\u679c\u3092\u30b0\u30e9\u30d5\u306b\u63cf\u304d\u307e\u3059\u3002\n",
      "\n",
      "\u7b2c\uff12\u56de\uff08`Lecture-02.ipynb`\uff09\u306e\u5185\u5bb9\u3092\u3001\u5404\u6bb5\u968e\u3092\u7406\u89e3\u3057\u306a\u304c\u3089\u5b9f\u884c\u3057\u307e\u3059\u3002"
     ]
    },
    {
     "cell_type": "code",
     "collapsed": false,
     "input": [
      "import numpy as np\n",
      "import sys "
     ],
     "language": "python",
     "metadata": {},
     "outputs": [],
     "prompt_number": 1
    },
    {
     "cell_type": "code",
     "collapsed": false,
     "input": [
      "sys.path.append('/opt/local/lib/python2.7/site-packages')\n",
      "%matplotlib inline\n",
      "import matplotlib.pyplot as plt"
     ],
     "language": "python",
     "metadata": {},
     "outputs": [],
     "prompt_number": 2
    },
    {
     "cell_type": "heading",
     "level": 2,
     "metadata": {},
     "source": [
      "IPython \u3067 E-Cell \u306e\u6a5f\u80fd\u3092\u4f7f\u3048\u308b\u3088\u3046\u306b\u6a5f\u80fd\u3092\u62e1\u5f35\u3059\u308b"
     ]
    },
    {
     "cell_type": "markdown",
     "metadata": {},
     "source": [
      "Web\u4e0a\u306b\u516c\u958b\u3055\u308c\u3066\u3044\u308b\u6a5f\u80fd\u62e1\u5f35\u3092\u30a4\u30f3\u30b9\u30c8\u30fc\u30eb\uff08`%install_ext`\uff09\u3057\u3001\u8aad\u307f\u8fbc\u3080\uff08`%load_ext`\uff09"
     ]
    },
    {
     "cell_type": "code",
     "collapsed": false,
     "input": [
      "%install_ext https://raw.githubusercontent.com/naito/ecell3-ipython/master/extensions/ecell3.py"
     ],
     "language": "python",
     "metadata": {},
     "outputs": [
      {
       "output_type": "stream",
       "stream": "stdout",
       "text": [
        "Installed ecell3.py. To use it, type:\n",
        "  %load_ext ecell3\n"
       ]
      }
     ],
     "prompt_number": 3
    },
    {
     "cell_type": "code",
     "collapsed": false,
     "input": [
      "%load_ext ecell3"
     ],
     "language": "python",
     "metadata": {},
     "outputs": [],
     "prompt_number": 4
    },
    {
     "cell_type": "heading",
     "level": 2,
     "metadata": {},
     "source": [
      "\u30e2\u30c7\u30eb\u30d5\u30a1\u30a4\u30eb\u3092\u8aad\u307f\u8fbc\u3080"
     ]
    },
    {
     "cell_type": "markdown",
     "metadata": {},
     "source": [
      "`%ls` \u3067\u3001\u30d5\u30a9\u30eb\u30c0\u5185\u306b\u30e2\u30c7\u30eb\u30d5\u30a1\u30a4\u30eb `BIOMD0000000005.eml` \u304c\u3042\u308b\u304b\u3001\u78ba\u8a8d\u3002\u306a\u3051\u308c\u3070\u914d\u7f6e\u3059\u308b\u3002"
     ]
    },
    {
     "cell_type": "code",
     "collapsed": false,
     "input": [
      "%ls"
     ],
     "language": "python",
     "metadata": {},
     "outputs": [
      {
       "output_type": "stream",
       "stream": "stdout",
       "text": [
        "BIOMD0000000005.em      Lec-09.007.png          Lecture-0610280.ipynb\r\n",
        "\u001b[31mBIOMD0000000005.eml\u001b[m\u001b[m*    Lec-11-Eqns.png         Lecture-08.ipynb\r\n",
        "Ex02.png                Lec-11-Tyson1991.png    Lecture-09.ipynb\r\n",
        "Lec-09.001.png          Lecture-01-Copy0.ipynb  Lecture-10-1.ipynb\r\n",
        "Lec-09.002.png          \u001b[31mLecture-01.ipynb\u001b[m\u001b[m*       Lecture-10-2.ipynb\r\n",
        "Lec-09.003.png          Lecture-02.ipynb        Lecture-10-3.ipynb\r\n",
        "Lec-09.004.png          Lecture-04-Copy0.ipynb  Lecture-10-3ori.ipynb\r\n",
        "Lec-09.005.png          Lecture-04.ipynb        Lecture-11.ipynb\r\n",
        "Lec-09.006.png          Lecture-05.ipynb        Tyson1991.em\r\n"
       ]
      }
     ],
     "prompt_number": 5
    },
    {
     "cell_type": "markdown",
     "metadata": {},
     "source": [
      "\u95a2\u6570 `loadModel( _\u30e2\u30c7\u30eb\u30d5\u30a1\u30a4\u30eb\u540d_ )` \u3067\u30e2\u30c7\u30eb\u30d5\u30a1\u30a4\u30eb\u3092\u8aad\u307f\u8fbc\u3080\u3002"
     ]
    },
    {
     "cell_type": "code",
     "collapsed": false,
     "input": [
      "loadModel(\"BIOMD0000000005.eml\")"
     ],
     "language": "python",
     "metadata": {},
     "outputs": [],
     "prompt_number": 6
    },
    {
     "cell_type": "heading",
     "level": 2,
     "metadata": {},
     "source": [
      "\u73fe\u6642\u523b\u3092\u77e5\u308b"
     ]
    },
    {
     "cell_type": "markdown",
     "metadata": {},
     "source": [
      "* \u30b7\u30df\u30e5\u30ec\u30fc\u30bf\u5185\u306e\u73fe\u6642\u523b\u3092\u77e5\u308b\u306b\u306f\u3001**`getCurrentTime()`** \uff08Fundamentals p.94\uff09\u3092\u5229\u7528\u3057\u307e\u3059\u3002"
     ]
    },
    {
     "cell_type": "code",
     "collapsed": false,
     "input": [
      "getCurrentTime()"
     ],
     "language": "python",
     "metadata": {},
     "outputs": [
      {
       "metadata": {},
       "output_type": "pyout",
       "prompt_number": 7,
       "text": [
        "0.0"
       ]
      }
     ],
     "prompt_number": 7
    },
    {
     "cell_type": "heading",
     "level": 2,
     "metadata": {},
     "source": [
      "\u30e2\u30c7\u30eb\u306e\u69cb\u6210\u3092\u78ba\u8a8d\u3059\u308b"
     ]
    },
    {
     "cell_type": "markdown",
     "metadata": {},
     "source": [
      "* \u30e2\u30c7\u30eb\u4e2d\u306b\u5b58\u5728\u3059\u308b **`Entity`** \u3092\u3059\u3079\u3066\u30ea\u30b9\u30c8\u30a2\u30c3\u30d7\u3057\u3066\u307f\u307e\u3059\u3002\n",
      "* \u30e1\u30bd\u30c3\u30c9 **`getEntityList( `_`entitytype`_`, `_`systempath`_` )`** \u3092\u5229\u7528\u3057\u307e\u3059\u3002\n",
      "    * E-Cell Fundamentals p.93\u301c \u306b `ecell3` \u6a5f\u80fd\u62e1\u5f35\u3092\u8aad\u307f\u8fbc\u3093\u3060\u3042\u3068\u306b\u5229\u7528\u3067\u304d\u308b\u95a2\u6570\u306e\u30ea\u30d5\u30a1\u30ec\u30f3\u30b9\u304c\u3042\u308a\u307e\u3059\u3002\n",
      "* E-Cell \u306e\u30e2\u30c7\u30eb\u306b\u306f\u3001\u5fc5\u305a\u30eb\u30fc\u30c8\u30b7\u30b9\u30c6\u30e0\uff08`System::/`\uff09\u304c\u5b58\u5728\u3059\u308b\u306e\u3067\u3001\u3053\u3053\u3092\u8db3\u304c\u304b\u308a\u306b\u69cb\u6210\u3092\u8abf\u3079\u308b\u3053\u3068\u304c\u3067\u304d\u307e\u3059\u3002"
     ]
    },
    {
     "cell_type": "code",
     "collapsed": false,
     "input": [
      "getEntityList( 'System', '/' ) #SBMLRule\u306f\u3001\u5f0f\u3068\u304b\u3092\u683c\u7d0d\u3057\u3066\u3044\u308b\n"
     ],
     "language": "python",
     "metadata": {},
     "outputs": [
      {
       "metadata": {},
       "output_type": "pyout",
       "prompt_number": 8,
       "text": [
        "('SBMLRule', 'cell')"
       ]
      }
     ],
     "prompt_number": 8
    },
    {
     "cell_type": "code",
     "collapsed": false,
     "input": [
      "Entity_types = ( 'System', 'Variable', 'Process' )\n",
      "\n",
      "a_systempath = '/cell'\n",
      "\n",
      "for a_type in Entity_types:\n",
      "    a_list = getEntityList( a_type, a_systempath )\n",
      "    \n",
      "    for an_Entity in a_list:\n",
      "        print '{type}:{path}:{ID}'.format( type = a_type, path = a_systempath, ID = an_Entity )"
     ],
     "language": "python",
     "metadata": {},
     "outputs": [
      {
       "output_type": "stream",
       "stream": "stdout",
       "text": [
        "Variable:/cell:C2\n",
        "Variable:/cell:CP\n",
        "Variable:/cell:CT\n",
        "Variable:/cell:Dimensions\n",
        "Variable:/cell:EmptySet\n",
        "Variable:/cell:M\n",
        "Variable:/cell:SIZE\n",
        "Variable:/cell:Y\n",
        "Variable:/cell:YP\n",
        "Variable:/cell:YT\n",
        "Variable:/cell:pM\n"
       ]
      }
     ],
     "prompt_number": 9
    },
    {
     "cell_type": "heading",
     "level": 3,
     "metadata": {},
     "source": [
      "\u6f14\u7fd2\uff13\n"
     ]
    },
    {
     "cell_type": "markdown",
     "metadata": {},
     "source": [
      "\u30e2\u30c7\u30eb\u4e2d\u306e\u3059\u3079\u3066\u306e `Variable` \u3068 `Process` \u3092\u3001\u914d\u7f6e\u3055\u308c\u305f `System` \u3054\u3068\u306b\u30ea\u30b9\u30c8\u3057\u3066\u304f\u3060\u3055\u3044\u3002"
     ]
    },
    {
     "cell_type": "code",
     "collapsed": false,
     "input": [
      "# \u89e3\u7b54\u6b04\n",
      "Entity_types = ('Variable','Process')\n",
      "\n",
      "systempathes = ('/', '/SBMLRule', '/cell')\n",
      "\n",
      "for a_systempath in systempathes:\n",
      "    print a_systempath\n",
      "    for a_types in Entity_types:\n",
      "        a_list = getEntityList( a_types, a_systempath )\n",
      "        \n",
      "        for an_Entity in a_list:\n",
      "            print'{type}:{path}:{ID}'.format( type = a_types, path = a_systempath, ID = an_Entity)"
     ],
     "language": "python",
     "metadata": {},
     "outputs": [
      {
       "output_type": "stream",
       "stream": "stdout",
       "text": [
        "/\n",
        "Variable:/:SIZE\n",
        "Process:/:Reaction1\n",
        "Process:/:Reaction2\n",
        "Process:/:Reaction3\n",
        "Process:/:Reaction4\n",
        "Process:/:Reaction5\n",
        "Process:/:Reaction6\n",
        "Process:/:Reaction7\n",
        "Process:/:Reaction8\n",
        "Process:/:Reaction9\n",
        "/SBMLRule\n",
        "Process:/SBMLRule:Assignment_CT\n",
        "Process:/SBMLRule:Assignment_YT\n",
        "/cell\n",
        "Variable:/cell:C2\n",
        "Variable:/cell:CP\n",
        "Variable:/cell:CT\n",
        "Variable:/cell:Dimensions\n",
        "Variable:/cell:EmptySet\n",
        "Variable:/cell:M\n",
        "Variable:/cell:SIZE\n",
        "Variable:/cell:Y\n",
        "Variable:/cell:YP\n",
        "Variable:/cell:YT\n",
        "Variable:/cell:pM\n"
       ]
      }
     ],
     "prompt_number": 10
    },
    {
     "cell_type": "heading",
     "level": 2,
     "metadata": {},
     "source": [
      "\u30e2\u30c7\u30eb\u5185\u306e\u5c5e\u6027\u5024\u3092\u53d6\u308a\u3060\u3059\n"
     ]
    },
    {
     "cell_type": "markdown",
     "metadata": {},
     "source": [
      "* \u30e1\u30bd\u30c3\u30c9 **`createEntityStub( `_`fullid`_` )`** \uff08Fundamentals p.96\uff09\u3092\u5229\u7528\u3057\u307e\u3059\u3002\n",
      "* **`Entity`** \u30aa\u30d6\u30b8\u30a7\u30af\u30c8\u304c\u6301\u3064\u5c5e\u6027\u306e\u4e00\u89a7\u3092\u5f97\u308b\u306b\u306f\u3001**`getPropertyList()`** \uff08Fundamentals p.99\uff09\u3092\u5229\u7528\u3057\u307e\u3059\u3002\n"
     ]
    },
    {
     "cell_type": "code",
     "collapsed": false,
     "input": [
      "M = createEntityStub( 'Variable:/cell:M' )\n",
      "M.getPropertyList()"
     ],
     "language": "python",
     "metadata": {},
     "outputs": [
      {
       "metadata": {},
       "output_type": "pyout",
       "prompt_number": 11,
       "text": [
        "['DiffusionCoeff',\n",
        " 'Fixed',\n",
        " 'MolarConc',\n",
        " 'Name',\n",
        " 'NumberConc',\n",
        " 'Value',\n",
        " 'Velocity']"
       ]
      }
     ],
     "prompt_number": 11
    },
    {
     "cell_type": "markdown",
     "metadata": {},
     "source": [
      "* `Entity` \u30aa\u30d6\u30b8\u30a7\u30af\u30c8\u306e\u4efb\u610f\u306e\u5c5e\u6027\u306e\u5024\u3092\u5f97\u308b\u306b\u306f\u3001**`getProperty( `_`propertyname`_` )`** \uff08Fundamentals p.98\uff09\u3092\u5229\u7528\u3059\u308b\u304b\u3001\u8f9e\u66f8\u306e\u30ad\u30fc\u306e\u3088\u3046\u306b\u5c5e\u6027\u540d\u3092\u6307\u5b9a\u3057\u307e\u3059\u3002\n"
     ]
    },
    {
     "cell_type": "code",
     "collapsed": false,
     "input": [
      "print M.getProperty( 'Value' )  # Value : \u5206\u5b50\u306e\u500b\u6570\n",
      "\n",
      "print M[ 'MolarConc' ]  # MolarConc : \u30e2\u30eb\u6fc3\u5ea6"
     ],
     "language": "python",
     "metadata": {},
     "outputs": [
      {
       "output_type": "stream",
       "stream": "stdout",
       "text": [
        "0.0\n",
        "0.0\n"
       ]
      }
     ],
     "prompt_number": 12
    },
    {
     "cell_type": "heading",
     "level": 3,
     "metadata": {},
     "source": [
      "\u6f14\u7fd2\uff14\n"
     ]
    },
    {
     "cell_type": "markdown",
     "metadata": {},
     "source": [
      "\u30e2\u30c7\u30eb\u4e2d\u306e\u3059\u3079\u3066\u306e `Variable` \u306e\u5c5e\u6027 `Value` \u3092\u30ea\u30b9\u30c8\u3057\u3066\u304f\u3060\u3055\u3044\u3002"
     ]
    },
    {
     "cell_type": "code",
     "collapsed": false,
     "input": [
      "systempathes = ('/', '/SBMLRule', '/cell')\n",
      "m_list = []\n",
      "for a_systempath in systempathes:\n",
      "    a_list = getEntityList( 'Variable', a_systempath )\n",
      "        \n",
      "    for an_Entity in a_list:\n",
      "        m = 'Variable:{path}:{ID}'.format(path = a_systempath, ID = an_Entity)\n",
      "        m_list.append(m)\n",
      "for V in m_list:\n",
      "    v = createEntityStub( V )\n",
      "    print '{:<27} {:<15.3f}'.format(V, v.getProperty('Value'))"
     ],
     "language": "python",
     "metadata": {},
     "outputs": [
      {
       "output_type": "stream",
       "stream": "stdout",
       "text": [
        "Variable:/:SIZE             1.000          \n",
        "Variable:/cell:C2           0.000          \n",
        "Variable:/cell:CP           0.750          \n",
        "Variable:/cell:CT           1.000          \n",
        "Variable:/cell:Dimensions   3.000          \n",
        "Variable:/cell:EmptySet     0.000          \n",
        "Variable:/cell:M            0.000          \n",
        "Variable:/cell:SIZE         1.000          \n",
        "Variable:/cell:Y            0.000          \n",
        "Variable:/cell:YP           0.000          \n",
        "Variable:/cell:YT           0.250          \n",
        "Variable:/cell:pM           0.250          \n"
       ]
      }
     ],
     "prompt_number": 13
    },
    {
     "cell_type": "heading",
     "level": 2,
     "metadata": {},
     "source": [
      "\u8a18\u9332\u3059\u308b\u30c7\u30fc\u30bf\u3092\u9078\u3073\u3001**`LoggerStub`** \u3092\u3064\u304f\u308b"
     ]
    },
    {
     "cell_type": "markdown",
     "metadata": {},
     "source": [
      "* `Entity` \u30aa\u30d6\u30b8\u30a7\u30af\u30c8\u306e **\u4efb\u610f\u306e\u5c5e\u6027\u306e\u5024\u3092\u4fdd\u5b58\u3059\u308b** \u306b\u306f\u3001**`createLoggerStub( `_`fullpn`_` )`** \uff08Fundamentals p.97\uff09\u3092\u5229\u7528\u3057\u3066\u3001**Logger** \u30aa\u30d6\u30b8\u30a7\u30af\u30c8\u3092\u3064\u304f\u308a\u307e\u3059\u3002\n",
      "    * Logger \u306f\u3001**\u5c5e\u6027\u5024\u3092\u4fdd\u5b58\u3059\u308b** \u30aa\u30d6\u30b8\u30a7\u30af\u30c8\u306a\u306e\u3067\u3001**FullPN** \u3067\u3001\u4fdd\u5b58\u3059\u308b\u5c5e\u6027\u3092\u6307\u5b9a\u3057\u307e\u3059\u3002\u6307\u5b9a\u3059\u308b\u306e\u306f Entity \u3067\u306f\u306a\u304f\u3001\u3072\u3068\u3064\u306e Entity \u306e\u3072\u3068\u3064\u306e\u5c5e\u6027\u3067\u3042\u308b\u3053\u3068\u306b\u6ce8\u610f\u3057\u3066\u304f\u3060\u3055\u3044\u3002\n",
      "* \u4e0b\u306e\u4f8b\u3067\u306f\u3001`Variable:/cell:M:Value` \u306e Logger \u3092\u3064\u304f\u308a\u307e\u3059\u3002"
     ]
    },
    {
     "cell_type": "code",
     "collapsed": false,
     "input": [
      "M_Logger = createLoggerStub( 'Variable:/cell:M:Value' )"
     ],
     "language": "python",
     "metadata": {},
     "outputs": [],
     "prompt_number": 14
    },
    {
     "cell_type": "markdown",
     "metadata": {},
     "source": [
      "* `createLoggerStub()` \u3060\u3051\u3067\u306f\u8a18\u9332\u306f\u59cb\u307e\u308a\u307e\u305b\u3093\u3002\u8a18\u9332\u3092\u59cb\u3081\u308b\u306b\u306f\u3001**`LoggerStub`** \u30aa\u30d6\u30b8\u30a7\u30af\u30c8\u306e **`create()`** \u30e1\u30bd\u30c3\u30c9\u3092\u5b9f\u884c\u3059\u308b\u5fc5\u8981\u304c\u3042\u308a\u307e\u3059\u3002"
     ]
    },
    {
     "cell_type": "code",
     "collapsed": false,
     "input": [
      "M_Logger.create()"
     ],
     "language": "python",
     "metadata": {},
     "outputs": [],
     "prompt_number": 15
    },
    {
     "cell_type": "markdown",
     "metadata": {},
     "source": [
      "* **`LoggerStub`** \u30aa\u30d6\u30b8\u30a7\u30af\u30c8\u306e **`getData()`** \u30e1\u30bd\u30c3\u30c9\u3067\u3001Logger \u306b\u4fdd\u5b58\u3055\u308c\u305f\u30c7\u30fc\u30bf\u3092\u53d6\u308a\u3060\u3059\u3053\u3068\u304c\u3067\u304d\u307e\u3059\u3002\u73fe\u6642\u70b9\u3067\u306f\u3001\u30e2\u30c7\u30eb\u8aad\u307f\u8fbc\u307f\u6642\u70b9\u306e **\u521d\u671f\u5024** \u3060\u3051\u304c\u683c\u7d0d\u3055\u308c\u3066\u3044\u307e\u3059\u3002\n",
      "    * `0` \u5217\u76ee\u306f\u6642\u523b\u3001`1` \u5217\u76ee\u304c\u5c5e\u6027\u5024\u3067\u3059\u3002"
     ]
    },
    {
     "cell_type": "code",
     "collapsed": false,
     "input": [
      "M_Logger.getData()"
     ],
     "language": "python",
     "metadata": {},
     "outputs": [
      {
       "metadata": {},
       "output_type": "pyout",
       "prompt_number": 16,
       "text": [
        "array([[ 0.,  0.]])"
       ]
      }
     ],
     "prompt_number": 16
    },
    {
     "cell_type": "heading",
     "level": 3,
     "metadata": {},
     "source": [
      "\u6f14\u7fd2\uff15\n"
     ]
    },
    {
     "cell_type": "markdown",
     "metadata": {},
     "source": [
      "`Variable:/cell:YT:Value`\uff08\u4ee5\u4e0b `YT`\uff09 \u304a\u3088\u3073 `Variable:/cell:CT:Value`\uff08\u4ee5\u4e0b `CT`\uff09 \u306e Logger \u3092\u3064\u304f\u308a\u3001\u8a18\u9332\u3092\u958b\u59cb\u3057\u3066\u304f\u3060\u3055\u3044\u3002"
     ]
    },
    {
     "cell_type": "code",
     "collapsed": false,
     "input": [
      "YT_Logger = createLoggerStub( 'Variable:/cell:YT:Value' )\n",
      "CT_Logger = createLoggerStub( 'Variable:/cell:CT:Value' )\n",
      "YT_Logger.create()\n",
      "CT_Logger.create()"
     ],
     "language": "python",
     "metadata": {},
     "outputs": [],
     "prompt_number": 17
    },
    {
     "cell_type": "heading",
     "level": 2,
     "metadata": {},
     "source": [
      "\u30b7\u30df\u30e5\u30ec\u30fc\u30b7\u30e7\u30f3\u3092\u5b9f\u884c\u3059\u308b"
     ]
    },
    {
     "cell_type": "markdown",
     "metadata": {},
     "source": [
      "* **`run( `_`sec`_` )`** \u30e1\u30bd\u30c3\u30c9\uff08Fundamentals p.94\uff09\u3067\u30b7\u30df\u30e5\u30ec\u30fc\u30b7\u30e7\u30f3\u3092\u5b9f\u884c\u3057\u307e\u3059\u3002\u5f15\u6570\u306f\u3001\u30b7\u30df\u30e5\u30ec\u30fc\u30b7\u30e7\u30f3\u5b9f\u884c\u6642\u9593\u3067\u3001\u5358\u4f4d\u306f\u3001\u30e2\u30c7\u30eb\u5185\u306e\u8a18\u8ff0\u306b\u4f9d\u5b58\u3057\u307e\u3059\uff08\u4fbf\u5b9c\u4e0a\u3001sec \u3068\u3057\u3066\u3044\u307e\u3059\uff09\u3002"
     ]
    },
    {
     "cell_type": "code",
     "collapsed": false,
     "input": [
      "run( 100 )\n",
      "print 't = {}'.format( getCurrentTime() )"
     ],
     "language": "python",
     "metadata": {},
     "outputs": [
      {
       "output_type": "stream",
       "stream": "stdout",
       "text": [
        "t = 100.0\n"
       ]
      }
     ],
     "prompt_number": 18
    },
    {
     "cell_type": "markdown",
     "metadata": {},
     "source": [
      "* \u6642\u523b\u306f 100 \u306b\u306a\u3063\u3066\u3044\u307e\u3059\uff08\u2191\uff09\n",
      "* Logger \u306b\u30c7\u30fc\u30bf\u304c\u84c4\u7a4d\u3055\u308c\u3066\u3044\u308b\u3053\u3068\u3082\u78ba\u8a8d\u3067\u304d\u307e\u3059\uff08\u2193\uff09"
     ]
    },
    {
     "cell_type": "code",
     "collapsed": false,
     "input": [
      "M_Logger.getData()"
     ],
     "language": "python",
     "metadata": {},
     "outputs": [
      {
       "metadata": {},
       "output_type": "pyout",
       "prompt_number": 19,
       "text": [
        "array([[  0.00000000e+00,   0.00000000e+00],\n",
        "       [  1.00000000e-03,   4.49771706e-06],\n",
        "       [  2.48991266e-03,   1.11905181e-05],\n",
        "       [  4.82503877e-03,   2.16601063e-05],\n",
        "       [  2.23287204e-02,   9.93874347e-05],\n",
        "       [  5.26252643e-02,   2.30908683e-04],\n",
        "       [  1.22896499e-01,   5.22076151e-04],\n",
        "       [  4.26996740e-01,   1.59442054e-03],\n",
        "       [  1.20998261e+00,   3.45330959e-03],\n",
        "       [  2.22037310e+00,   4.90950409e-03],\n",
        "       [  3.52822092e+00,   6.18273319e-03],\n",
        "       [  5.42046452e+00,   7.69589742e-03],\n",
        "       [  7.80129510e+00,   9.88032289e-03],\n",
        "       [  8.99018753e+00,   1.14374071e-02],\n",
        "       [  1.01790800e+01,   1.38045539e-02],\n",
        "       [  1.10835545e+01,   1.69200485e-02],\n",
        "       [  1.16787302e+01,   2.05515337e-02],\n",
        "       [  1.21055357e+01,   2.50471641e-02],\n",
        "       [  1.24241685e+01,   3.07513530e-02],\n",
        "       [  1.26652505e+01,   3.79531626e-02],\n",
        "       [  1.28528649e+01,   4.70946391e-02],\n",
        "       [  1.30047534e+01,   5.89096825e-02],\n",
        "       [  1.31352734e+01,   7.48546792e-02],\n",
        "       [  1.32621480e+01,   9.90835438e-02],\n",
        "       [  1.33317955e+01,   1.17357899e-01],\n",
        "       [  1.33813859e+01,   1.32480910e-01],\n",
        "       [  1.34461477e+01,   1.53654164e-01],\n",
        "       [  1.35109095e+01,   1.73585883e-01],\n",
        "       [  1.35684439e+01,   1.87244880e-01],\n",
        "       [  1.36081325e+01,   1.93465861e-01],\n",
        "       [  1.36722370e+01,   1.97846233e-01],\n",
        "       [  1.37363414e+01,   1.96511752e-01],\n",
        "       [  1.38383349e+01,   1.87333299e-01],\n",
        "       [  1.39172109e+01,   1.77474802e-01],\n",
        "       [  1.40246550e+01,   1.63006883e-01],\n",
        "       [  1.41541560e+01,   1.45941844e-01],\n",
        "       [  1.43210901e+01,   1.25910014e-01],\n",
        "       [  1.45348242e+01,   1.03957514e-01],\n",
        "       [  1.48356714e+01,   7.93460726e-02],\n",
        "       [  1.52069884e+01,   5.69055301e-02],\n",
        "       [  1.55783053e+01,   4.08411407e-02],\n",
        "       [  1.60535961e+01,   2.67029304e-02],\n",
        "       [  1.65288869e+01,   1.74477843e-02],\n",
        "       [  1.71483283e+01,   1.00589514e-02],\n",
        "       [  1.77677698e+01,   5.91606260e-03],\n",
        "       [  1.86369200e+01,   3.08114896e-03],\n",
        "       [  1.95060702e+01,   1.96751476e-03],\n",
        "       [  2.06535645e+01,   1.58051306e-03],\n",
        "       [  2.18010589e+01,   1.65003558e-03],\n",
        "       [  2.32151000e+01,   1.93053939e-03],\n",
        "       [  2.46291412e+01,   2.27575120e-03],\n",
        "       [  2.66463251e+01,   2.80368346e-03],\n",
        "       [  2.92760726e+01,   3.53206870e-03],\n",
        "       [  3.30564055e+01,   4.69080427e-03],\n",
        "       [  3.67287032e+01,   6.04226777e-03],\n",
        "       [  4.04010008e+01,   7.86182405e-03],\n",
        "       [  4.31665567e+01,   9.98779261e-03],\n",
        "       [  4.48772941e+01,   1.21980119e-02],\n",
        "       [  4.59978187e+01,   1.46697424e-02],\n",
        "       [  4.67949555e+01,   1.77138280e-02],\n",
        "       [  4.73633103e+01,   2.15052538e-02],\n",
        "       [  4.77741235e+01,   2.62445904e-02],\n",
        "       [  4.80791595e+01,   3.22145071e-02],\n",
        "       [  4.83117957e+01,   3.97721332e-02],\n",
        "       [  4.84947268e+01,   4.94195003e-02],\n",
        "       [  4.86447623e+01,   6.20047361e-02],\n",
        "       [  4.87771808e+01,   7.94274568e-02],\n",
        "       [  4.88812931e+01,   9.97485916e-02],\n",
        "       [  4.89593349e+01,   1.19817065e-01],\n",
        "       [  4.90170249e+01,   1.36974690e-01],\n",
        "       [  4.90747149e+01,   1.54795265e-01],\n",
        "       [  4.91503378e+01,   1.75551207e-01],\n",
        "       [  4.92259608e+01,   1.88961998e-01],\n",
        "       [  4.92791660e+01,   1.92986077e-01],\n",
        "       [  4.93540161e+01,   1.92264871e-01],\n",
        "       [  4.94740980e+01,   1.81731995e-01],\n",
        "       [  4.95715327e+01,   1.69662475e-01],\n",
        "       [  4.96689674e+01,   1.56919428e-01],\n",
        "       [  4.98068221e+01,   1.39481809e-01],\n",
        "       [  4.99835885e+01,   1.19319240e-01],\n",
        "       [  5.02108100e+01,   9.73775510e-02],\n",
        "       [  5.05284281e+01,   7.32651336e-02],\n",
        "       [  5.08460462e+01,   5.51581835e-02],\n",
        "       [  5.12827460e+01,   3.73515162e-02],\n",
        "       [  5.17194458e+01,   2.52794756e-02],\n",
        "       [  5.22706608e+01,   1.54367822e-02],\n",
        "       [  5.28218759e+01,   9.47154134e-03],\n",
        "       [  5.35715998e+01,   5.03372880e-03],\n",
        "       [  5.44798756e+01,   2.66085711e-03],\n",
        "       [  5.53881514e+01,   1.80077523e-03],\n",
        "       [  5.65628858e+01,   1.57427559e-03],\n",
        "       [  5.77376202e+01,   1.70580517e-03],\n",
        "       [  5.92080817e+01,   2.02285801e-03],\n",
        "       [  6.06785431e+01,   2.39065346e-03],\n",
        "       [  6.28230394e+01,   2.95925435e-03],\n",
        "       [  6.56694341e+01,   3.76208517e-03],\n",
        "       [  6.98938874e+01,   5.11330200e-03],\n",
        "       [  7.30601022e+01,   6.35443776e-03],\n",
        "       [  7.62263171e+01,   7.99987424e-03],\n",
        "       [  7.89444386e+01,   1.01691080e-02],\n",
        "       [  8.06201536e+01,   1.24460362e-02],\n",
        "       [  8.16925498e+01,   1.49499623e-02],\n",
        "       [  8.24600293e+01,   1.80482965e-02],\n",
        "       [  8.30108316e+01,   2.19286776e-02],\n",
        "       [  8.34093804e+01,   2.67790277e-02],\n",
        "       [  8.37058593e+01,   3.28877119e-02],\n",
        "       [  8.39326569e+01,   4.06266703e-02],\n",
        "       [  8.41116392e+01,   5.05196777e-02],\n",
        "       [  8.42592096e+01,   6.34702450e-02],\n",
        "       [  8.43909229e+01,   8.15903470e-02],\n",
        "       [  8.44881244e+01,   1.01154428e-01],\n",
        "       [  8.45657883e+01,   1.21434318e-01],\n",
        "       [  8.46250215e+01,   1.39206634e-01],\n",
        "       [  8.46842548e+01,   1.57436005e-01],\n",
        "       [  8.47623259e+01,   1.78091221e-01],\n",
        "       [  8.48380477e+01,   1.90185703e-01],\n",
        "       [  8.48970237e+01,   1.93407400e-01],\n",
        "       [  8.49767832e+01,   1.90987639e-01],\n",
        "       [  8.50830824e+01,   1.80783963e-01],\n",
        "       [  8.51672765e+01,   1.70315057e-01],\n",
        "       [  8.52819284e+01,   1.55334692e-01],\n",
        "       [  8.54215577e+01,   1.37791995e-01],\n",
        "       [  8.56031271e+01,   1.17340820e-01],\n",
        "       [  8.58375003e+01,   9.51423664e-02],\n",
        "       [  8.61639520e+01,   7.10224863e-02],\n",
        "       [  8.64904037e+01,   5.30531895e-02],\n",
        "       [  8.69317451e+01,   3.57770983e-02],\n",
        "       [  8.73730866e+01,   2.41112871e-02],\n",
        "       [  8.79325434e+01,   1.46172668e-02],\n",
        "       [  8.84920003e+01,   8.91497696e-03],\n",
        "       [  8.92560893e+01,   4.71109287e-03],\n",
        "       [  9.01826763e+01,   2.51160053e-03],\n",
        "       [  9.11092633e+01,   1.74622006e-03],\n",
        "       [  9.22949388e+01,   1.57816983e-03],\n",
        "       [  9.34806144e+01,   1.73195144e-03],\n",
        "       [  9.49757246e+01,   2.06308168e-03],\n",
        "       [  9.64708348e+01,   2.44018988e-03],\n",
        "       [  9.86719774e+01,   3.02691451e-03],\n",
        "       [  1.00000000e+02,   3.39607905e-03]])"
       ]
      }
     ],
     "prompt_number": 19
    },
    {
     "cell_type": "heading",
     "level": 3,
     "metadata": {},
     "source": [
      "Logger\u304b\u3089\u3001\u5fc5\u8981\u306a\u5927\u304d\u3055\u306b\u9593\u5f15\u304b\u308c\u305f\u30c7\u30fc\u30bf\u3092\u53d6\u5f97\u3059\u308b\n"
     ]
    },
    {
     "cell_type": "markdown",
     "metadata": {},
     "source": [
      "* **`getData( `_`starttime`_`, `_`endtime`_`, `_`interval`_` )`** \u30e1\u30bd\u30c3\u30c9\u306f\u3001\uff13\u3064\u306e\u5f15\u6570\u3092\u3068\u308a\u307e\u3059\u304c\u3001\u3059\u3079\u3066\u7701\u7565\u53ef\u80fd\u3067\u3059\u3002\n",
      "* _starttime_, _endtime_ \u306f\u3001\u53d6\u5f97\u3059\u308b\u30c7\u30fc\u30bf\u306e\u6642\u523b\u306e\u5e45\u3092\u8a2d\u5b9a\u3057\u307e\u3059\u3002\n",
      "* _interval_ \u306f\u3001\u53d6\u5f97\u3059\u308b\u30c7\u30fc\u30bf\u306e\u6642\u9593\u9593\u9694\u3092\u8a2d\u5b9a\u3057\u307e\u3059\u3002\n",
      "* \u4ee5\u4e0b\u306e\u4f8b\u306f\u3001_t_ = 20 \u304b\u3089 _t_ = 40 \u307e\u3067\u3092\u3001\u6642\u9593\u9593\u9694 1 \u3067\u53d6\u308a\u3060\u3057\u305f\u5834\u5408\u3067\u3059\u3002"
     ]
    },
    {
     "cell_type": "code",
     "collapsed": false,
     "input": [
      "M_Logger.getData( 20, 40, 1 )"
     ],
     "language": "python",
     "metadata": {},
     "outputs": [
      {
       "metadata": {},
       "output_type": "pyout",
       "prompt_number": 20,
       "text": [
        "array([[  1.95060702e+01,   1.96751476e-03,   1.77401391e-03,\n",
        "          1.58051306e-03,   1.96751476e-03],\n",
        "       [  2.18010589e+01,   1.65003558e-03,   1.65003558e-03,\n",
        "          1.65003558e-03,   1.93053939e-03],\n",
        "       [  2.32151000e+01,   1.93053939e-03,   1.93053939e-03,\n",
        "          1.93053939e-03,   1.93053939e-03],\n",
        "       [  2.46291412e+01,   2.27575120e-03,   2.27575120e-03,\n",
        "          2.27575120e-03,   2.27575120e-03],\n",
        "       [  2.66463251e+01,   2.80368346e-03,   2.80368346e-03,\n",
        "          2.80368346e-03,   2.80368346e-03],\n",
        "       [  2.66463251e+01,   2.80368346e-03,   2.80368346e-03,\n",
        "          2.80368346e-03,   2.80368346e-03],\n",
        "       [  2.92760726e+01,   3.53206870e-03,   3.53206870e-03,\n",
        "          3.53206870e-03,   3.53206870e-03],\n",
        "       [  2.92760726e+01,   3.53206870e-03,   3.53206870e-03,\n",
        "          3.53206870e-03,   3.53206870e-03],\n",
        "       [  2.92760726e+01,   3.53206870e-03,   3.53206870e-03,\n",
        "          3.53206870e-03,   3.53206870e-03],\n",
        "       [  3.30564055e+01,   4.69080427e-03,   4.69080427e-03,\n",
        "          4.69080427e-03,   4.69080427e-03],\n",
        "       [  3.30564055e+01,   4.69080427e-03,   4.69080427e-03,\n",
        "          4.69080427e-03,   4.69080427e-03],\n",
        "       [  3.30564055e+01,   4.69080427e-03,   4.69080427e-03,\n",
        "          4.69080427e-03,   4.69080427e-03],\n",
        "       [  3.30564055e+01,   4.69080427e-03,   4.69080427e-03,\n",
        "          4.69080427e-03,   4.69080427e-03],\n",
        "       [  3.67287032e+01,   6.04226777e-03,   6.04226777e-03,\n",
        "          6.04226777e-03,   6.04226777e-03],\n",
        "       [  3.67287032e+01,   6.04226777e-03,   6.04226777e-03,\n",
        "          6.04226777e-03,   6.04226777e-03],\n",
        "       [  3.67287032e+01,   6.04226777e-03,   6.04226777e-03,\n",
        "          6.04226777e-03,   6.04226777e-03],\n",
        "       [  4.04010008e+01,   7.86182405e-03,   7.86182405e-03,\n",
        "          7.86182405e-03,   7.86182405e-03],\n",
        "       [  4.04010008e+01,   7.86182405e-03,   7.86182405e-03,\n",
        "          7.86182405e-03,   7.86182405e-03],\n",
        "       [  4.04010008e+01,   7.86182405e-03,   7.86182405e-03,\n",
        "          7.86182405e-03,   7.86182405e-03],\n",
        "       [  4.04010008e+01,   7.86182405e-03,   7.86182405e-03,\n",
        "          7.86182405e-03,   7.86182405e-03]])"
       ]
      }
     ],
     "prompt_number": 20
    },
    {
     "cell_type": "markdown",
     "metadata": {},
     "source": [
      "* \u6642\u9593\u9593\u9694\u3092\u6307\u5b9a\u305b\u305a\u306b\u53d6\u308a\u3060\u3059\u3068\u3001`0` \u5217\u76ee\u306b\u6642\u523b\u3001`1` \u5217\u76ee\u306b\u5c5e\u6027\u5024\u3092\u683c\u7d0d\u3057\u305f\uff12\u5217\u306e\u914d\u5217\u304c\u8fd4\u3055\u308c\u307e\u3059\u304c\u3001\u6642\u9593\u9593\u9694\u3092\u6307\u5b9a\u3059\u308b\u3068\uff15\u5217\u306e\u914d\u5217\u304c\u5e30\u3063\u3066\u304d\u307e\u3059\u3002  \n",
      "`2`, `3`, `4` \u5217\u76ee\u306f\u305d\u308c\u305e\u308c\u3001\u305d\u306e\u6642\u9593\u533a\u9593\u5185\u3067\u306e\u3001\u5c5e\u6027\u5024\u306e\u5e73\u5747\u5024\u3001\u6700\u5c0f\u5024\u3001\u6700\u5927\u5024\u3067\u3059\u3002\n",
      "    * \uff08\u4f7f\u3044\u9053\u306e\u4f8b\uff09\u3053\u308c\u3089\u306e\u6570\u5024\u306b\u958b\u304d\u304c\u3042\u3063\u305f\u5834\u5408\u3001\u305d\u306e\u6642\u9593\u533a\u9593\u5185\u3067\u5927\u304d\u306a\u5909\u5316\u304c\u3042\u3063\u305f\u3053\u3068\u3092\u793a\u3057\u3001\u3088\u308a\u7d30\u304b\u3044\u6642\u9593\u9593\u9694\u3067\u30c7\u30fc\u30bf\u3092\u53d6\u5f97\u3057\u305f\u65b9\u304c\u9069\u5207\u3067\u3042\u308b\u3053\u3068\u3092\u793a\u3057\u307e\u3059\u3002"
     ]
    },
    {
     "cell_type": "heading",
     "level": 3,
     "metadata": {},
     "source": [
      "\u6f14\u7fd2\uff16\n"
     ]
    },
    {
     "cell_type": "markdown",
     "metadata": {},
     "source": [
      "_t_ = 0 \u304b\u3089 _t_ = 100 \u307e\u3067\u306e\u3001 \u3014`YT/CT`\u3015, \u3014`M/CT`\u3015 \u306e\u30b0\u30e9\u30d5\u3092\uff11\u3064\u306e figure \u4e0a\u306b\u91cd\u306d\u3066\u63cf\u304d\u306a\u3055\u3044\u3002"
     ]
    },
    {
     "cell_type": "markdown",
     "metadata": {},
     "source": [
      "**\u30d2\u30f3\u30c8**\n",
      "* matplotlib \u3067\u30d7\u30ed\u30c3\u30c8\u3059\u308b\u305f\u3081\u306b\u3001`getData()` \u3067\u53d6\u5f97\u3057\u305f\u30c7\u30fc\u30bf\u3092 `np.array` \u578b\u306b\u5909\u63db\u3057\u307e\u3059\u3002"
     ]
    },
    {
     "cell_type": "code",
     "collapsed": false,
     "input": [
      "M_Data = np.array( M_Logger.getData( 0, 100, 0.5 ))\n",
      "\n",
      "M_Data"
     ],
     "language": "python",
     "metadata": {},
     "outputs": [
      {
       "metadata": {},
       "output_type": "pyout",
       "prompt_number": 21,
       "text": [
        "array([[  0.00000000e+00,   0.00000000e+00,   1.17920830e-03,\n",
        "          0.00000000e+00,   3.45330959e-03],\n",
        "       [  1.20998261e+00,   3.45330959e-03,   3.45330959e-03,\n",
        "          3.45330959e-03,   3.45330959e-03],\n",
        "       [  2.22037310e+00,   4.90950409e-03,   4.90950409e-03,\n",
        "          4.90950409e-03,   4.90950409e-03],\n",
        "       [  2.22037310e+00,   4.90950409e-03,   4.90950409e-03,\n",
        "          4.90950409e-03,   4.90950409e-03],\n",
        "       [  3.52822092e+00,   6.18273319e-03,   6.18273319e-03,\n",
        "          6.18273319e-03,   6.18273319e-03],\n",
        "       [  3.52822092e+00,   6.18273319e-03,   6.18273319e-03,\n",
        "          6.18273319e-03,   6.18273319e-03],\n",
        "       [  3.52822092e+00,   6.18273319e-03,   6.18273319e-03,\n",
        "          6.18273319e-03,   6.18273319e-03],\n",
        "       [  5.42046452e+00,   7.69589742e-03,   7.69589742e-03,\n",
        "          7.69589742e-03,   7.69589742e-03],\n",
        "       [  5.42046452e+00,   7.69589742e-03,   7.69589742e-03,\n",
        "          7.69589742e-03,   7.69589742e-03],\n",
        "       [  5.42046452e+00,   7.69589742e-03,   7.69589742e-03,\n",
        "          7.69589742e-03,   7.69589742e-03],\n",
        "       [  7.80129510e+00,   9.88032289e-03,   9.88032289e-03,\n",
        "          9.88032289e-03,   9.88032289e-03],\n",
        "       [  7.80129510e+00,   9.88032289e-03,   9.88032289e-03,\n",
        "          9.88032289e-03,   9.88032289e-03],\n",
        "       [  7.80129510e+00,   9.88032289e-03,   9.88032289e-03,\n",
        "          9.88032289e-03,   9.88032289e-03],\n",
        "       [  7.80129510e+00,   9.88032289e-03,   9.88032289e-03,\n",
        "          9.88032289e-03,   9.88032289e-03],\n",
        "       [  7.80129510e+00,   9.88032289e-03,   9.88032289e-03,\n",
        "          9.88032289e-03,   9.88032289e-03],\n",
        "       [  8.99018753e+00,   1.14374071e-02,   1.14374071e-02,\n",
        "          1.14374071e-02,   1.14374071e-02],\n",
        "       [  8.99018753e+00,   1.14374071e-02,   1.14374071e-02,\n",
        "          1.14374071e-02,   1.14374071e-02],\n",
        "       [  1.01790800e+01,   1.38045539e-02,   1.38045539e-02,\n",
        "          1.38045539e-02,   1.38045539e-02],\n",
        "       [  1.01790800e+01,   1.38045539e-02,   1.38045539e-02,\n",
        "          1.38045539e-02,   1.38045539e-02],\n",
        "       [  1.01790800e+01,   1.38045539e-02,   1.38045539e-02,\n",
        "          1.38045539e-02,   1.38045539e-02],\n",
        "       [  1.10835545e+01,   1.69200485e-02,   1.69200485e-02,\n",
        "          1.69200485e-02,   1.69200485e-02],\n",
        "       [  1.10835545e+01,   1.69200485e-02,   1.69200485e-02,\n",
        "          1.69200485e-02,   1.69200485e-02],\n",
        "       [  1.16787302e+01,   2.05515337e-02,   2.05515337e-02,\n",
        "          2.05515337e-02,   2.05515337e-02],\n",
        "       [  1.21055357e+01,   2.50471641e-02,   2.50471641e-02,\n",
        "          2.50471641e-02,   2.50471641e-02],\n",
        "       [  1.24241685e+01,   3.07513530e-02,   3.07513530e-02,\n",
        "          3.07513530e-02,   3.79531626e-02],\n",
        "       [  1.26652505e+01,   3.79531626e-02,   4.20429225e-02,\n",
        "          3.79531626e-02,   5.89096825e-02],\n",
        "       [  1.30047534e+01,   5.89096825e-02,   9.56965970e-02,\n",
        "          5.89096825e-02,   1.73585883e-01],\n",
        "       [  1.35109095e+01,   1.73585883e-01,   1.87624292e-01,\n",
        "          1.63006883e-01,   1.97846233e-01],\n",
        "       [  1.40246550e+01,   1.63006883e-01,   1.41881340e-01,\n",
        "          1.03957514e-01,   1.63006883e-01],\n",
        "       [  1.45348242e+01,   1.03957514e-01,   9.03616624e-02,\n",
        "          5.69055301e-02,   1.03957514e-01],\n",
        "       [  1.52069884e+01,   5.69055301e-02,   5.69055301e-02,\n",
        "          4.08411407e-02,   5.69055301e-02],\n",
        "       [  1.55783053e+01,   4.08411407e-02,   4.08411407e-02,\n",
        "          2.67029304e-02,   4.08411407e-02],\n",
        "       [  1.60535961e+01,   2.67029304e-02,   2.67029304e-02,\n",
        "          1.74477843e-02,   2.67029304e-02],\n",
        "       [  1.65288869e+01,   1.74477843e-02,   1.74477843e-02,\n",
        "          1.00589514e-02,   1.74477843e-02],\n",
        "       [  1.71483283e+01,   1.00589514e-02,   1.00589514e-02,\n",
        "          5.91606260e-03,   1.00589514e-02],\n",
        "       [  1.77677698e+01,   5.91606260e-03,   5.91606260e-03,\n",
        "          3.08114896e-03,   5.91606260e-03],\n",
        "       [  1.86369200e+01,   3.08114896e-03,   3.08114896e-03,\n",
        "          3.08114896e-03,   3.08114896e-03],\n",
        "       [  1.95060702e+01,   1.96751476e-03,   1.96751476e-03,\n",
        "          1.96751476e-03,   1.96751476e-03],\n",
        "       [  1.95060702e+01,   1.96751476e-03,   1.96751476e-03,\n",
        "          1.96751476e-03,   1.96751476e-03],\n",
        "       [  2.06535645e+01,   1.58051306e-03,   1.58051306e-03,\n",
        "          1.58051306e-03,   1.58051306e-03],\n",
        "       [  2.06535645e+01,   1.58051306e-03,   1.58051306e-03,\n",
        "          1.58051306e-03,   1.58051306e-03],\n",
        "       [  2.18010589e+01,   1.65003558e-03,   1.65003558e-03,\n",
        "          1.65003558e-03,   1.65003558e-03],\n",
        "       [  2.18010589e+01,   1.65003558e-03,   1.65003558e-03,\n",
        "          1.65003558e-03,   1.65003558e-03],\n",
        "       [  2.32151000e+01,   1.93053939e-03,   1.93053939e-03,\n",
        "          1.93053939e-03,   1.93053939e-03],\n",
        "       [  2.32151000e+01,   1.93053939e-03,   1.93053939e-03,\n",
        "          1.93053939e-03,   1.93053939e-03],\n",
        "       [  2.32151000e+01,   1.93053939e-03,   1.93053939e-03,\n",
        "          1.93053939e-03,   1.93053939e-03],\n",
        "       [  2.46291412e+01,   2.27575120e-03,   2.27575120e-03,\n",
        "          2.27575120e-03,   2.27575120e-03],\n",
        "       [  2.46291412e+01,   2.27575120e-03,   2.27575120e-03,\n",
        "          2.27575120e-03,   2.27575120e-03],\n",
        "       [  2.46291412e+01,   2.27575120e-03,   2.27575120e-03,\n",
        "          2.27575120e-03,   2.27575120e-03],\n",
        "       [  2.66463251e+01,   2.80368346e-03,   2.80368346e-03,\n",
        "          2.80368346e-03,   2.80368346e-03],\n",
        "       [  2.66463251e+01,   2.80368346e-03,   2.80368346e-03,\n",
        "          2.80368346e-03,   2.80368346e-03],\n",
        "       [  2.66463251e+01,   2.80368346e-03,   2.80368346e-03,\n",
        "          2.80368346e-03,   2.80368346e-03],\n",
        "       [  2.66463251e+01,   2.80368346e-03,   2.80368346e-03,\n",
        "          2.80368346e-03,   2.80368346e-03],\n",
        "       [  2.92760726e+01,   3.53206870e-03,   3.53206870e-03,\n",
        "          3.53206870e-03,   3.53206870e-03],\n",
        "       [  2.92760726e+01,   3.53206870e-03,   3.53206870e-03,\n",
        "          3.53206870e-03,   3.53206870e-03],\n",
        "       [  2.92760726e+01,   3.53206870e-03,   3.53206870e-03,\n",
        "          3.53206870e-03,   3.53206870e-03],\n",
        "       [  2.92760726e+01,   3.53206870e-03,   3.53206870e-03,\n",
        "          3.53206870e-03,   3.53206870e-03],\n",
        "       [  2.92760726e+01,   3.53206870e-03,   3.53206870e-03,\n",
        "          3.53206870e-03,   3.53206870e-03],\n",
        "       [  3.30564055e+01,   4.69080427e-03,   4.69080427e-03,\n",
        "          4.69080427e-03,   4.69080427e-03],\n",
        "       [  3.30564055e+01,   4.69080427e-03,   4.69080427e-03,\n",
        "          4.69080427e-03,   4.69080427e-03],\n",
        "       [  3.30564055e+01,   4.69080427e-03,   4.69080427e-03,\n",
        "          4.69080427e-03,   4.69080427e-03],\n",
        "       [  3.30564055e+01,   4.69080427e-03,   4.69080427e-03,\n",
        "          4.69080427e-03,   4.69080427e-03],\n",
        "       [  3.30564055e+01,   4.69080427e-03,   4.69080427e-03,\n",
        "          4.69080427e-03,   4.69080427e-03],\n",
        "       [  3.30564055e+01,   4.69080427e-03,   4.69080427e-03,\n",
        "          4.69080427e-03,   4.69080427e-03],\n",
        "       [  3.30564055e+01,   4.69080427e-03,   4.69080427e-03,\n",
        "          4.69080427e-03,   4.69080427e-03],\n",
        "       [  3.30564055e+01,   4.69080427e-03,   4.69080427e-03,\n",
        "          4.69080427e-03,   4.69080427e-03],\n",
        "       [  3.67287032e+01,   6.04226777e-03,   6.04226777e-03,\n",
        "          6.04226777e-03,   6.04226777e-03],\n",
        "       [  3.67287032e+01,   6.04226777e-03,   6.04226777e-03,\n",
        "          6.04226777e-03,   6.04226777e-03],\n",
        "       [  3.67287032e+01,   6.04226777e-03,   6.04226777e-03,\n",
        "          6.04226777e-03,   6.04226777e-03],\n",
        "       [  3.67287032e+01,   6.04226777e-03,   6.04226777e-03,\n",
        "          6.04226777e-03,   6.04226777e-03],\n",
        "       [  3.67287032e+01,   6.04226777e-03,   6.04226777e-03,\n",
        "          6.04226777e-03,   6.04226777e-03],\n",
        "       [  3.67287032e+01,   6.04226777e-03,   6.04226777e-03,\n",
        "          6.04226777e-03,   6.04226777e-03],\n",
        "       [  3.67287032e+01,   6.04226777e-03,   6.04226777e-03,\n",
        "          6.04226777e-03,   6.04226777e-03],\n",
        "       [  4.04010008e+01,   7.86182405e-03,   7.86182405e-03,\n",
        "          7.86182405e-03,   7.86182405e-03],\n",
        "       [  4.04010008e+01,   7.86182405e-03,   7.86182405e-03,\n",
        "          7.86182405e-03,   7.86182405e-03],\n",
        "       [  4.04010008e+01,   7.86182405e-03,   7.86182405e-03,\n",
        "          7.86182405e-03,   7.86182405e-03],\n",
        "       [  4.04010008e+01,   7.86182405e-03,   7.86182405e-03,\n",
        "          7.86182405e-03,   7.86182405e-03],\n",
        "       [  4.04010008e+01,   7.86182405e-03,   7.86182405e-03,\n",
        "          7.86182405e-03,   7.86182405e-03],\n",
        "       [  4.04010008e+01,   7.86182405e-03,   7.86182405e-03,\n",
        "          7.86182405e-03,   7.86182405e-03],\n",
        "       [  4.04010008e+01,   7.86182405e-03,   7.86182405e-03,\n",
        "          7.86182405e-03,   7.86182405e-03],\n",
        "       [  4.31665567e+01,   9.98779261e-03,   9.98779261e-03,\n",
        "          9.98779261e-03,   9.98779261e-03],\n",
        "       [  4.31665567e+01,   9.98779261e-03,   9.98779261e-03,\n",
        "          9.98779261e-03,   9.98779261e-03],\n",
        "       [  4.31665567e+01,   9.98779261e-03,   9.98779261e-03,\n",
        "          9.98779261e-03,   9.98779261e-03],\n",
        "       [  4.31665567e+01,   9.98779261e-03,   9.98779261e-03,\n",
        "          9.98779261e-03,   9.98779261e-03],\n",
        "       [  4.31665567e+01,   9.98779261e-03,   9.98779261e-03,\n",
        "          9.98779261e-03,   9.98779261e-03],\n",
        "       [  4.31665567e+01,   9.98779261e-03,   9.98779261e-03,\n",
        "          9.98779261e-03,   9.98779261e-03],\n",
        "       [  4.48772941e+01,   1.21980119e-02,   1.21980119e-02,\n",
        "          1.21980119e-02,   1.21980119e-02],\n",
        "       [  4.48772941e+01,   1.21980119e-02,   1.21980119e-02,\n",
        "          1.21980119e-02,   1.21980119e-02],\n",
        "       [  4.48772941e+01,   1.21980119e-02,   1.21980119e-02,\n",
        "          1.21980119e-02,   1.21980119e-02],\n",
        "       [  4.59978187e+01,   1.46697424e-02,   1.46697424e-02,\n",
        "          1.46697424e-02,   1.46697424e-02],\n",
        "       [  4.59978187e+01,   1.46697424e-02,   1.46697424e-02,\n",
        "          1.46697424e-02,   1.46697424e-02],\n",
        "       [  4.67949555e+01,   1.77138280e-02,   1.77138280e-02,\n",
        "          1.77138280e-02,   1.77138280e-02],\n",
        "       [  4.67949555e+01,   1.77138280e-02,   1.77138280e-02,\n",
        "          1.77138280e-02,   1.77138280e-02],\n",
        "       [  4.73633103e+01,   2.15052538e-02,   2.15052538e-02,\n",
        "          2.15052538e-02,   2.15052538e-02],\n",
        "       [  4.77741235e+01,   2.62445904e-02,   2.62445904e-02,\n",
        "          2.62445904e-02,   2.62445904e-02],\n",
        "       [  4.80791595e+01,   3.22145071e-02,   3.22145071e-02,\n",
        "          3.22145071e-02,   3.22145071e-02],\n",
        "       [  4.83117957e+01,   3.97721332e-02,   4.41192570e-02,\n",
        "          3.97721332e-02,   6.20047361e-02],\n",
        "       [  4.86447623e+01,   6.20047361e-02,   8.37493608e-02,\n",
        "          6.20047361e-02,   1.36974690e-01],\n",
        "       [  4.90170249e+01,   1.36974690e-01,   1.77052811e-01,\n",
        "          1.36974690e-01,   1.92986077e-01],\n",
        "       [  4.95715327e+01,   1.69662475e-01,   1.40675553e-01,\n",
        "          9.73775510e-02,   1.69662475e-01],\n",
        "       [  5.02108100e+01,   9.73775510e-02,   9.73775510e-02,\n",
        "          7.32651336e-02,   9.73775510e-02],\n",
        "       [  5.05284281e+01,   7.32651336e-02,   6.27824159e-02,\n",
        "          3.73515162e-02,   7.32651336e-02],\n",
        "       [  5.12827460e+01,   3.73515162e-02,   3.73515162e-02,\n",
        "          2.52794756e-02,   3.73515162e-02],\n",
        "       [  5.17194458e+01,   2.52794756e-02,   2.52794756e-02,\n",
        "          1.54367822e-02,   2.52794756e-02],\n",
        "       [  5.22706608e+01,   1.54367822e-02,   1.54367822e-02,\n",
        "          9.47154134e-03,   1.54367822e-02],\n",
        "       [  5.28218759e+01,   9.47154134e-03,   9.47154134e-03,\n",
        "          5.03372880e-03,   9.47154134e-03],\n",
        "       [  5.35715998e+01,   5.03372880e-03,   5.03372880e-03,\n",
        "          5.03372880e-03,   5.03372880e-03],\n",
        "       [  5.44798756e+01,   2.66085711e-03,   2.66085711e-03,\n",
        "          2.66085711e-03,   2.66085711e-03],\n",
        "       [  5.53881514e+01,   1.80077523e-03,   1.80077523e-03,\n",
        "          1.80077523e-03,   1.80077523e-03],\n",
        "       [  5.53881514e+01,   1.80077523e-03,   1.80077523e-03,\n",
        "          1.80077523e-03,   1.80077523e-03],\n",
        "       [  5.65628858e+01,   1.57427559e-03,   1.57427559e-03,\n",
        "          1.57427559e-03,   1.57427559e-03],\n",
        "       [  5.65628858e+01,   1.57427559e-03,   1.57427559e-03,\n",
        "          1.57427559e-03,   1.57427559e-03],\n",
        "       [  5.65628858e+01,   1.57427559e-03,   1.57427559e-03,\n",
        "          1.57427559e-03,   1.57427559e-03],\n",
        "       [  5.77376202e+01,   1.70580517e-03,   1.70580517e-03,\n",
        "          1.70580517e-03,   1.70580517e-03],\n",
        "       [  5.77376202e+01,   1.70580517e-03,   1.70580517e-03,\n",
        "          1.70580517e-03,   1.70580517e-03],\n",
        "       [  5.92080817e+01,   2.02285801e-03,   2.02285801e-03,\n",
        "          2.02285801e-03,   2.02285801e-03],\n",
        "       [  5.92080817e+01,   2.02285801e-03,   2.02285801e-03,\n",
        "          2.02285801e-03,   2.02285801e-03],\n",
        "       [  5.92080817e+01,   2.02285801e-03,   2.02285801e-03,\n",
        "          2.02285801e-03,   2.02285801e-03],\n",
        "       [  6.06785431e+01,   2.39065346e-03,   2.39065346e-03,\n",
        "          2.39065346e-03,   2.39065346e-03],\n",
        "       [  6.06785431e+01,   2.39065346e-03,   2.39065346e-03,\n",
        "          2.39065346e-03,   2.39065346e-03],\n",
        "       [  6.06785431e+01,   2.39065346e-03,   2.39065346e-03,\n",
        "          2.39065346e-03,   2.39065346e-03],\n",
        "       [  6.28230394e+01,   2.95925435e-03,   2.95925435e-03,\n",
        "          2.95925435e-03,   2.95925435e-03],\n",
        "       [  6.28230394e+01,   2.95925435e-03,   2.95925435e-03,\n",
        "          2.95925435e-03,   2.95925435e-03],\n",
        "       [  6.28230394e+01,   2.95925435e-03,   2.95925435e-03,\n",
        "          2.95925435e-03,   2.95925435e-03],\n",
        "       [  6.28230394e+01,   2.95925435e-03,   2.95925435e-03,\n",
        "          2.95925435e-03,   2.95925435e-03],\n",
        "       [  6.56694341e+01,   3.76208517e-03,   3.76208517e-03,\n",
        "          3.76208517e-03,   3.76208517e-03],\n",
        "       [  6.56694341e+01,   3.76208517e-03,   3.76208517e-03,\n",
        "          3.76208517e-03,   3.76208517e-03],\n",
        "       [  6.56694341e+01,   3.76208517e-03,   3.76208517e-03,\n",
        "          3.76208517e-03,   3.76208517e-03],\n",
        "       [  6.56694341e+01,   3.76208517e-03,   3.76208517e-03,\n",
        "          3.76208517e-03,   3.76208517e-03],\n",
        "       [  6.56694341e+01,   3.76208517e-03,   3.76208517e-03,\n",
        "          3.76208517e-03,   3.76208517e-03],\n",
        "       [  6.56694341e+01,   3.76208517e-03,   3.76208517e-03,\n",
        "          3.76208517e-03,   3.76208517e-03],\n",
        "       [  6.98938874e+01,   5.11330200e-03,   5.11330200e-03,\n",
        "          5.11330200e-03,   5.11330200e-03],\n",
        "       [  6.98938874e+01,   5.11330200e-03,   5.11330200e-03,\n",
        "          5.11330200e-03,   5.11330200e-03],\n",
        "       [  6.98938874e+01,   5.11330200e-03,   5.11330200e-03,\n",
        "          5.11330200e-03,   5.11330200e-03],\n",
        "       [  6.98938874e+01,   5.11330200e-03,   5.11330200e-03,\n",
        "          5.11330200e-03,   5.11330200e-03],\n",
        "       [  6.98938874e+01,   5.11330200e-03,   5.11330200e-03,\n",
        "          5.11330200e-03,   5.11330200e-03],\n",
        "       [  6.98938874e+01,   5.11330200e-03,   5.11330200e-03,\n",
        "          5.11330200e-03,   5.11330200e-03],\n",
        "       [  6.98938874e+01,   5.11330200e-03,   5.11330200e-03,\n",
        "          5.11330200e-03,   5.11330200e-03],\n",
        "       [  6.98938874e+01,   5.11330200e-03,   5.11330200e-03,\n",
        "          5.11330200e-03,   5.11330200e-03],\n",
        "       [  7.30601022e+01,   6.35443776e-03,   6.35443776e-03,\n",
        "          6.35443776e-03,   6.35443776e-03],\n",
        "       [  7.30601022e+01,   6.35443776e-03,   6.35443776e-03,\n",
        "          6.35443776e-03,   6.35443776e-03],\n",
        "       [  7.30601022e+01,   6.35443776e-03,   6.35443776e-03,\n",
        "          6.35443776e-03,   6.35443776e-03],\n",
        "       [  7.30601022e+01,   6.35443776e-03,   6.35443776e-03,\n",
        "          6.35443776e-03,   6.35443776e-03],\n",
        "       [  7.30601022e+01,   6.35443776e-03,   6.35443776e-03,\n",
        "          6.35443776e-03,   6.35443776e-03],\n",
        "       [  7.30601022e+01,   6.35443776e-03,   6.35443776e-03,\n",
        "          6.35443776e-03,   6.35443776e-03],\n",
        "       [  7.30601022e+01,   6.35443776e-03,   6.35443776e-03,\n",
        "          6.35443776e-03,   6.35443776e-03],\n",
        "       [  7.62263171e+01,   7.99987424e-03,   7.99987424e-03,\n",
        "          7.99987424e-03,   7.99987424e-03],\n",
        "       [  7.62263171e+01,   7.99987424e-03,   7.99987424e-03,\n",
        "          7.99987424e-03,   7.99987424e-03],\n",
        "       [  7.62263171e+01,   7.99987424e-03,   7.99987424e-03,\n",
        "          7.99987424e-03,   7.99987424e-03],\n",
        "       [  7.62263171e+01,   7.99987424e-03,   7.99987424e-03,\n",
        "          7.99987424e-03,   7.99987424e-03],\n",
        "       [  7.62263171e+01,   7.99987424e-03,   7.99987424e-03,\n",
        "          7.99987424e-03,   7.99987424e-03],\n",
        "       [  7.62263171e+01,   7.99987424e-03,   7.99987424e-03,\n",
        "          7.99987424e-03,   7.99987424e-03],\n",
        "       [  7.89444386e+01,   1.01691080e-02,   1.01691080e-02,\n",
        "          1.01691080e-02,   1.01691080e-02],\n",
        "       [  7.89444386e+01,   1.01691080e-02,   1.01691080e-02,\n",
        "          1.01691080e-02,   1.01691080e-02],\n",
        "       [  7.89444386e+01,   1.01691080e-02,   1.01691080e-02,\n",
        "          1.01691080e-02,   1.01691080e-02],\n",
        "       [  7.89444386e+01,   1.01691080e-02,   1.01691080e-02,\n",
        "          1.01691080e-02,   1.01691080e-02],\n",
        "       [  7.89444386e+01,   1.01691080e-02,   1.01691080e-02,\n",
        "          1.01691080e-02,   1.01691080e-02],\n",
        "       [  8.06201536e+01,   1.24460362e-02,   1.24460362e-02,\n",
        "          1.24460362e-02,   1.24460362e-02],\n",
        "       [  8.06201536e+01,   1.24460362e-02,   1.24460362e-02,\n",
        "          1.24460362e-02,   1.24460362e-02],\n",
        "       [  8.06201536e+01,   1.24460362e-02,   1.24460362e-02,\n",
        "          1.24460362e-02,   1.24460362e-02],\n",
        "       [  8.06201536e+01,   1.24460362e-02,   1.24460362e-02,\n",
        "          1.24460362e-02,   1.24460362e-02],\n",
        "       [  8.16925498e+01,   1.49499623e-02,   1.49499623e-02,\n",
        "          1.49499623e-02,   1.49499623e-02],\n",
        "       [  8.16925498e+01,   1.49499623e-02,   1.49499623e-02,\n",
        "          1.49499623e-02,   1.49499623e-02],\n",
        "       [  8.24600293e+01,   1.80482965e-02,   1.80482965e-02,\n",
        "          1.80482965e-02,   1.80482965e-02],\n",
        "       [  8.30108316e+01,   2.19286776e-02,   2.19286776e-02,\n",
        "          2.19286776e-02,   2.19286776e-02],\n",
        "       [  8.30108316e+01,   2.19286776e-02,   2.19286776e-02,\n",
        "          2.19286776e-02,   2.19286776e-02],\n",
        "       [  8.34093804e+01,   2.67790277e-02,   2.67790277e-02,\n",
        "          2.67790277e-02,   3.28877119e-02],\n",
        "       [  8.37058593e+01,   3.28877119e-02,   3.63012286e-02,\n",
        "          3.28877119e-02,   5.05196777e-02],\n",
        "       [  8.41116392e+01,   5.05196777e-02,   6.95847110e-02,\n",
        "          5.05196777e-02,   1.21434318e-01],\n",
        "       [  8.45657883e+01,   1.21434318e-01,   1.70424337e-01,\n",
        "          1.21434318e-01,   1.93407400e-01],\n",
        "       [  8.50830824e+01,   1.80783963e-01,   1.56632633e-01,\n",
        "          1.17340820e-01,   1.80783963e-01],\n",
        "       [  8.56031271e+01,   1.17340820e-01,   1.04419277e-01,\n",
        "          7.10224863e-02,   1.17340820e-01],\n",
        "       [  8.61639520e+01,   7.10224863e-02,   6.06934085e-02,\n",
        "          3.57770983e-02,   7.10224863e-02],\n",
        "       [  8.69317451e+01,   3.57770983e-02,   3.57770983e-02,\n",
        "          2.41112871e-02,   3.57770983e-02],\n",
        "       [  8.73730866e+01,   2.41112871e-02,   2.41112871e-02,\n",
        "          1.46172668e-02,   2.41112871e-02],\n",
        "       [  8.79325434e+01,   1.46172668e-02,   1.46172668e-02,\n",
        "          8.91497696e-03,   1.46172668e-02],\n",
        "       [  8.84920003e+01,   8.91497696e-03,   8.91497696e-03,\n",
        "          4.71109287e-03,   8.91497696e-03],\n",
        "       [  8.92560893e+01,   4.71109287e-03,   4.71109287e-03,\n",
        "          4.71109287e-03,   4.71109287e-03],\n",
        "       [  9.01826763e+01,   2.51160053e-03,   2.51160053e-03,\n",
        "          2.51160053e-03,   2.51160053e-03],\n",
        "       [  9.01826763e+01,   2.51160053e-03,   2.51160053e-03,\n",
        "          2.51160053e-03,   2.51160053e-03],\n",
        "       [  9.11092633e+01,   1.74622006e-03,   1.74622006e-03,\n",
        "          1.74622006e-03,   1.74622006e-03],\n",
        "       [  9.11092633e+01,   1.74622006e-03,   1.74622006e-03,\n",
        "          1.74622006e-03,   1.74622006e-03],\n",
        "       [  9.22949388e+01,   1.57816983e-03,   1.57816983e-03,\n",
        "          1.57816983e-03,   1.57816983e-03],\n",
        "       [  9.22949388e+01,   1.57816983e-03,   1.57816983e-03,\n",
        "          1.57816983e-03,   1.57816983e-03],\n",
        "       [  9.34806144e+01,   1.73195144e-03,   1.73195144e-03,\n",
        "          1.73195144e-03,   1.73195144e-03],\n",
        "       [  9.34806144e+01,   1.73195144e-03,   1.73195144e-03,\n",
        "          1.73195144e-03,   1.73195144e-03],\n",
        "       [  9.49757246e+01,   2.06308168e-03,   2.06308168e-03,\n",
        "          2.06308168e-03,   2.06308168e-03],\n",
        "       [  9.49757246e+01,   2.06308168e-03,   2.06308168e-03,\n",
        "          2.06308168e-03,   2.06308168e-03],\n",
        "       [  9.49757246e+01,   2.06308168e-03,   2.06308168e-03,\n",
        "          2.06308168e-03,   2.06308168e-03],\n",
        "       [  9.64708348e+01,   2.44018988e-03,   2.44018988e-03,\n",
        "          2.44018988e-03,   2.44018988e-03],\n",
        "       [  9.64708348e+01,   2.44018988e-03,   2.44018988e-03,\n",
        "          2.44018988e-03,   2.44018988e-03],\n",
        "       [  9.64708348e+01,   2.44018988e-03,   2.44018988e-03,\n",
        "          2.44018988e-03,   2.44018988e-03],\n",
        "       [  9.86719774e+01,   3.02691451e-03,   3.02691451e-03,\n",
        "          3.02691451e-03,   3.02691451e-03],\n",
        "       [  9.86719774e+01,   3.02691451e-03,   3.02691451e-03,\n",
        "          3.02691451e-03,   3.02691451e-03],\n",
        "       [  9.86719774e+01,   3.02691451e-03,   3.02691451e-03,\n",
        "          3.02691451e-03,   3.02691451e-03],\n",
        "       [  9.86719774e+01,   3.02691451e-03,   3.02691451e-03,\n",
        "          3.02691451e-03,   3.02691451e-03],\n",
        "       [  9.86719774e+01,   3.02691451e-03,   3.02691451e-03,\n",
        "          3.02691451e-03,   3.02691451e-03],\n",
        "       [  1.00000000e+02,   3.39607905e-03,   3.39607905e-03,\n",
        "          3.39607905e-03,   3.39607905e-03],\n",
        "       [  1.00000000e+02,   3.39607905e-03,   3.39607905e-03,\n",
        "          3.39607905e-03,   3.39607905e-03],\n",
        "       [  1.00000000e+02,   3.39607905e-03,   3.39607905e-03,\n",
        "          3.39607905e-03,   3.39607905e-03]])"
       ]
      }
     ],
     "prompt_number": 21
    },
    {
     "cell_type": "code",
     "collapsed": false,
     "input": [
      "# \u89e3\u7b54\u6b04\n",
      "%matplotlib inline\n",
      "import numpy as np\n",
      "import matplotlib.pyplot as plt\n",
      "fig = plt.figure()\n",
      "\n",
      "YT_Data = np.array(YT_Logger.getData(0, 100, 0.5))\n",
      "CT_Data = np.array(CT_Logger.getData(0, 100, 0.5))\n",
      "M_Data = np.array(M_Logger.getData(0, 100, 0.5))\n",
      "\n",
      "YT = YT_Data[ :, 1]\n",
      "CT = CT_Data[ :, 1]\n",
      "M = M_Data[ :, 1]\n",
      "\n",
      "x = YT_Data[ :, 0]\n",
      "\n",
      "y1 = YT / CT\n",
      "y2 = M / CT\n",
      "\n",
      "plt.plot( x, y1, label = \"[YT/CT]\" )\n",
      "plt.plot( x, y2, label = \"[M/CT]\" )\n",
      "plt.legend( loc = \"best\")\n",
      "plt.xlabel(\"t(sec)\")\n",
      "plt.ylabel(\"Value\")\n"
     ],
     "language": "python",
     "metadata": {},
     "outputs": [
      {
       "metadata": {},
       "output_type": "pyout",
       "prompt_number": 22,
       "text": [
        "<matplotlib.text.Text at 0x108233b90>"
       ]
      },
      {
       "metadata": {},
       "output_type": "display_data",
       "png": "[encoded data removed]",
       "text": [
        "<matplotlib.figure.Figure at 0x10814ea10>"
       ]
      }
     ],
     "prompt_number": 22
    }
   ],
   "metadata": {}
  }
 ]
}