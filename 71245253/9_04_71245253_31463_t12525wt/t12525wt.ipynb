{
 "metadata": {
  "name": "",
  "signature": "sha256:f0c60f212891a45077ef92a45bc11fb3a3b8b72878ac740e6b56a50ea3b03446"
 },
 "nbformat": 3,
 "nbformat_minor": 0,
 "worksheets": [
  {
   "cells": [
    {
     "cell_type": "heading",
     "level": 1,
     "metadata": {},
     "source": [
      "*\u30d0\u30a4\u30aa\u30b7\u30df\u30e5\u30ec\u30fc\u30b7\u30e7\u30f31 \u6700\u7d42\u8ab2\u984c*"
     ]
    },
    {
     "cell_type": "heading",
     "level": 3,
     "metadata": {},
     "source": [
      "\u9ad8\u8429\u822a(t12525wt, 71245253)"
     ]
    },
    {
     "cell_type": "markdown",
     "metadata": {},
     "source": [
      "* Tyson1991.eml\u3092\u8aad\u307f\u8fbc\u307f\u3001\u30b7\u30df\u30e5\u30ec\u30fc\u30b7\u30e7\u30f3\u306e\u6e96\u5099\u3092\u3059\u308b"
     ]
    },
    {
     "cell_type": "code",
     "collapsed": false,
     "input": [
      "import imp\n",
      "import numpy as np\n",
      "import matplotlib.pyplot as plt\n",
      "try:\n",
      "    imp.find_module(\"ecell\")\n",
      "except ImportError:\n",
      "    import sys\n",
      "    sys.path.append(\"/opt/local/lib/python2.7/site-packages\")\n",
      "    sys.path.append(\"/opt/local/Library/Frameworks/Python.framework/Versions/2.7/lib/python2.7/site-packages\")\n",
      "%matplotlib inline\n",
      "%install_ext https://raw.githubusercontent.com/naito/ecell3-ipython/master/extensions/ecell3.py\n",
      "%load_ext ecell3\n",
      "loadModel(\"Tyson1991.eml\")"
     ],
     "language": "python",
     "metadata": {},
     "outputs": [
      {
       "output_type": "stream",
       "stream": "stdout",
       "text": [
        "Installed ecell3.py. To use it, type:\n",
        "  %load_ext ecell3\n",
        "The ecell3 extension is already loaded. To reload it, use:\n",
        "  %reload_ext ecell3\n"
       ]
      },
      {
       "ename": "RuntimeError",
       "evalue": "Failed to create Entity [System:/:cell]: AlreadyExist: System[System::/]: System System[unbound: cell] is already associated (System[System::/])",
       "output_type": "pyerr",
       "traceback": [
        "\u001b[0;31m---------------------------------------------------------------------------\u001b[0m\n\u001b[0;31mRuntimeError\u001b[0m                              Traceback (most recent call last)",
        "\u001b[0;32m<ipython-input-8-a09050c1f334>\u001b[0m in \u001b[0;36m<module>\u001b[0;34m()\u001b[0m\n\u001b[1;32m     11\u001b[0m \u001b[0mget_ipython\u001b[0m\u001b[0;34m(\u001b[0m\u001b[0;34m)\u001b[0m\u001b[0;34m.\u001b[0m\u001b[0mmagic\u001b[0m\u001b[0;34m(\u001b[0m\u001b[0;34mu'install_ext https://raw.githubusercontent.com/naito/ecell3-ipython/master/extensions/ecell3.py'\u001b[0m\u001b[0;34m)\u001b[0m\u001b[0;34m\u001b[0m\u001b[0m\n\u001b[1;32m     12\u001b[0m \u001b[0mget_ipython\u001b[0m\u001b[0;34m(\u001b[0m\u001b[0;34m)\u001b[0m\u001b[0;34m.\u001b[0m\u001b[0mmagic\u001b[0m\u001b[0;34m(\u001b[0m\u001b[0;34mu'load_ext ecell3'\u001b[0m\u001b[0;34m)\u001b[0m\u001b[0;34m\u001b[0m\u001b[0m\n\u001b[0;32m---> 13\u001b[0;31m \u001b[0mloadModel\u001b[0m\u001b[0;34m(\u001b[0m\u001b[0;34m\"Tyson1991.eml\"\u001b[0m\u001b[0;34m)\u001b[0m\u001b[0;34m\u001b[0m\u001b[0m\n\u001b[0m",
        "\u001b[0;32m/usr/local/lib/python2.7/site-packages/ecell/Session.pyc\u001b[0m in \u001b[0;36mloadModel\u001b[0;34m(self, aModel)\u001b[0m\n\u001b[1;32m    102\u001b[0m         \u001b[0;31m# calls load methods\u001b[0m\u001b[0;34m\u001b[0m\u001b[0;34m\u001b[0m\u001b[0m\n\u001b[1;32m    103\u001b[0m         \u001b[0mself\u001b[0m\u001b[0;34m.\u001b[0m\u001b[0m__loadStepper\u001b[0m\u001b[0;34m(\u001b[0m \u001b[0manEml\u001b[0m \u001b[0;34m)\u001b[0m\u001b[0;34m\u001b[0m\u001b[0m\n\u001b[0;32m--> 104\u001b[0;31m         \u001b[0mself\u001b[0m\u001b[0;34m.\u001b[0m\u001b[0m__loadEntity\u001b[0m\u001b[0;34m(\u001b[0m \u001b[0manEml\u001b[0m \u001b[0;34m)\u001b[0m\u001b[0;34m\u001b[0m\u001b[0m\n\u001b[0m\u001b[1;32m    105\u001b[0m         \u001b[0mself\u001b[0m\u001b[0;34m.\u001b[0m\u001b[0m__loadAllProperty\u001b[0m\u001b[0;34m(\u001b[0m \u001b[0manEml\u001b[0m \u001b[0;34m)\u001b[0m\u001b[0;34m\u001b[0m\u001b[0m\n\u001b[1;32m    106\u001b[0m         \u001b[0mself\u001b[0m\u001b[0;34m.\u001b[0m\u001b[0mtheSimulator\u001b[0m\u001b[0;34m.\u001b[0m\u001b[0minitialize\u001b[0m\u001b[0;34m(\u001b[0m\u001b[0;34m)\u001b[0m\u001b[0;34m\u001b[0m\u001b[0m\n",
        "\u001b[0;32m/usr/local/lib/python2.7/site-packages/ecell/Session.pyc\u001b[0m in \u001b[0;36m__loadEntity\u001b[0;34m(self, anEml, aSystemPath)\u001b[0m\n\u001b[1;32m    461\u001b[0m         \u001b[0mself\u001b[0m\u001b[0;34m.\u001b[0m\u001b[0m__loadEntityList\u001b[0m\u001b[0;34m(\u001b[0m \u001b[0manEml\u001b[0m\u001b[0;34m,\u001b[0m \u001b[0;34m'Variable'\u001b[0m\u001b[0;34m,\u001b[0m \u001b[0maSystemPath\u001b[0m\u001b[0;34m,\u001b[0m \u001b[0maVariableList\u001b[0m \u001b[0;34m)\u001b[0m\u001b[0;34m\u001b[0m\u001b[0m\n\u001b[1;32m    462\u001b[0m         \u001b[0mself\u001b[0m\u001b[0;34m.\u001b[0m\u001b[0m__loadEntityList\u001b[0m\u001b[0;34m(\u001b[0m \u001b[0manEml\u001b[0m\u001b[0;34m,\u001b[0m \u001b[0;34m'Process'\u001b[0m\u001b[0;34m,\u001b[0m  \u001b[0maSystemPath\u001b[0m\u001b[0;34m,\u001b[0m \u001b[0maProcessList\u001b[0m \u001b[0;34m)\u001b[0m\u001b[0;34m\u001b[0m\u001b[0m\n\u001b[0;32m--> 463\u001b[0;31m         \u001b[0mself\u001b[0m\u001b[0;34m.\u001b[0m\u001b[0m__loadEntityList\u001b[0m\u001b[0;34m(\u001b[0m \u001b[0manEml\u001b[0m\u001b[0;34m,\u001b[0m \u001b[0;34m'System'\u001b[0m\u001b[0;34m,\u001b[0m   \u001b[0maSystemPath\u001b[0m\u001b[0;34m,\u001b[0m \u001b[0maSubSystemList\u001b[0m \u001b[0;34m)\u001b[0m\u001b[0;34m\u001b[0m\u001b[0m\n\u001b[0m\u001b[1;32m    464\u001b[0m \u001b[0;34m\u001b[0m\u001b[0m\n\u001b[1;32m    465\u001b[0m         \u001b[0;32mfor\u001b[0m \u001b[0maSystem\u001b[0m \u001b[0;32min\u001b[0m \u001b[0maSubSystemList\u001b[0m\u001b[0;34m:\u001b[0m\u001b[0;34m\u001b[0m\u001b[0m\n",
        "\u001b[0;32m/usr/local/lib/python2.7/site-packages/ecell/Session.pyc\u001b[0m in \u001b[0;36m__loadEntityList\u001b[0;34m(self, anEml, anEntityTypeString, aSystemPath, anIDList)\u001b[0m\n\u001b[1;32m    517\u001b[0m             \u001b[0;32mexcept\u001b[0m \u001b[0mRuntimeError\u001b[0m\u001b[0;34m,\u001b[0m \u001b[0me\u001b[0m\u001b[0;34m:\u001b[0m\u001b[0;34m\u001b[0m\u001b[0m\n\u001b[1;32m    518\u001b[0m                 raise RuntimeError( 'Failed to create Entity [%s]: ' % (aFullID,) +\\\n\u001b[0;32m--> 519\u001b[0;31m                                     str( e ) )\n\u001b[0m\u001b[1;32m    520\u001b[0m \u001b[0;34m\u001b[0m\u001b[0m\n\u001b[1;32m    521\u001b[0m \u001b[0;34m\u001b[0m\u001b[0m\n",
        "\u001b[0;31mRuntimeError\u001b[0m: Failed to create Entity [System:/:cell]: AlreadyExist: System[System::/]: System System[unbound: cell] is already associated (System[System::/])"
       ]
      }
     ],
     "prompt_number": 8
    },
    {
     "cell_type": "heading",
     "level": 3,
     "metadata": {},
     "source": [
      "cdc2\u3092\u542b\u3080\u30e2\u30c7\u30eb\u306e\u53ef\u8996\u5316"
     ]
    },
    {
     "cell_type": "code",
     "collapsed": false,
     "input": [
      "CP = 'Variable:/cell:CP:Value'\n",
      "pM = 'Variable:/cell:pM:Value'\n",
      "M  = 'Variable:/cell:M:Value'\n",
      "Y  = 'Variable:/cell:Y:Value'\n",
      "YP = 'Variable:/cell:YP:Value'\n",
      "\n",
      "Targets = [ CP, pM, M, Y, YP ]\n",
      "\n",
      "Logger_dict = {}\n",
      "\n",
      "for FullPN in Targets:\n",
      "    Logger_dict[ FullPN ] = createLoggerStub( FullPN )\n",
      "    Logger_dict[ FullPN ].create()\n",
      "run( 100 )\n",
      "Data_dict = {}\n",
      "for FullPN, Logger in Logger_dict.items():\n",
      "    Data_dict[ FullPN ] = np.array( Logger.getData( 0, 100, 0.1 ) )[ :, :2 ]\n",
      "plt.figure()\n",
      "plt.title( 'cdc2 dynamics' )\n",
      "for FullPN, d in Data_dict.items():\n",
      "    if FullPN in [ CP, pM, M ]:\n",
      "        plt.plot( d[ :, 0 ], d[ :, 1 ], label = FullPN.split(':')[ 2 ] )\n",
      "\n",
      "plt.legend( loc = 'upper right' )"
     ],
     "language": "python",
     "metadata": {},
     "outputs": []
    },
    {
     "cell_type": "heading",
     "level": 3,
     "metadata": {},
     "source": [
      "cycline\u3092\u542b\u3080\u30e2\u30c7\u30eb\u306e\u53ef\u8996\u5316"
     ]
    },
    {
     "cell_type": "code",
     "collapsed": false,
     "input": [
      "plt.figure()\n",
      "plt.title( 'cycline dynamics' )\n",
      "for FullPN, d in Data_dict.items():\n",
      "    if FullPN in [ Y, pM, M, YP ]:\n",
      "        plt.plot( d[ :, 0 ], d[ :, 1 ], label = FullPN.split(':')[ 2 ] )\n",
      "\n",
      "plt.legend( loc = 'upper right' )\n",
      "\n"
     ],
     "language": "python",
     "metadata": {},
     "outputs": []
    },
    {
     "cell_type": "heading",
     "level": 3,
     "metadata": {},
     "source": [
      "CP, PM\u306e\u6319\u52d5\u306b\u6ce8\u76ee\u3057\u3066\u307f\u308b"
     ]
    },
    {
     "cell_type": "code",
     "collapsed": false,
     "input": [
      "CP = 'Variable:/cell:CP:Value'\n",
      "pM = 'Variable:/cell:pM:Value'\n",
      "M  = 'Variable:/cell:M:Value'\n",
      "Y  = 'Variable:/cell:Y:Value'\n",
      "YP = 'Variable:/cell:YP:Value'\n",
      "Targets = [ CP, pM, M, Y, YP ]\n",
      "Logger_dict = {}\n",
      "for FullPN in Targets:\n",
      "    Logger_dict[ FullPN ] = createLoggerStub( FullPN )\n",
      "    Logger_dict[ FullPN ].create()\n",
      "run( 100 )\n",
      "Data_dict = {}\n",
      "for FullPN, Logger in Logger_dict.items():\n",
      "    Data_dict[ FullPN ] = np.array( Logger.getData( 14, 50, 0.1 ) )[ :, :2 ]\n",
      "plt.figure()\n",
      "plt.title( 'cdc2 dynamics' )\n",
      "for FullPN, d in Data_dict.items():\n",
      "    if FullPN in [CP]:\n",
      "        plt.plot( d[ :, 0 ], d[ :, 1 ], label = FullPN.split(':')[ 2 ] )\n",
      "        CP = d\n",
      "plt.title( 'cycline dynamics' )\n",
      "for FullPN, d in Data_dict.items():\n",
      "    if FullPN in [pM]:\n",
      "        plt.plot( d[ :, 0 ], d[ :, 1 ], label = FullPN.split(':')[ 2 ] )\n",
      "        pM = d\n",
      "plt.legend( loc = 'best' )\n"
     ],
     "language": "python",
     "metadata": {},
     "outputs": []
    },
    {
     "cell_type": "heading",
     "level": 3,
     "metadata": {},
     "source": [
      "CP\u3068pM\u306e\u95a2\u4fc2\u6027\u3092\u76f8\u7a7a\u9593\u30d7\u30ed\u30c3\u30c8\u3067\u898b\u3066\u307f\u308b"
     ]
    },
    {
     "cell_type": "code",
     "collapsed": false,
     "input": [
      "for FullPN in Targets:\n",
      "    Logger_dict[ FullPN ] = createLoggerStub( FullPN )\n",
      "    Logger_dict[ FullPN ].create()\n",
      "run( 1000 )\n",
      "Data_dict = {}\n",
      "for FullPN, Logger in Logger_dict.items():\n",
      "    Data_dict[ FullPN ] = np.array( Logger.getData( 0, 1000, 0.1 ) )[ :, :2 ]\n",
      "for FullPN, d in Data_dict.items():\n",
      "    if FullPN in [CP]:\n",
      "        CP = d\n",
      "for FullPN, d in Data_dict.items():\n",
      "    if FullPN in [pM]:\n",
      "        pM = d\n",
      "CP_Data = CP[ :, 1 ]\n",
      "pM_Data = pM[ :, 1 ]\n",
      "plt.figure()\n",
      "plt.plot( CP_Data, pM_Data )\n",
      "plt.xlabel( 'CP' )\n",
      "plt.ylabel( 'pM' )\n",
      "plt.xlim( CP_Data.min() - ( ( CP_Data.max() - CP_Data.min() ) * 0.1 ), CP_Data.max() + ( ( CP_Data.max() - CP_Data.min() ) * 0.1 ) )\n",
      "plt.ylim( pM_Data.min() - ( ( pM_Data.max() - pM_Data.min() ) * 0.1 ), pM_Data.max() + ( ( pM_Data.max() - pM_Data.min() ) * 0.1 ) )"
     ],
     "language": "python",
     "metadata": {},
     "outputs": []
    },
    {
     "cell_type": "markdown",
     "metadata": {},
     "source": [
      "* \u4e0a\u306e\u76f8\u7a7a\u9593\u30d7\u30ed\u30c3\u30c8\u304b\u3089\u308f\u304b\u308b\u3088\u3046\u306b\u3001CP\u3068pM\u306f\u632f\u52d5\u3057\u3066\u3044\u308b\u3002\n",
      "* Tyson1991\u30e2\u30c7\u30eb\u306f\u3001\u4ee5\u4e0b\u306e8\u3064\u306e\u5f0f\u3092\u57fa\u3068\u3057\u3066\u3044\u308b\u3002"
     ]
    },
    {
     "cell_type": "markdown",
     "metadata": {},
     "source": [
      "![analysis](./ode.pdf)"
     ]
    },
    {
     "cell_type": "markdown",
     "metadata": {},
     "source": [
      "\u3053\u3053\u3067\u3001CP\u3068pM\u306e\u5f0f\u3092\u7c21\u7565\u5316\u3057\u3066\u307f\u3066\u307f\u308b\u3002"
     ]
    },
    {
     "cell_type": "markdown",
     "metadata": {},
     "source": [
      "![analysis](./ode2.pdf)"
     ]
    },
    {
     "cell_type": "markdown",
     "metadata": {},
     "source": [
      "* [CP]\u306f\u81ea\u5df1\u6291\u5236\u306e\u5f0f\u3001\u81ea\u5df1\u523a\u6fc0\u306e\u5f0f\u3001[M]\u306b\u3088\u308b\u523a\u6fc0\u306e\u5f0f\u304c\u542b\u307e\u308c\u3066\u3044\u308b\u3002\n",
      "* [pM]\u306f\u81ea\u5df1\u6291\u5236\u306e\u5f0f\u3001[CP]\u306b\u3088\u308b\u523a\u6fc0\u306e\u5f0f\u3001[M]\u306b\u3088\u308b\u523a\u6fc0\u306e\u5f0f\u304c\u542b\u307e\u308c\u3066\u3044\u308b\u3002"
     ]
    },
    {
     "cell_type": "markdown",
     "metadata": {},
     "source": [
      "\u3053\u3053\u3067\u3001M\u306e\u6642\u7cfb\u5217\u5909\u5316\u3092\u63cf\u5199\u3057\u3066\u307f\u308b\u3002"
     ]
    },
    {
     "cell_type": "code",
     "collapsed": false,
     "input": [
      "for FullPN in Targets:\n",
      "    Logger_dict[ FullPN ] = createLoggerStub( FullPN )\n",
      "    Logger_dict[ FullPN ].create()\n",
      "run( 100 )\n",
      "Data_dict = {}\n",
      "for FullPN, Logger in Logger_dict.items():\n",
      "    Data_dict[ FullPN ] = np.array( Logger.getData( 0, 100, 0.1 ) )[ :, :2 ]\n",
      "for FullPN, d in Data_dict.items():\n",
      "    if FullPN in [M]:\n",
      "        plt.plot( d[ :, 0 ], d[ :, 1 ], label = FullPN.split(':')[ 2 ] )\n",
      "plt.legend( loc = 'best' )"
     ],
     "language": "python",
     "metadata": {},
     "outputs": []
    },
    {
     "cell_type": "markdown",
     "metadata": {},
     "source": [
      "\u307e\u305f\u3001\u4e00\u3064\u306e\u5c71\u306b\u6ce8\u76ee\u3057\u3066\u3001CP\u3068pM\u306e\u30d7\u30ed\u30c3\u30c8\u3068\u91cd\u306d\u3066\u8868\u793a\u3057\u3066\u307f\u308b\u3002"
     ]
    },
    {
     "cell_type": "code",
     "collapsed": false,
     "input": [
      "CP = 'Variable:/cell:CP:Value'\n",
      "pM = 'Variable:/cell:pM:Value'\n",
      "M  = 'Variable:/cell:M:Value'\n",
      "Y  = 'Variable:/cell:Y:Value'\n",
      "YP = 'Variable:/cell:YP:Value'\n",
      "Targets = [ CP, pM, M, Y, YP ]\n",
      "Logger_dict = {}\n",
      "for FullPN in Targets:\n",
      "    Logger_dict[ FullPN ] = createLoggerStub( FullPN )\n",
      "    Logger_dict[ FullPN ].create()\n",
      "run( 100 )\n",
      "Data_dict = {}\n",
      "for FullPN, Logger in Logger_dict.items():\n",
      "    Data_dict[ FullPN ] = np.array( Logger.getData( 10, 20, 0.1 ) )[ :, :2 ]\n",
      "plt.figure()\n",
      "for FullPN, d in Data_dict.items():\n",
      "    if FullPN in [M]:\n",
      "        plt.plot( d[ :, 0 ], d[ :, 1 ], label = FullPN.split(':')[ 2 ] )\n",
      "for FullPN, d in Data_dict.items():\n",
      "    if FullPN in [CP]:\n",
      "        plt.plot( d[ :, 0 ], d[ :, 1 ], label = FullPN.split(':')[ 2 ] )\n",
      "for FullPN, d in Data_dict.items():\n",
      "    if FullPN in [pM]:\n",
      "        plt.plot( d[ :, 0 ], d[ :, 1 ], label = FullPN.split(':')[ 2 ] )\n",
      "plt.legend( loc = 'best' )"
     ],
     "language": "python",
     "metadata": {},
     "outputs": []
    },
    {
     "cell_type": "markdown",
     "metadata": {},
     "source": [
      "\u4e0a\u306e\u56f3\u3088\u308a\u3001\u78ba\u304b\u306bM\u306e\u523a\u6fc0\u306b\u3088\u3063\u3066CP\u3068pM\u306e\u5024\u304c\u6025\u6fc0\u306b\u5909\u52d5\u3057\u3066\u3044\u308b\u4e8b\u304c\u308f\u304b\u308b\u3002\n",
      "\u6642\u9593\u304c\u7d4c\u3064\u306b\u3064\u308c\u3066\u3001CP\u306fM\u306e\u523a\u6fc0\u304c\u7121\u304f\u306a\u308b\u3068\u81ea\u5df1\u6291\u5236\u306b\u3088\u3063\u3066\u6e1b\u5c11\u3057\u3066\u3044\u304f\u3068\u540c\u6642\u306b\n",
      "M\u306f\u81ea\u5df1\u523a\u6fc0\u306b\u3088\u3063\u3066\u5897\u52a0\u3057\u3066\u3044\u304f\u3002\u3042\u308b\u5024\u306b\u306a\u308b\u3068\u518d\u3073M\u306e\u523a\u6fc0\u304c\u5165\u308a\u3001\n",
      "CP\u3068pM\u306f\u540c\u3058\u30b5\u30a4\u30af\u30eb\u3092\u7e70\u308a\u8fd4\u3059\u3002"
     ]
    },
    {
     "cell_type": "markdown",
     "metadata": {},
     "source": [
      "![analysis](./ode3.pdf)"
     ]
    },
    {
     "cell_type": "markdown",
     "metadata": {},
     "source": [
      "M\u306fCT\u306b\u5bc4\u4e0e\u3055\u308c\u3066\u304a\u308a\u3001\u307e\u305fCT\u306f\u30e2\u30c7\u30eb\u306e\u4ed6\u306e\u8981\u7d20\u306b\u3088\u3063\u3066\u5236\u5fa1\u3055\u308c\u3066\u3044\u308b\u3002\n",
      "\u5f93\u3063\u3066\u3001\u30e2\u30c7\u30eb\u5168\u4f53\u3092\u901a\u3057\u3066\u5468\u671f\u7684\u306b\u5897\u6e1b\u3092\u7e70\u308a\u8fd4\u3059\u4e8b\u304c\u308f\u304b\u308b\u3002"
     ]
    }
   ],
   "metadata": {}
  }
 ]
}