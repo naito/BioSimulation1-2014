{
 "metadata": {
  "name": "",
  "signature": "sha256:43ee40b3cb73e07716b0615f039b3bc8c2ed34bd30383a03fbc066e6c030e7b0"
 },
 "nbformat": 3,
 "nbformat_minor": 0,
 "worksheets": [
  {
   "cells": [
    {
     "cell_type": "heading",
     "level": 1,
     "metadata": {},
     "source": [
      "\u6700\u7d42\u8a66\u9a13\uff08\uff12\uff09"
     ]
    },
    {
     "cell_type": "code",
     "collapsed": false,
     "input": [
      "import imp\n",
      "try:\n",
      "    imp.find_module(\"ecell\")\n",
      "except ImportError:\n",
      "    import sys\n",
      "    sys.path.append(\"/opt/local/lib/python2.7/site-packages\")\n",
      "    sys.path.append(\"/opt/local/Library/Frameworks/Python.framework/Versions/2.7/lib/python2.7/site-packages\")"
     ],
     "language": "python",
     "metadata": {},
     "outputs": [],
     "prompt_number": 1
    },
    {
     "cell_type": "code",
     "collapsed": false,
     "input": [
      "import numpy as np\n",
      "\n",
      "%matplotlib inline\n",
      "import matplotlib.pyplot as plt\n",
      "\n",
      "%install_ext https://raw.githubusercontent.com/naito/ecell3-ipython/master/extensions/ecell3.py\n",
      "%load_ext ecell3"
     ],
     "language": "python",
     "metadata": {},
     "outputs": [
      {
       "output_type": "stream",
       "stream": "stdout",
       "text": [
        "Installed ecell3.py. To use it, type:\n",
        "  %load_ext ecell3\n"
       ]
      }
     ],
     "prompt_number": 2
    },
    {
     "cell_type": "heading",
     "level": 3,
     "metadata": {},
     "source": [
      "\u30e2\u30c7\u30eb\u30d5\u30a1\u30a4\u30eb\u306e\u8aad\u307f\u8fbc\u307f"
     ]
    },
    {
     "cell_type": "code",
     "collapsed": false,
     "input": [
      "loadModel(\"Lec-14.eml\")"
     ],
     "language": "python",
     "metadata": {},
     "outputs": [],
     "prompt_number": 3
    },
    {
     "cell_type": "code",
     "collapsed": false,
     "input": [
      "#less Lec-14.em"
     ],
     "language": "python",
     "metadata": {},
     "outputs": [],
     "prompt_number": 9
    },
    {
     "cell_type": "heading",
     "level": 2,
     "metadata": {},
     "source": [
      "\u554f\u984c\uff12"
     ]
    },
    {
     "cell_type": "markdown",
     "metadata": {},
     "source": [
      "* \u6642\u523b _t_ = 0 \u3067\u306e _S_ \u306e\u5024\uff08`Value`\uff09\u3092\u30011.1 \u306b\u8a2d\u5b9a\u3057\u3001\u6642\u523b _t_ = 50 \u307e\u3067\u30b7\u30df\u30e5\u30ec\u30fc\u30b7\u30e7\u30f3\u3092\u5b9f\u884c\u3057\u3001_X_ \u306e\u5024\uff08`Value`\uff09\u3092\u30d7\u30ed\u30c3\u30c8\u3057\u306a\u3055\u3044\u3002"
     ]
    },
    {
     "cell_type": "code",
     "collapsed": false,
     "input": [
      "S = 'Variable:/:S:Value' \n",
      "P = 'Variable:/:P:Value'\n",
      "X = 'Variable:/:X:Value'\n",
      "Y = 'Variable:/:Y:Value'\n",
      "R = createEntityStub( 'Variable:/:S:Value' )\n",
      "print R.getPropertyList()\n",
      "R['Value'] = 1.1\n",
      "Targets = [ S, P, X, Y ]\n",
      "Logger_dict = {}\n",
      "for FullPN in Targets:\n",
      "    Logger_dict[ FullPN ] = createLoggerStub( FullPN )\n",
      "    Logger_dict[ FullPN ].create()\n",
      "run( 50 )\n",
      "Data_dict = {}\n",
      "for FullPN, Logger in Logger_dict.items():\n",
      "    Data_dict[ FullPN ] = np.array( Logger.getData( 0, 50, 0.1 ) )[ :, :2 ]\n",
      "for FullPN, d in Data_dict.items():\n",
      "    if FullPN in [ X ]:\n",
      "        plt.plot( d[ :, 0 ], d[ :, 1 ], label = FullPN.split(':')[ 2 ] )\n",
      "plt.legend( loc = 'upper right' )"
     ],
     "language": "python",
     "metadata": {},
     "outputs": [
      {
       "output_type": "stream",
       "stream": "stdout",
       "text": [
        "['DiffusionCoeff', 'Fixed', 'MolarConc', 'Name', 'NumberConc', 'Value', 'Velocity']\n"
       ]
      },
      {
       "ename": "RuntimeError",
       "evalue": "NoSlot: Variable[Variable:/:S]: failed to set property [Value:Value] (no such slot). (Variable[Variable:/:S])",
       "output_type": "pyerr",
       "traceback": [
        "\u001b[0;31m---------------------------------------------------------------------------\u001b[0m\n\u001b[0;31mRuntimeError\u001b[0m                              Traceback (most recent call last)",
        "\u001b[0;32m<ipython-input-14-784913890e8d>\u001b[0m in \u001b[0;36m<module>\u001b[0;34m()\u001b[0m\n\u001b[1;32m      5\u001b[0m \u001b[0mR\u001b[0m \u001b[0;34m=\u001b[0m \u001b[0mcreateEntityStub\u001b[0m\u001b[0;34m(\u001b[0m \u001b[0;34m'Variable:/:S:Value'\u001b[0m \u001b[0;34m)\u001b[0m\u001b[0;34m\u001b[0m\u001b[0m\n\u001b[1;32m      6\u001b[0m \u001b[0;32mprint\u001b[0m \u001b[0mR\u001b[0m\u001b[0;34m.\u001b[0m\u001b[0mgetPropertyList\u001b[0m\u001b[0;34m(\u001b[0m\u001b[0;34m)\u001b[0m\u001b[0;34m\u001b[0m\u001b[0m\n\u001b[0;32m----> 7\u001b[0;31m \u001b[0mR\u001b[0m\u001b[0;34m[\u001b[0m\u001b[0;34m'Value'\u001b[0m\u001b[0;34m]\u001b[0m \u001b[0;34m=\u001b[0m \u001b[0;36m1.1\u001b[0m\u001b[0;34m\u001b[0m\u001b[0m\n\u001b[0m\u001b[1;32m      8\u001b[0m \u001b[0mTargets\u001b[0m \u001b[0;34m=\u001b[0m \u001b[0;34m[\u001b[0m \u001b[0mS\u001b[0m\u001b[0;34m,\u001b[0m \u001b[0mP\u001b[0m\u001b[0;34m,\u001b[0m \u001b[0mX\u001b[0m\u001b[0;34m,\u001b[0m \u001b[0mY\u001b[0m \u001b[0;34m]\u001b[0m\u001b[0;34m\u001b[0m\u001b[0m\n\u001b[1;32m      9\u001b[0m \u001b[0mLogger_dict\u001b[0m \u001b[0;34m=\u001b[0m \u001b[0;34m{\u001b[0m\u001b[0;34m}\u001b[0m\u001b[0;34m\u001b[0m\u001b[0m\n",
        "\u001b[0;32m/usr/local/lib/python2.7/site-packages/ecell/EntityStub.pyc\u001b[0m in \u001b[0;36m__setitem__\u001b[0;34m(self, aPropertyName, aValue)\u001b[0m\n\u001b[1;32m    125\u001b[0m         \u001b[0mThis\u001b[0m \u001b[0mmethod\u001b[0m \u001b[0mcan\u001b[0m \u001b[0mthrow\u001b[0m \u001b[0mexceptions\u001b[0m\u001b[0;34m.\u001b[0m\u001b[0;34m\u001b[0m\u001b[0m\n\u001b[1;32m    126\u001b[0m         \"\"\"\n\u001b[0;32m--> 127\u001b[0;31m         \u001b[0mself\u001b[0m\u001b[0;34m.\u001b[0m\u001b[0msetProperty\u001b[0m\u001b[0;34m(\u001b[0m \u001b[0maPropertyName\u001b[0m\u001b[0;34m,\u001b[0m \u001b[0maValue\u001b[0m \u001b[0;34m)\u001b[0m\u001b[0;34m\u001b[0m\u001b[0m\n\u001b[0m\u001b[1;32m    128\u001b[0m \u001b[0;34m\u001b[0m\u001b[0m\n\u001b[1;32m    129\u001b[0m     \u001b[0;32mdef\u001b[0m \u001b[0mgetProperty\u001b[0m\u001b[0;34m(\u001b[0m \u001b[0mself\u001b[0m\u001b[0;34m,\u001b[0m \u001b[0maPropertyName\u001b[0m \u001b[0;34m)\u001b[0m\u001b[0;34m:\u001b[0m\u001b[0;34m\u001b[0m\u001b[0m\n",
        "\u001b[0;32m/usr/local/lib/python2.7/site-packages/ecell/EntityStub.pyc\u001b[0m in \u001b[0;36msetProperty\u001b[0;34m(self, aPropertyName, aValue)\u001b[0m\n\u001b[1;32m    116\u001b[0m         \"\"\"\n\u001b[1;32m    117\u001b[0m         \u001b[0maFullPN\u001b[0m \u001b[0;34m=\u001b[0m \u001b[0mself\u001b[0m\u001b[0;34m.\u001b[0m\u001b[0mtheFullIDString\u001b[0m \u001b[0;34m+\u001b[0m \u001b[0;34m':'\u001b[0m \u001b[0;34m+\u001b[0m \u001b[0maPropertyName\u001b[0m\u001b[0;34m\u001b[0m\u001b[0m\n\u001b[0;32m--> 118\u001b[0;31m         \u001b[0mself\u001b[0m\u001b[0;34m.\u001b[0m\u001b[0mtheSimulator\u001b[0m\u001b[0;34m(\u001b[0m\u001b[0;34m)\u001b[0m\u001b[0;34m.\u001b[0m\u001b[0msetEntityProperty\u001b[0m\u001b[0;34m(\u001b[0m \u001b[0maFullPN\u001b[0m\u001b[0;34m,\u001b[0m \u001b[0maValue\u001b[0m \u001b[0;34m)\u001b[0m\u001b[0;34m\u001b[0m\u001b[0m\n\u001b[0m\u001b[1;32m    119\u001b[0m         \u001b[0mself\u001b[0m\u001b[0;34m.\u001b[0m\u001b[0mtheSimulator\u001b[0m\u001b[0;34m(\u001b[0m\u001b[0;34m)\u001b[0m\u001b[0;34m.\u001b[0m\u001b[0mmarkDirty\u001b[0m\u001b[0;34m(\u001b[0m\u001b[0;34m)\u001b[0m\u001b[0;34m\u001b[0m\u001b[0m\n\u001b[1;32m    120\u001b[0m \u001b[0;34m\u001b[0m\u001b[0m\n",
        "\u001b[0;31mRuntimeError\u001b[0m: NoSlot: Variable[Variable:/:S]: failed to set property [Value:Value] (no such slot). (Variable[Variable:/:S])"
       ]
      }
     ],
     "prompt_number": 14
    },
    {
     "cell_type": "markdown",
     "metadata": {},
     "source": [
      "S\u306e\u5024\u304c\u5897\u3048\u308b\u3068X\u304c\u751f\u6210\u3055\u308c\u308b\u901f\u5ea6\u304c\u5897\u3048\u308b\u3002"
     ]
    },
    {
     "cell_type": "markdown",
     "metadata": {},
     "source": [
      "X"
     ]
    },
    {
     "cell_type": "heading",
     "level": 4,
     "metadata": {},
     "source": [
      "FinalExam-3 \u306b\u9032\u3093\u3067\u304f\u3060\u3055\u3044\u3002"
     ]
    },
    {
     "cell_type": "heading",
     "level": 3,
     "metadata": {},
     "source": [
      "\u554f\u984c\uff12\uff22"
     ]
    },
    {
     "cell_type": "markdown",
     "metadata": {},
     "source": [
      "* \u554f\u984c\uff13\u304c\u96e3\u3057\u304f\u3066\u6b6f\u304c\u7acb\u305f\u306a\u3044\u3068\u611f\u3058\u305f\u3089\u3001\u3053\u3061\u3089\u3092\u89e3\u3044\u3066\u3082\u3044\u3044\u3067\u3059\u3002\u554f\u984c\uff13\u3088\u308a\u306f\u3084\u3084\u6613\u3057\u3044\u306f\u305a\u3067\u3059\u3002\n",
      "* \u5143\u306e\u30e2\u30c7\u30eb\uff08_S_ \u306e\u521d\u671f\u5024 = 1.0 \uff09\u3068\u3001\u554f\u984c\uff12\u3067\u5909\u66f4\u3057\u305f\u30e2\u30c7\u30eb\uff08_S_ \u306e\u521d\u671f\u5024 = 1.1 \uff09\u306e\u9055\u3044\u3092\u3001\uff14\u3064\u306e `Variable` \u306e `Value`\u3001\uff14\u3064\u306e `Process` \u306e `Activity` \uff08\u53cd\u5fdc\u901f\u5ea6\uff09\u3092\u8abf\u3079\u3066\u8aac\u660e\u3057\u306a\u3055\u3044\u3002\n",
      "* \u4e0b\u306e\u89e3\u7b54\u6b04\uff11\u306b\u30b3\u30fc\u30c9\u3092\u3001\u89e3\u7b54\u6b04\uff12\u306b\u8aac\u660e\u3092\u3001\u305d\u308c\u305e\u308c\u66f8\u304d\u306a\u3055\u3044\u3002"
     ]
    },
    {
     "cell_type": "code",
     "collapsed": false,
     "input": [
      "# \u89e3\u7b54\u6b04\uff11"
     ],
     "language": "python",
     "metadata": {},
     "outputs": [],
     "prompt_number": 6
    },
    {
     "cell_type": "markdown",
     "metadata": {},
     "source": [
      "\u89e3\u7b54\u6b04\uff12"
     ]
    }
   ],
   "metadata": {}
  }
 ]
}