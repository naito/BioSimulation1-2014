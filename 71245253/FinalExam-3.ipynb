{
 "metadata": {
  "name": "",
  "signature": "sha256:6d0c94dfe2bf9575d73fa042610eefd9fac0137d15bbf0e58268a1815f4bcdfa"
 },
 "nbformat": 3,
 "nbformat_minor": 0,
 "worksheets": [
  {
   "cells": [
    {
     "cell_type": "heading",
     "level": 1,
     "metadata": {},
     "source": [
      "\u6700\u7d42\u8a66\u9a13\uff08\uff13\uff09"
     ]
    },
    {
     "cell_type": "code",
     "collapsed": false,
     "input": [
      "import imp\n",
      "try:\n",
      "    imp.find_module(\"ecell\")\n",
      "except ImportError:\n",
      "    import sys\n",
      "    sys.path.append(\"/opt/local/lib/python2.7/site-packages\")\n",
      "    sys.path.append(\"/opt/local/Library/Frameworks/Python.framework/Versions/2.7/lib/python2.7/site-packages\")"
     ],
     "language": "python",
     "metadata": {},
     "outputs": [],
     "prompt_number": 1
    },
    {
     "cell_type": "code",
     "collapsed": false,
     "input": [
      "import numpy as np\n",
      "\n",
      "%matplotlib inline\n",
      "import matplotlib.pyplot as plt\n",
      "\n",
      "%install_ext https://raw.githubusercontent.com/naito/ecell3-ipython/master/extensions/ecell3.py\n",
      "%load_ext ecell3"
     ],
     "language": "python",
     "metadata": {},
     "outputs": [
      {
       "output_type": "stream",
       "stream": "stdout",
       "text": [
        "Installed ecell3.py. To use it, type:\n",
        "  %load_ext ecell3\n"
       ]
      }
     ],
     "prompt_number": 2
    },
    {
     "cell_type": "heading",
     "level": 3,
     "metadata": {},
     "source": [
      "\u30e2\u30c7\u30eb\u30d5\u30a1\u30a4\u30eb\u306e\u8aad\u307f\u8fbc\u307f"
     ]
    },
    {
     "cell_type": "code",
     "collapsed": false,
     "input": [
      "loadModel(\"Lec-14.eml\")"
     ],
     "language": "python",
     "metadata": {},
     "outputs": [],
     "prompt_number": 3
    },
    {
     "cell_type": "code",
     "collapsed": false,
     "input": [
      "def reset_model():\n",
      "    Vs = [ createEntityStub( 'Variable:/:{}'.format( V ) ) for V in ( 'S', 'P', 'X', 'Y' ) ]\n",
      "    for V in Vs:\n",
      "        V['Value'] = 1.0"
     ],
     "language": "python",
     "metadata": {},
     "outputs": [],
     "prompt_number": 4
    },
    {
     "cell_type": "code",
     "collapsed": false,
     "input": [
      "print 't = {}'.format( getCurrentTime() )"
     ],
     "language": "python",
     "metadata": {},
     "outputs": [
      {
       "output_type": "stream",
       "stream": "stdout",
       "text": [
        "t = 0.0\n"
       ]
      }
     ],
     "prompt_number": 5
    },
    {
     "cell_type": "heading",
     "level": 2,
     "metadata": {},
     "source": [
      "\u554f\u984c\uff13"
     ]
    },
    {
     "cell_type": "markdown",
     "metadata": {},
     "source": [
      "* _S_ \u306e\u521d\u671f\u5024\uff08\u6642\u523b _t_ = 0 \u3067\u306e\u5024\uff09\u3092\u30011.0 \u2266 _S_ \u2266 1.1 \u306e\u7bc4\u56f2\u3067\u3055\u307e\u3056\u307e\u306b\u5909\u5316\u3055\u305b\u3001_t_ = 50 \u3067\u306e _X_ \u306e\u5024\u3068\u306e\u95a2\u4fc2\u3092\u691c\u8a0e\u3057\u3066\u304f\u3060\u3055\u3044\u3002\n",
      "* \u30e1\u30bd\u30c3\u30c9 `reset_model()` \u3092\u5b9f\u884c\u3059\u308b\u3068\u3001\u30e2\u30c7\u30eb\u5185\u306e\uff14\u3064\u306e\u5909\u6570\u3092\u521d\u671f\u5024\u306b\u623b\u3059\u3053\u3068\u304c\u3067\u304d\u307e\u3059\uff08\u521d\u671f\u5024\u306f\u3059\u3079\u3066 1.0 \u3067\u3059\uff09\u3002\n",
      "* `reset_model()` \u3092\u5229\u7528\u3057\u3066\u3001\u7e70\u308a\u8fd4\u3057\u51e6\u7406\u3067\u3001\u3055\u307e\u3056\u307e\u306a _S_ \u306e\u521d\u671f\u5024\u3092\u8a66\u3059\u3053\u3068\u304c\u3067\u304d\u307e\u3059\u3002\u305d\u306e\u5834\u5408\u3001\u6642\u523b _t_ \u306f\u30ea\u30bb\u30c3\u30c8\u3055\u308c\u306a\u3044\u3053\u3068\u306b\u6ce8\u610f\u3057\u3066\u304f\u3060\u3055\u3044\u3002\n",
      "* \u6642\u523b _t_ \u306f\u3001\u30e1\u30bd\u30c3\u30c9 `getCurrentTime()` \u3067\u77e5\u308b\u3053\u3068\u304c\u3067\u304d\u307e\u3059\u3002\n",
      "* \u89e3\u7b54\u6b04\uff11\u306b Python \u306e\u30b3\u30fc\u30c9\u3092\u3001\u89e3\u7b54\u6b04\uff12\u306b\u8003\u5bdf\u3092\u66f8\u304d\u306a\u3055\u3044\u3002"
     ]
    },
    {
     "cell_type": "code",
     "collapsed": false,
     "input": [
      "S = 'Variable:/:S:Value' \n",
      "P = 'Variable:/:P:Value'\n",
      "X = 'Variable:/:X:Value'\n",
      "Y = 'Variable:/:Y:Value'\n",
      "Targets = [ S, P, X, Y ]\n",
      "Logger_dict = {}\n",
      "for FullPN in Targets:\n",
      "    Logger_dict[ FullPN ] = createLoggerStub( FullPN )\n",
      "    Logger_dict[ FullPN ].create()\n",
      "run( 50 )\n",
      "Data_dict = {}\n",
      "for FullPN, Logger in Logger_dict.items():\n",
      "    Data_dict[ FullPN ] = np.array( Logger.getData( 0, 50, 0.1 ) )[ :, :2 ]\n",
      "for FullPN, d in Data_dict.items():\n",
      "    if FullPN in [ X ]:\n",
      "        plt.plot( d[ :, 0 ], d[ :, 1 ], label = FullPN.split(':')[ 2 ] )\n",
      "plt.legend( loc = 'upper right' )"
     ],
     "language": "python",
     "metadata": {},
     "outputs": [
      {
       "metadata": {},
       "output_type": "pyout",
       "prompt_number": 7,
       "text": [
        "<matplotlib.legend.Legend at 0x10ed9a610>"
       ]
      },
      {
       "metadata": {},
       "output_type": "display_data",
       "png": "[encoded data removed]",
       "text": [
        "<matplotlib.figure.Figure at 0x1127050d0>"
       ]
      }
     ],
     "prompt_number": 7
    },
    {
     "cell_type": "markdown",
     "metadata": {},
     "source": [
      "\u89e3\u7b54\u6b04\uff12"
     ]
    }
   ],
   "metadata": {}
  }
 ]
}