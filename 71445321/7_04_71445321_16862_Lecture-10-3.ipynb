{
 "metadata": {
  "name": "",
  "signature": "sha256:d3a7a6dc5872823976035d0d3c29e441fa723fa2b90535aa9fc2c37981df3875"
 },
 "nbformat": 3,
 "nbformat_minor": 0,
 "worksheets": [
  {
   "cells": [
    {
     "cell_type": "heading",
     "level": 1,
     "metadata": {},
     "source": [
      "\u7b2c10\u56de\u3000\u30b7\u30df\u30e5\u30ec\u30fc\u30b7\u30e7\u30f3\u3072\u3068\u3081\u3050\u308a\uff08\uff13\uff09\n"
     ]
    },
    {
     "cell_type": "markdown",
     "metadata": {},
     "source": [
      "E-Cell \u306e\u30e2\u30c7\u30eb\u3092\u8aad\u307f\u8fbc\u3093\u3067\u3001\u30b7\u30df\u30e5\u30ec\u30fc\u30b7\u30e7\u30f3\u3092\u5b9f\u884c\u3057\u3001\u305d\u306e\u7d50\u679c\u3092\u30b0\u30e9\u30d5\u306b\u63cf\u304d\u307e\u3059\u3002\n",
      "\n",
      "\u7b2c\uff12\u56de\uff08`Lecture-02.ipynb`\uff09\u306e\u5185\u5bb9\u3092\u3001\u5404\u6bb5\u968e\u3092\u7406\u89e3\u3057\u306a\u304c\u3089\u5b9f\u884c\u3057\u307e\u3059\u3002"
     ]
    },
    {
     "cell_type": "code",
     "collapsed": false,
     "input": [
      "import numpy as np"
     ],
     "language": "python",
     "metadata": {},
     "outputs": [],
     "prompt_number": 1
    },
    {
     "cell_type": "code",
     "collapsed": false,
     "input": [
      "%matplotlib inline\n",
      "import matplotlib.pyplot as plt"
     ],
     "language": "python",
     "metadata": {},
     "outputs": [],
     "prompt_number": 2
    },
    {
     "cell_type": "heading",
     "level": 2,
     "metadata": {},
     "source": [
      "IPython \u3067 E-Cell \u306e\u6a5f\u80fd\u3092\u4f7f\u3048\u308b\u3088\u3046\u306b\u6a5f\u80fd\u3092\u62e1\u5f35\u3059\u308b"
     ]
    },
    {
     "cell_type": "markdown",
     "metadata": {},
     "source": [
      "Web\u4e0a\u306b\u516c\u958b\u3055\u308c\u3066\u3044\u308b\u6a5f\u80fd\u62e1\u5f35\u3092\u30a4\u30f3\u30b9\u30c8\u30fc\u30eb\uff08`%install_ext`\uff09\u3057\u3001\u8aad\u307f\u8fbc\u3080\uff08`%load_ext`\uff09"
     ]
    },
    {
     "cell_type": "code",
     "collapsed": false,
     "input": [
      "import imp\n",
      "try:\n",
      "    imp.find_module(\"ecell\")\n",
      "except ImportError:\n",
      "    import sys\n",
      "    sys.path.append(\"/opt/local/lib/python2.7/site-packages\")\n",
      "    sys.path.append(\"/opt/local/Library/Frameworks/Python.framework/Versions/2.7/lib/python2.7/site-packages\")"
     ],
     "language": "python",
     "metadata": {},
     "outputs": [],
     "prompt_number": 3
    },
    {
     "cell_type": "code",
     "collapsed": false,
     "input": [
      "%install_ext https://raw.githubusercontent.com/naito/ecell3-ipython/master/extensions/ecell3.py"
     ],
     "language": "python",
     "metadata": {},
     "outputs": [
      {
       "output_type": "stream",
       "stream": "stdout",
       "text": [
        "Installed ecell3.py. To use it, type:\n",
        "  %load_ext ecell3\n"
       ]
      }
     ],
     "prompt_number": 4
    },
    {
     "cell_type": "code",
     "collapsed": false,
     "input": [
      "%load_ext ecell3"
     ],
     "language": "python",
     "metadata": {},
     "outputs": [
      {
       "ename": "ImportError",
       "evalue": "No module named ecell.config",
       "output_type": "pyerr",
       "traceback": [
        "\u001b[0;31m---------------------------------------------------------------------------\u001b[0m\n\u001b[0;31mImportError\u001b[0m                               Traceback (most recent call last)",
        "\u001b[0;32m<ipython-input-5-379e7ac75466>\u001b[0m in \u001b[0;36m<module>\u001b[0;34m()\u001b[0m\n\u001b[0;32m----> 1\u001b[0;31m \u001b[0mget_ipython\u001b[0m\u001b[0;34m(\u001b[0m\u001b[0;34m)\u001b[0m\u001b[0;34m.\u001b[0m\u001b[0mmagic\u001b[0m\u001b[0;34m(\u001b[0m\u001b[0;34mu'load_ext ecell3'\u001b[0m\u001b[0;34m)\u001b[0m\u001b[0;34m\u001b[0m\u001b[0m\n\u001b[0m",
        "\u001b[0;32m/Users/kazu/.pyenv/versions/anaconda-2.0.1/lib/python2.7/site-packages/IPython/core/interactiveshell.pyc\u001b[0m in \u001b[0;36mmagic\u001b[0;34m(self, arg_s)\u001b[0m\n\u001b[1;32m   2203\u001b[0m         \u001b[0mmagic_name\u001b[0m\u001b[0;34m,\u001b[0m \u001b[0m_\u001b[0m\u001b[0;34m,\u001b[0m \u001b[0mmagic_arg_s\u001b[0m \u001b[0;34m=\u001b[0m \u001b[0marg_s\u001b[0m\u001b[0;34m.\u001b[0m\u001b[0mpartition\u001b[0m\u001b[0;34m(\u001b[0m\u001b[0;34m' '\u001b[0m\u001b[0;34m)\u001b[0m\u001b[0;34m\u001b[0m\u001b[0m\n\u001b[1;32m   2204\u001b[0m         \u001b[0mmagic_name\u001b[0m \u001b[0;34m=\u001b[0m \u001b[0mmagic_name\u001b[0m\u001b[0;34m.\u001b[0m\u001b[0mlstrip\u001b[0m\u001b[0;34m(\u001b[0m\u001b[0mprefilter\u001b[0m\u001b[0;34m.\u001b[0m\u001b[0mESC_MAGIC\u001b[0m\u001b[0;34m)\u001b[0m\u001b[0;34m\u001b[0m\u001b[0m\n\u001b[0;32m-> 2205\u001b[0;31m         \u001b[0;32mreturn\u001b[0m \u001b[0mself\u001b[0m\u001b[0;34m.\u001b[0m\u001b[0mrun_line_magic\u001b[0m\u001b[0;34m(\u001b[0m\u001b[0mmagic_name\u001b[0m\u001b[0;34m,\u001b[0m \u001b[0mmagic_arg_s\u001b[0m\u001b[0;34m)\u001b[0m\u001b[0;34m\u001b[0m\u001b[0m\n\u001b[0m\u001b[1;32m   2206\u001b[0m \u001b[0;34m\u001b[0m\u001b[0m\n\u001b[1;32m   2207\u001b[0m     \u001b[0;31m#-------------------------------------------------------------------------\u001b[0m\u001b[0;34m\u001b[0m\u001b[0;34m\u001b[0m\u001b[0m\n",
        "\u001b[0;32m/Users/kazu/.pyenv/versions/anaconda-2.0.1/lib/python2.7/site-packages/IPython/core/interactiveshell.pyc\u001b[0m in \u001b[0;36mrun_line_magic\u001b[0;34m(self, magic_name, line)\u001b[0m\n\u001b[1;32m   2124\u001b[0m                 \u001b[0mkwargs\u001b[0m\u001b[0;34m[\u001b[0m\u001b[0;34m'local_ns'\u001b[0m\u001b[0;34m]\u001b[0m \u001b[0;34m=\u001b[0m \u001b[0msys\u001b[0m\u001b[0;34m.\u001b[0m\u001b[0m_getframe\u001b[0m\u001b[0;34m(\u001b[0m\u001b[0mstack_depth\u001b[0m\u001b[0;34m)\u001b[0m\u001b[0;34m.\u001b[0m\u001b[0mf_locals\u001b[0m\u001b[0;34m\u001b[0m\u001b[0m\n\u001b[1;32m   2125\u001b[0m             \u001b[0;32mwith\u001b[0m \u001b[0mself\u001b[0m\u001b[0;34m.\u001b[0m\u001b[0mbuiltin_trap\u001b[0m\u001b[0;34m:\u001b[0m\u001b[0;34m\u001b[0m\u001b[0m\n\u001b[0;32m-> 2126\u001b[0;31m                 \u001b[0mresult\u001b[0m \u001b[0;34m=\u001b[0m \u001b[0mfn\u001b[0m\u001b[0;34m(\u001b[0m\u001b[0;34m*\u001b[0m\u001b[0margs\u001b[0m\u001b[0;34m,\u001b[0m\u001b[0;34m**\u001b[0m\u001b[0mkwargs\u001b[0m\u001b[0;34m)\u001b[0m\u001b[0;34m\u001b[0m\u001b[0m\n\u001b[0m\u001b[1;32m   2127\u001b[0m             \u001b[0;32mreturn\u001b[0m \u001b[0mresult\u001b[0m\u001b[0;34m\u001b[0m\u001b[0m\n\u001b[1;32m   2128\u001b[0m \u001b[0;34m\u001b[0m\u001b[0m\n",
        "\u001b[0;32m/Users/kazu/.pyenv/versions/anaconda-2.0.1/lib/python2.7/site-packages/IPython/core/magics/extension.pyc\u001b[0m in \u001b[0;36mload_ext\u001b[0;34m(self, module_str)\u001b[0m\n",
        "\u001b[0;32m/Users/kazu/.pyenv/versions/anaconda-2.0.1/lib/python2.7/site-packages/IPython/core/magic.pyc\u001b[0m in \u001b[0;36m<lambda>\u001b[0;34m(f, *a, **k)\u001b[0m\n\u001b[1;32m    191\u001b[0m     \u001b[0;31m# but it's overkill for just that one bit of state.\u001b[0m\u001b[0;34m\u001b[0m\u001b[0;34m\u001b[0m\u001b[0m\n\u001b[1;32m    192\u001b[0m     \u001b[0;32mdef\u001b[0m \u001b[0mmagic_deco\u001b[0m\u001b[0;34m(\u001b[0m\u001b[0marg\u001b[0m\u001b[0;34m)\u001b[0m\u001b[0;34m:\u001b[0m\u001b[0;34m\u001b[0m\u001b[0m\n\u001b[0;32m--> 193\u001b[0;31m         \u001b[0mcall\u001b[0m \u001b[0;34m=\u001b[0m \u001b[0;32mlambda\u001b[0m \u001b[0mf\u001b[0m\u001b[0;34m,\u001b[0m \u001b[0;34m*\u001b[0m\u001b[0ma\u001b[0m\u001b[0;34m,\u001b[0m \u001b[0;34m**\u001b[0m\u001b[0mk\u001b[0m\u001b[0;34m:\u001b[0m \u001b[0mf\u001b[0m\u001b[0;34m(\u001b[0m\u001b[0;34m*\u001b[0m\u001b[0ma\u001b[0m\u001b[0;34m,\u001b[0m \u001b[0;34m**\u001b[0m\u001b[0mk\u001b[0m\u001b[0;34m)\u001b[0m\u001b[0;34m\u001b[0m\u001b[0m\n\u001b[0m\u001b[1;32m    194\u001b[0m \u001b[0;34m\u001b[0m\u001b[0m\n\u001b[1;32m    195\u001b[0m         \u001b[0;32mif\u001b[0m \u001b[0mcallable\u001b[0m\u001b[0;34m(\u001b[0m\u001b[0marg\u001b[0m\u001b[0;34m)\u001b[0m\u001b[0;34m:\u001b[0m\u001b[0;34m\u001b[0m\u001b[0m\n",
        "\u001b[0;32m/Users/kazu/.pyenv/versions/anaconda-2.0.1/lib/python2.7/site-packages/IPython/core/magics/extension.pyc\u001b[0m in \u001b[0;36mload_ext\u001b[0;34m(self, module_str)\u001b[0m\n\u001b[1;32m     61\u001b[0m         \u001b[0;32mif\u001b[0m \u001b[0;32mnot\u001b[0m \u001b[0mmodule_str\u001b[0m\u001b[0;34m:\u001b[0m\u001b[0;34m\u001b[0m\u001b[0m\n\u001b[1;32m     62\u001b[0m             \u001b[0;32mraise\u001b[0m \u001b[0mUsageError\u001b[0m\u001b[0;34m(\u001b[0m\u001b[0;34m'Missing module name.'\u001b[0m\u001b[0;34m)\u001b[0m\u001b[0;34m\u001b[0m\u001b[0m\n\u001b[0;32m---> 63\u001b[0;31m         \u001b[0mres\u001b[0m \u001b[0;34m=\u001b[0m \u001b[0mself\u001b[0m\u001b[0;34m.\u001b[0m\u001b[0mshell\u001b[0m\u001b[0;34m.\u001b[0m\u001b[0mextension_manager\u001b[0m\u001b[0;34m.\u001b[0m\u001b[0mload_extension\u001b[0m\u001b[0;34m(\u001b[0m\u001b[0mmodule_str\u001b[0m\u001b[0;34m)\u001b[0m\u001b[0;34m\u001b[0m\u001b[0m\n\u001b[0m\u001b[1;32m     64\u001b[0m \u001b[0;34m\u001b[0m\u001b[0m\n\u001b[1;32m     65\u001b[0m         \u001b[0;32mif\u001b[0m \u001b[0mres\u001b[0m \u001b[0;34m==\u001b[0m \u001b[0;34m'already loaded'\u001b[0m\u001b[0;34m:\u001b[0m\u001b[0;34m\u001b[0m\u001b[0m\n",
        "\u001b[0;32m/Users/kazu/.pyenv/versions/anaconda-2.0.1/lib/python2.7/site-packages/IPython/core/extensions.pyc\u001b[0m in \u001b[0;36mload_extension\u001b[0;34m(self, module_str)\u001b[0m\n\u001b[1;32m     96\u001b[0m             \u001b[0;32mif\u001b[0m \u001b[0mmodule_str\u001b[0m \u001b[0;32mnot\u001b[0m \u001b[0;32min\u001b[0m \u001b[0msys\u001b[0m\u001b[0;34m.\u001b[0m\u001b[0mmodules\u001b[0m\u001b[0;34m:\u001b[0m\u001b[0;34m\u001b[0m\u001b[0m\n\u001b[1;32m     97\u001b[0m                 \u001b[0;32mwith\u001b[0m \u001b[0mprepended_to_syspath\u001b[0m\u001b[0;34m(\u001b[0m\u001b[0mself\u001b[0m\u001b[0;34m.\u001b[0m\u001b[0mipython_extension_dir\u001b[0m\u001b[0;34m)\u001b[0m\u001b[0;34m:\u001b[0m\u001b[0;34m\u001b[0m\u001b[0m\n\u001b[0;32m---> 98\u001b[0;31m                     \u001b[0m__import__\u001b[0m\u001b[0;34m(\u001b[0m\u001b[0mmodule_str\u001b[0m\u001b[0;34m)\u001b[0m\u001b[0;34m\u001b[0m\u001b[0m\n\u001b[0m\u001b[1;32m     99\u001b[0m             \u001b[0mmod\u001b[0m \u001b[0;34m=\u001b[0m \u001b[0msys\u001b[0m\u001b[0;34m.\u001b[0m\u001b[0mmodules\u001b[0m\u001b[0;34m[\u001b[0m\u001b[0mmodule_str\u001b[0m\u001b[0;34m]\u001b[0m\u001b[0;34m\u001b[0m\u001b[0m\n\u001b[1;32m    100\u001b[0m             \u001b[0;32mif\u001b[0m \u001b[0mself\u001b[0m\u001b[0;34m.\u001b[0m\u001b[0m_call_load_ipython_extension\u001b[0m\u001b[0;34m(\u001b[0m\u001b[0mmod\u001b[0m\u001b[0;34m)\u001b[0m\u001b[0;34m:\u001b[0m\u001b[0;34m\u001b[0m\u001b[0m\n",
        "\u001b[0;32m/Users/kazu/.ipython/extensions/ecell3.py\u001b[0m in \u001b[0;36m<module>\u001b[0;34m()\u001b[0m\n\u001b[1;32m     33\u001b[0m \"\"\"\n\u001b[1;32m     34\u001b[0m \u001b[0;34m\u001b[0m\u001b[0m\n\u001b[0;32m---> 35\u001b[0;31m \u001b[0;32mimport\u001b[0m \u001b[0mecell\u001b[0m\u001b[0;34m.\u001b[0m\u001b[0mconfig\u001b[0m\u001b[0;34m\u001b[0m\u001b[0m\n\u001b[0m\u001b[1;32m     36\u001b[0m \u001b[0;32mimport\u001b[0m \u001b[0mecell\u001b[0m\u001b[0;34m.\u001b[0m\u001b[0mecs\u001b[0m\u001b[0;34m\u001b[0m\u001b[0m\n\u001b[1;32m     37\u001b[0m \u001b[0;32mimport\u001b[0m \u001b[0mecell\u001b[0m\u001b[0;34m.\u001b[0m\u001b[0memc\u001b[0m\u001b[0;34m\u001b[0m\u001b[0m\n",
        "\u001b[0;31mImportError\u001b[0m: No module named ecell.config"
       ]
      }
     ],
     "prompt_number": 5
    },
    {
     "cell_type": "heading",
     "level": 2,
     "metadata": {},
     "source": [
      "\u30e2\u30c7\u30eb\u30d5\u30a1\u30a4\u30eb\u3092\u8aad\u307f\u8fbc\u3080"
     ]
    },
    {
     "cell_type": "markdown",
     "metadata": {},
     "source": [
      "`%ls` \u3067\u3001\u30d5\u30a9\u30eb\u30c0\u5185\u306b\u30e2\u30c7\u30eb\u30d5\u30a1\u30a4\u30eb `BIOMD0000000005.eml` \u304c\u3042\u308b\u304b\u3001\u78ba\u8a8d\u3002\u306a\u3051\u308c\u3070\u914d\u7f6e\u3059\u308b\u3002"
     ]
    },
    {
     "cell_type": "code",
     "collapsed": false,
     "input": [
      "%ls"
     ],
     "language": "python",
     "metadata": {},
     "outputs": []
    },
    {
     "cell_type": "markdown",
     "metadata": {},
     "source": [
      "\u95a2\u6570 `loadModel( _\u30e2\u30c7\u30eb\u30d5\u30a1\u30a4\u30eb\u540d_ )` \u3067\u30e2\u30c7\u30eb\u30d5\u30a1\u30a4\u30eb\u3092\u8aad\u307f\u8fbc\u3080\u3002"
     ]
    },
    {
     "cell_type": "code",
     "collapsed": false,
     "input": [
      "loadModel(\"BIOMD0000000005.eml\")"
     ],
     "language": "python",
     "metadata": {},
     "outputs": []
    },
    {
     "cell_type": "heading",
     "level": 2,
     "metadata": {},
     "source": [
      "\u73fe\u6642\u523b\u3092\u77e5\u308b"
     ]
    },
    {
     "cell_type": "markdown",
     "metadata": {},
     "source": [
      "* \u30b7\u30df\u30e5\u30ec\u30fc\u30bf\u5185\u306e\u73fe\u6642\u523b\u3092\u77e5\u308b\u306b\u306f\u3001**`getCurrentTime()`** \uff08Fundamentals p.94\uff09\u3092\u5229\u7528\u3057\u307e\u3059\u3002"
     ]
    },
    {
     "cell_type": "code",
     "collapsed": false,
     "input": [
      "getCurrentTime()"
     ],
     "language": "python",
     "metadata": {},
     "outputs": []
    },
    {
     "cell_type": "heading",
     "level": 2,
     "metadata": {},
     "source": [
      "\u30e2\u30c7\u30eb\u306e\u69cb\u6210\u3092\u78ba\u8a8d\u3059\u308b"
     ]
    },
    {
     "cell_type": "markdown",
     "metadata": {},
     "source": [
      "* \u30e2\u30c7\u30eb\u4e2d\u306b\u5b58\u5728\u3059\u308b **`Entity`** \u3092\u3059\u3079\u3066\u30ea\u30b9\u30c8\u30a2\u30c3\u30d7\u3057\u3066\u307f\u307e\u3059\u3002\n",
      "* \u30e1\u30bd\u30c3\u30c9 **`getEntityList( `_`entitytype`_`, `_`systempath`_` )`** \u3092\u5229\u7528\u3057\u307e\u3059\u3002\n",
      "    * E-Cell Fundamentals p.93\u301c \u306b `ecell3` \u6a5f\u80fd\u62e1\u5f35\u3092\u8aad\u307f\u8fbc\u3093\u3060\u3042\u3068\u306b\u5229\u7528\u3067\u304d\u308b\u95a2\u6570\u306e\u30ea\u30d5\u30a1\u30ec\u30f3\u30b9\u304c\u3042\u308a\u307e\u3059\u3002\n",
      "* E-Cell \u306e\u30e2\u30c7\u30eb\u306b\u306f\u3001\u5fc5\u305a\u30eb\u30fc\u30c8\u30b7\u30b9\u30c6\u30e0\uff08`System::/`\uff09\u304c\u5b58\u5728\u3059\u308b\u306e\u3067\u3001\u3053\u3053\u3092\u8db3\u304c\u304b\u308a\u306b\u69cb\u6210\u3092\u8abf\u3079\u308b\u3053\u3068\u304c\u3067\u304d\u307e\u3059\u3002"
     ]
    },
    {
     "cell_type": "code",
     "collapsed": false,
     "input": [
      "getEntityList( 'System', '/' )"
     ],
     "language": "python",
     "metadata": {},
     "outputs": []
    },
    {
     "cell_type": "code",
     "collapsed": false,
     "input": [
      "Entity_types = ( 'System', 'Variable', 'Process' )\n",
      "\n",
      "a_systempath = '/cell'\n",
      "\n",
      "for a_type in Entity_types:\n",
      "    a_list = getEntityList( a_type, a_systempath )\n",
      "    \n",
      "    for an_Entity in a_list:\n",
      "        print '{type}:{path}:{ID}'.format( type = a_type, path = a_systempath, ID = an_Entity )"
     ],
     "language": "python",
     "metadata": {},
     "outputs": []
    },
    {
     "cell_type": "heading",
     "level": 3,
     "metadata": {},
     "source": [
      "\u6f14\u7fd2\uff13\n"
     ]
    },
    {
     "cell_type": "markdown",
     "metadata": {},
     "source": [
      "\u30e2\u30c7\u30eb\u4e2d\u306e\u3059\u3079\u3066\u306e `Variable` \u3068 `Process` \u3092\u3001\u914d\u7f6e\u3055\u308c\u305f `System` \u3054\u3068\u306b\u30ea\u30b9\u30c8\u3057\u3066\u304f\u3060\u3055\u3044\u3002"
     ]
    },
    {
     "cell_type": "code",
     "collapsed": false,
     "input": [
      "#System_list = [ '/' ]\n",
      "\n",
      "#for S in getEntityList( 'System', '/' ):\n",
      "#    System_list.append( S )\n",
      "\n",
      "def get_sub_System( SysPath ):\n",
      "   return [ '{}/{}'.format(  SysPath, S ) for S in getEntityList( 'System', SysPath ) ]\n",
      "\n",
      "#SysPath = '/'\n",
      "System_list = [ '/' ]\n",
      "\n",
      "#while True:\n",
      "\n",
      "    n =  len( System_list )\n",
      "    for S in System_list:\n",
      "        System_list += list(set(get_sub_System( S )))\n",
      "        print System_list\n",
      "    if len( System_list ) == n:\n",
      "        break\n",
      "\n",
      "\n",
      "print System_list"
     ],
     "language": "python",
     "metadata": {},
     "outputs": []
    },
    {
     "cell_type": "code",
     "collapsed": false,
     "input": [
      "# \u89e3\u7b54\u6b04\n",
      "a = [\"/\", \"/cell\", \"/SBMLRule\"]\n",
      "Entity_types = ( 'Variable', 'Process' )\n",
      "\n",
      "for a_systempath in a:\n",
      "    \n",
      "    for a_type in Entity_types:\n",
      "        a_list = getEntityList( a_type, a_systempath )\n",
      "    \n",
      "        for an_Entity in a_list:\n",
      "            print '{type}:{path}:{ID}'.format( type = a_type, path = a_systempath, ID = an_Entity )\n",
      "\n",
      "\n"
     ],
     "language": "python",
     "metadata": {},
     "outputs": []
    },
    {
     "cell_type": "heading",
     "level": 2,
     "metadata": {},
     "source": [
      "\u30e2\u30c7\u30eb\u5185\u306e\u5c5e\u6027\u5024\u3092\u53d6\u308a\u3060\u3059\n"
     ]
    },
    {
     "cell_type": "markdown",
     "metadata": {},
     "source": [
      "* \u30e1\u30bd\u30c3\u30c9 **`createEntityStub( `_`fullid`_` )`** \uff08Fundamentals p.96\uff09\u3092\u5229\u7528\u3057\u307e\u3059\u3002\n",
      "* **`Entity`** \u30aa\u30d6\u30b8\u30a7\u30af\u30c8\u304c\u6301\u3064\u5c5e\u6027\u306e\u4e00\u89a7\u3092\u5f97\u308b\u306b\u306f\u3001**`getPropertyList()`** \uff08Fundamentals p.99\uff09\u3092\u5229\u7528\u3057\u307e\u3059\u3002\n"
     ]
    },
    {
     "cell_type": "code",
     "collapsed": false,
     "input": [
      "M = createEntityStub( 'Variable:/cell:M' )\n",
      "M.getPropertyList()"
     ],
     "language": "python",
     "metadata": {},
     "outputs": []
    },
    {
     "cell_type": "markdown",
     "metadata": {},
     "source": [
      "* `Entity` \u30aa\u30d6\u30b8\u30a7\u30af\u30c8\u306e\u4efb\u610f\u306e\u5c5e\u6027\u306e\u5024\u3092\u5f97\u308b\u306b\u306f\u3001**`getProperty( `_`propertyname`_` )`** \uff08Fundamentals p.98\uff09\u3092\u5229\u7528\u3059\u308b\u304b\u3001\u8f9e\u66f8\u306e\u30ad\u30fc\u306e\u3088\u3046\u306b\u5c5e\u6027\u540d\u3092\u6307\u5b9a\u3057\u307e\u3059\u3002\n"
     ]
    },
    {
     "cell_type": "code",
     "collapsed": false,
     "input": [
      "print M.getProperty( 'Value' )  # Value : \u5206\u5b50\u306e\u500b\u6570\n",
      "\n",
      "print M[ 'MolarConc' ]  # MolarConc : \u30e2\u30eb\u6fc3\u5ea6"
     ],
     "language": "python",
     "metadata": {},
     "outputs": []
    },
    {
     "cell_type": "heading",
     "level": 3,
     "metadata": {},
     "source": [
      "\u6f14\u7fd2\uff14\n"
     ]
    },
    {
     "cell_type": "markdown",
     "metadata": {},
     "source": [
      "\u30e2\u30c7\u30eb\u4e2d\u306e\u3059\u3079\u3066\u306e `Variable` \u306e\u5c5e\u6027 `Value` \u3092\u30ea\u30b9\u30c8\u3057\u3066\u304f\u3060\u3055\u3044\u3002"
     ]
    },
    {
     "cell_type": "code",
     "collapsed": false,
     "input": [
      "#\u89e3\u7b54\u6b04\n",
      "a = [\"/\", \"/cell\", \"/SBMLRule\"]\n",
      "Entity_types = [ 'Variable' ]\n",
      "\n",
      "for a_systempath in a:\n",
      "    \n",
      "    for a_type in Entity_types:\n",
      "        a_list = getEntityList( a_type, a_systempath )\n",
      "    \n",
      "        for an_Entity in a_list:\n",
      "            print '{type}:{path}:{ID}'.format( type = a_type, path = a_systempath, ID = an_Entity )"
     ],
     "language": "python",
     "metadata": {},
     "outputs": []
    },
    {
     "cell_type": "code",
     "collapsed": false,
     "input": [
      " 'Variable' [3]"
     ],
     "language": "python",
     "metadata": {},
     "outputs": []
    },
    {
     "cell_type": "heading",
     "level": 2,
     "metadata": {},
     "source": [
      "\u8a18\u9332\u3059\u308b\u30c7\u30fc\u30bf\u3092\u9078\u3073\u3001**`LoggerStub`** \u3092\u3064\u304f\u308b"
     ]
    },
    {
     "cell_type": "code",
     "collapsed": false,
     "input": [
      "M_Logger = createLoggerStub( 'Variable:/cell:M:Value' )"
     ],
     "language": "python",
     "metadata": {},
     "outputs": []
    },
    {
     "cell_type": "markdown",
     "metadata": {},
     "source": [
      "* `createLoggerStub()` \u3060\u3051\u3067\u306f\u8a18\u9332\u306f\u59cb\u307e\u308a\u307e\u305b\u3093\u3002\u8a18\u9332\u3092\u59cb\u3081\u308b\u306b\u306f\u3001**`LoggerStub`** \u30aa\u30d6\u30b8\u30a7\u30af\u30c8\u306e **`create()`** \u30e1\u30bd\u30c3\u30c9\u3092\u5b9f\u884c\u3059\u308b\u5fc5\u8981\u304c\u3042\u308a\u307e\u3059\u3002"
     ]
    },
    {
     "cell_type": "code",
     "collapsed": false,
     "input": [
      "M_Logger.create()"
     ],
     "language": "python",
     "metadata": {},
     "outputs": []
    },
    {
     "cell_type": "markdown",
     "metadata": {},
     "source": [
      "* **`LoggerStub`** \u30aa\u30d6\u30b8\u30a7\u30af\u30c8\u306e **`getData()`** \u30e1\u30bd\u30c3\u30c9\u3067\u3001Logger \u306b\u4fdd\u5b58\u3055\u308c\u305f\u30c7\u30fc\u30bf\u3092\u53d6\u308a\u3060\u3059\u3053\u3068\u304c\u3067\u304d\u307e\u3059\u3002\u73fe\u6642\u70b9\u3067\u306f\u3001\u30e2\u30c7\u30eb\u8aad\u307f\u8fbc\u307f\u6642\u70b9\u306e **\u521d\u671f\u5024** \u3060\u3051\u304c\u683c\u7d0d\u3055\u308c\u3066\u3044\u307e\u3059\u3002\n",
      "    * `0` \u5217\u76ee\u306f\u6642\u523b\u3001`1` \u5217\u76ee\u304c\u5c5e\u6027\u5024\u3067\u3059\u3002"
     ]
    },
    {
     "cell_type": "code",
     "collapsed": false,
     "input": [
      "M_Logger.getData()"
     ],
     "language": "python",
     "metadata": {},
     "outputs": []
    },
    {
     "cell_type": "heading",
     "level": 3,
     "metadata": {},
     "source": [
      "\u6f14\u7fd2\uff15\n"
     ]
    },
    {
     "cell_type": "markdown",
     "metadata": {},
     "source": [
      "`Variable:/cell:YT:Value`\uff08\u4ee5\u4e0b `YT`\uff09 \u304a\u3088\u3073 `Variable:/cell:CT:Value`\uff08\u4ee5\u4e0b `CT`\uff09 \u306e Logger \u3092\u3064\u304f\u308a\u3001\u8a18\u9332\u3092\u958b\u59cb\u3057\u3066\u304f\u3060\u3055\u3044\u3002"
     ]
    },
    {
     "cell_type": "code",
     "collapsed": false,
     "input": [
      "#\u89e3\u7b54\u6b04\n",
      "\n",
      "YT_Logger = createLoggerStub( 'Variable:/cell:YT:Value' )\n",
      "CT_Logger = createLoggerStub( 'Variable:/cell:CT:Value' )\n",
      "\n",
      "YT_Logger.create()\n",
      "CT_Logger.create()"
     ],
     "language": "python",
     "metadata": {},
     "outputs": []
    },
    {
     "cell_type": "heading",
     "level": 2,
     "metadata": {},
     "source": [
      "\u30b7\u30df\u30e5\u30ec\u30fc\u30b7\u30e7\u30f3\u3092\u5b9f\u884c\u3059\u308b"
     ]
    },
    {
     "cell_type": "markdown",
     "metadata": {},
     "source": [
      "* **`run( `_`sec`_` )`** \u30e1\u30bd\u30c3\u30c9\uff08Fundamentals p.94\uff09\u3067\u30b7\u30df\u30e5\u30ec\u30fc\u30b7\u30e7\u30f3\u3092\u5b9f\u884c\u3057\u307e\u3059\u3002\u5f15\u6570\u306f\u3001\u30b7\u30df\u30e5\u30ec\u30fc\u30b7\u30e7\u30f3\u5b9f\u884c\u6642\u9593\u3067\u3001\u5358\u4f4d\u306f\u3001\u30e2\u30c7\u30eb\u5185\u306e\u8a18\u8ff0\u306b\u4f9d\u5b58\u3057\u307e\u3059\uff08\u4fbf\u5b9c\u4e0a\u3001sec \u3068\u3057\u3066\u3044\u307e\u3059\uff09\u3002"
     ]
    },
    {
     "cell_type": "code",
     "collapsed": false,
     "input": [
      "run( 100 )\n",
      "print 't = {}'.format( getCurrentTime() )"
     ],
     "language": "python",
     "metadata": {},
     "outputs": []
    },
    {
     "cell_type": "markdown",
     "metadata": {},
     "source": [
      "* \u6642\u523b\u306f 100 \u306b\u306a\u3063\u3066\u3044\u307e\u3059\uff08\u2191\uff09\n",
      "* Logger \u306b\u30c7\u30fc\u30bf\u304c\u84c4\u7a4d\u3055\u308c\u3066\u3044\u308b\u3053\u3068\u3082\u78ba\u8a8d\u3067\u304d\u307e\u3059\uff08\u2193\uff09"
     ]
    },
    {
     "cell_type": "code",
     "collapsed": false,
     "input": [
      "M_Logger.getData()"
     ],
     "language": "python",
     "metadata": {},
     "outputs": []
    },
    {
     "cell_type": "heading",
     "level": 3,
     "metadata": {},
     "source": [
      "Logger\u304b\u3089\u3001\u5fc5\u8981\u306a\u5927\u304d\u3055\u306b\u9593\u5f15\u304b\u308c\u305f\u30c7\u30fc\u30bf\u3092\u53d6\u5f97\u3059\u308b\n"
     ]
    },
    {
     "cell_type": "markdown",
     "metadata": {},
     "source": [
      "* **`getData( `_`starttime`_`, `_`endtime`_`, `_`interval`_` )`** \u30e1\u30bd\u30c3\u30c9\u306f\u3001\uff13\u3064\u306e\u5f15\u6570\u3092\u3068\u308a\u307e\u3059\u304c\u3001\u3059\u3079\u3066\u7701\u7565\u53ef\u80fd\u3067\u3059\u3002\n",
      "* _starttime_, _endtime_ \u306f\u3001\u53d6\u5f97\u3059\u308b\u30c7\u30fc\u30bf\u306e\u6642\u523b\u306e\u5e45\u3092\u8a2d\u5b9a\u3057\u307e\u3059\u3002\n",
      "* _interval_ \u306f\u3001\u53d6\u5f97\u3059\u308b\u30c7\u30fc\u30bf\u306e\u6642\u9593\u9593\u9694\u3092\u8a2d\u5b9a\u3057\u307e\u3059\u3002\n",
      "* \u4ee5\u4e0b\u306e\u4f8b\u306f\u3001_t_ = 20 \u304b\u3089 _t_ = 40 \u307e\u3067\u3092\u3001\u6642\u9593\u9593\u9694 1 \u3067\u53d6\u308a\u3060\u3057\u305f\u5834\u5408\u3067\u3059\u3002"
     ]
    },
    {
     "cell_type": "code",
     "collapsed": false,
     "input": [
      "M_Logger.getData( 20, 40, 1 )"
     ],
     "language": "python",
     "metadata": {},
     "outputs": []
    },
    {
     "cell_type": "markdown",
     "metadata": {},
     "source": [
      "* \u6642\u9593\u9593\u9694\u3092\u6307\u5b9a\u305b\u305a\u306b\u53d6\u308a\u3060\u3059\u3068\u3001`0` \u5217\u76ee\u306b\u6642\u523b\u3001`1` \u5217\u76ee\u306b\u5c5e\u6027\u5024\u3092\u683c\u7d0d\u3057\u305f\uff12\u5217\u306e\u914d\u5217\u304c\u8fd4\u3055\u308c\u307e\u3059\u304c\u3001\u6642\u9593\u9593\u9694\u3092\u6307\u5b9a\u3059\u308b\u3068\uff15\u5217\u306e\u914d\u5217\u304c\u5e30\u3063\u3066\u304d\u307e\u3059\u3002  \n",
      "`2`, `3`, `4` \u5217\u76ee\u306f\u305d\u308c\u305e\u308c\u3001\u305d\u306e\u6642\u9593\u533a\u9593\u5185\u3067\u306e\u3001\u5c5e\u6027\u5024\u306e\u5e73\u5747\u5024\u3001\u6700\u5c0f\u5024\u3001\u6700\u5927\u5024\u3067\u3059\u3002\n",
      "    * \uff08\u4f7f\u3044\u9053\u306e\u4f8b\uff09\u3053\u308c\u3089\u306e\u6570\u5024\u306b\u958b\u304d\u304c\u3042\u3063\u305f\u5834\u5408\u3001\u305d\u306e\u6642\u9593\u533a\u9593\u5185\u3067\u5927\u304d\u306a\u5909\u5316\u304c\u3042\u3063\u305f\u3053\u3068\u3092\u793a\u3057\u3001\u3088\u308a\u7d30\u304b\u3044\u6642\u9593\u9593\u9694\u3067\u30c7\u30fc\u30bf\u3092\u53d6\u5f97\u3057\u305f\u65b9\u304c\u9069\u5207\u3067\u3042\u308b\u3053\u3068\u3092\u793a\u3057\u307e\u3059\u3002"
     ]
    },
    {
     "cell_type": "heading",
     "level": 3,
     "metadata": {},
     "source": [
      "\u6f14\u7fd2\uff16\n"
     ]
    },
    {
     "cell_type": "markdown",
     "metadata": {},
     "source": [
      "_t_ = 0 \u304b\u3089 _t_ = 100 \u307e\u3067\u306e\u3001 \u3014`YT/CT`\u3015, \u3014`M/CT`\u3015 \u306e\u30b0\u30e9\u30d5\u3092\uff11\u3064\u306e figure \u4e0a\u306b\u91cd\u306d\u3066\u63cf\u304d\u306a\u3055\u3044\u3002"
     ]
    },
    {
     "cell_type": "markdown",
     "metadata": {},
     "source": [
      "**\u30d2\u30f3\u30c8**\n",
      "* matplotlib \u3067\u30d7\u30ed\u30c3\u30c8\u3059\u308b\u305f\u3081\u306b\u3001`getData()` \u3067\u53d6\u5f97\u3057\u305f\u30c7\u30fc\u30bf\u3092 `np.array` \u578b\u306b\u5909\u63db\u3057\u307e\u3059\u3002"
     ]
    },
    {
     "cell_type": "code",
     "collapsed": false,
     "input": [
      "M_Data = np.array( M_Logger.getData( 0, 100, 0.5 ))\n",
      "\n",
      "M_Data"
     ],
     "language": "python",
     "metadata": {},
     "outputs": []
    },
    {
     "cell_type": "code",
     "collapsed": false,
     "input": [
      "# \u89e3\u7b54\u6b04\n",
      "\n",
      "CT_Data = np.array( CT_Logger.getData( 0, 100, 0.5))\n",
      "YT_Data = np.array( YT_Logger.getData( 0, 100, 0.5))\n",
      "\n",
      "%matplotlib inline\n",
      "import matplotlib.pyplot as plt\n",
      "\n",
      "fig = plt.figure()\n",
      "\n",
      "# x\u8ef8\u3001y\u8ef8\u306e\u30c7\u30fc\u30bf\u3092\u7528\u610f\u3059\u308b\u3002\n",
      "x = CT_Data[ :, 0 ]  \n",
      "y = YT_Data[ :, 1 ] / CT_Data[ :, 1 ] \n",
      "M = M_Data[ :, 1 ] / CT_Data[ :, 1 ] \n",
      "\n",
      "# \u30b0\u30e9\u30d5\u3092\u30d7\u30ed\u30c3\u30c8\u3059\u308b\n",
      "plt.plot( x, y, label = \"1\" )\n",
      "plt.plot( x, M, label = \"2\" )\n",
      "\n",
      "# x, y\u8ef8\u306b\u30e9\u30d9\u30eb\u3092\u3064\u3051\u308b\n",
      "plt.xlabel('time')\n",
      "plt.ylabel('data')"
     ],
     "language": "python",
     "metadata": {},
     "outputs": []
    },
    {
     "cell_type": "code",
     "collapsed": false,
     "input": [],
     "language": "python",
     "metadata": {},
     "outputs": []
    }
   ],
   "metadata": {}
  }
 ]
}