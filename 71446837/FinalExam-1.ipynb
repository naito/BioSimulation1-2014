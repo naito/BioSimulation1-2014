{
 "metadata": {
  "name": "",
  "signature": "sha256:b311dd338b6223b34a6beaf25400ba9ca11633e5d4b2f9eb22f5a198bfe49c74"
 },
 "nbformat": 3,
 "nbformat_minor": 0,
 "worksheets": [
  {
   "cells": [
    {
     "cell_type": "heading",
     "level": 1,
     "metadata": {},
     "source": [
      "\u6700\u7d42\u8a66\u9a13\uff08\uff11\uff09"
     ]
    },
    {
     "cell_type": "code",
     "collapsed": false,
     "input": [
      "import imp\n",
      "try:\n",
      "    imp.find_module(\"ecell\")\n",
      "except ImportError:\n",
      "    import sys\n",
      "    sys.path.append(\"/opt/local/lib/python2.7/site-packages\")\n",
      "    sys.path.append(\"/opt/local/Library/Frameworks/Python.framework/Versions/2.7/lib/python2.7/site-packages\")"
     ],
     "language": "python",
     "metadata": {},
     "outputs": [],
     "prompt_number": 2
    },
    {
     "cell_type": "code",
     "collapsed": false,
     "input": [
      "import numpy as np\n",
      "\n",
      "%matplotlib inline\n",
      "import matplotlib.pyplot as plt\n",
      "\n",
      "%install_ext https://raw.githubusercontent.com/naito/ecell3-ipython/master/extensions/ecell3.py\n",
      "%load_ext ecell3"
     ],
     "language": "python",
     "metadata": {},
     "outputs": [
      {
       "output_type": "stream",
       "stream": "stdout",
       "text": [
        "Installed ecell3.py. To use it, type:\n",
        "  %load_ext ecell3\n"
       ]
      }
     ],
     "prompt_number": 3
    },
    {
     "cell_type": "markdown",
     "metadata": {},
     "source": [
      "* \u30e2\u30c7\u30eb\u30d5\u30a1\u30a4\u30eb\u306f **_Lec-14.em_** \u3067\u3059\u3002\n",
      "* \u3053\u306e\u30e2\u30c7\u30eb\u306b\u306f\u3001**`S`**, **`P`**, **`X`**, **`Y`** \u306e\uff14\u3064\u306e\u5909\u6570\uff08_Variable_\uff09\u304c\u542b\u307e\u308c\u307e\u3059\u3002\n",
      "* \uff14\u3064\u306e\u5909\u6570\u306f\u3001\u4ee5\u4e0b\u306e\u53cd\u5fdc\u5f0f\u306e\u3088\u3046\u306a\uff14\u3064\u306e\u53cd\u5fdc\uff08_Process_\uff09**_r1_** \u301c **_r4_** \u3067\u76f8\u4e92\u4f5c\u7528\u3057\u3066\u3044\u307e\u3059\u3002\n",
      "\n",
      "![Reactions](./Lec-14-rx.png)\n",
      "\n",
      "* `Variable` \u3068 `Process` \u306e\u95a2\u4fc2\u3092\u56f3\u306b\u307e\u3068\u3081\u308b\u3068\u4e0b\u306e\u3088\u3046\u306b\u306a\u308a\u307e\u3059\u3002\u5316\u5b66\u91cf\u8ad6\u4fc2\u6570\u304c\uff11\u3067\u306a\u3044\u5834\u5408\u3001\u767d\u629c\u304d\u306e\u6570\u5b57\u3092\u6dfb\u3048\u3066\u3042\u308a\u307e\u3059\u3002\n",
      "\n",
      "![Reactions](./Lec-14-fig.png)\n",
      "\n",
      "* \u53cd\u5fdc\u304b\u3089\u3001`S` \u306f\u6d88\u8cbb\u3055\u308c\u308b\u3060\u3051\u3067\u7523\u751f\u3055\u308c\u306a\u3044**\u57fa\u8cea**\u3001`P` \u306f\u7523\u751f\u3055\u308c\u308b\u3060\u3051\u3067\u6d88\u8cbb\u3055\u308c\u306a\u3044**\u751f\u6210\u7269**\u3067\u3042\u308b\u3053\u3068\u304c\u308f\u304b\u308a\u307e\u3059\u3002\n",
      "    * \u30b7\u30df\u30e5\u30ec\u30fc\u30b7\u30e7\u30f3\u306b\u969b\u3057\u3066\u306f\u3001`S`, `P` \u306f\u5b9a\u6570\u3068\u3057\u3001\u5897\u6e1b\u3057\u306a\u3044\u3088\u3046\u8a2d\u5b9a\u3059\u308b\u3053\u3068\u3068\u3057\u307e\u3059\u3002\uff08`S` \u306f\u30e2\u30c7\u30eb\u5916\u306e\u4e0a\u6d41\u304b\u3089\u4f9b\u7d66\u3055\u308c\u3001`P` \u306f\u30e2\u30c7\u30eb\u5916\u306e\u4e0b\u6d41\u3067\u6d88\u8cbb\u3055\u308c\u308b\u3053\u3068\u3067\u4e00\u5b9a\u306e\u91cf\u3067\u6052\u5e38\u6027\u304c\u7dad\u6301\u3055\u308c\u308b\u3068\u8003\u3048\u307e\u3059\uff09\n",
      "    * \u30e2\u30c7\u30eb\u30d5\u30a1\u30a4\u30eb _Lec-14.em_ \u4e2d\u3067\u306f\u3001 `r1` \u301c  `r4` \u306e `VariableReferenceList` \u4e2d\u3067 `S`, `P` \u306e Coefficient \u3092\u30bc\u30ed\u3068\u3057\u3066\u3042\u308a\u307e\u3059\u3002\n",
      "* `r1` \u301c  `r4` \u306e\u5fae\u5206\u65b9\u7a0b\u5f0f\u306f\u4ee5\u4e0b\u306e\u901a\u308a\u3067\u3059\u3002\u3044\u305a\u308c\u3082\u5358\u7d14\u306a\u8cea\u91cf\u4f5c\u7528\u5247\u3067\u3059\u3002\n",
      "\n",
      "![Equations](./Lec-14-eqn.png)\n"
     ]
    },
    {
     "cell_type": "heading",
     "level": 3,
     "metadata": {},
     "source": [
      "\u30e2\u30c7\u30eb\u30d5\u30a1\u30a4\u30eb\u306e\u5185\u5bb9\u78ba\u8a8d"
     ]
    },
    {
     "cell_type": "code",
     "collapsed": false,
     "input": [
      "%less Lec-14.em"
     ],
     "language": "python",
     "metadata": {},
     "outputs": [],
     "prompt_number": 4
    },
    {
     "cell_type": "markdown",
     "metadata": {},
     "source": [
      "* \uff14\u3064\u306e\u5909\u6570\u306e FullID \u306f\u4ee5\u4e0b\u306e\u901a\u308a\u3067\u3059\u3002\n",
      "    * `Variable:/:S`\n",
      "    * `Variable:/:P`\n",
      "    * `Variable:/:X`\n",
      "    * `Variable:/:Y`\n"
     ]
    },
    {
     "cell_type": "heading",
     "level": 3,
     "metadata": {},
     "source": [
      "\u30e2\u30c7\u30eb\u30d5\u30a1\u30a4\u30eb\u306e\u8aad\u307f\u8fbc\u307f"
     ]
    },
    {
     "cell_type": "code",
     "collapsed": false,
     "input": [
      "!ecell3-em2eml Lec-14.em"
     ],
     "language": "python",
     "metadata": {},
     "outputs": [],
     "prompt_number": 5
    },
    {
     "cell_type": "code",
     "collapsed": false,
     "input": [
      "loadModel(\"Lec-14.eml\")"
     ],
     "language": "python",
     "metadata": {},
     "outputs": [],
     "prompt_number": 6
    },
    {
     "cell_type": "heading",
     "level": 2,
     "metadata": {},
     "source": [
      "\u554f\u984c\uff11"
     ]
    },
    {
     "cell_type": "markdown",
     "metadata": {},
     "source": [
      "* \u6642\u523b _t_ = 50 \u307e\u3067\u30b7\u30df\u30e5\u30ec\u30fc\u30b7\u30e7\u30f3\u3092\u5b9f\u884c\u3057\u3001\u30e2\u30c7\u30eb\u4e2d\u306e\uff14\u3064\u306e `Variable` \u306e `Value` \u5c5e\u6027\u306e\u5909\u5316\u3092\uff11\u679a\u306e\u30b0\u30e9\u30d5\u306b\u30d7\u30ed\u30c3\u30c8\u3057\u306a\u3055\u3044\u3002\u30d7\u30ed\u30c3\u30c8\u3055\u308c\u305f\u7dda\u306e\u533a\u5225\u304c\u3064\u304f\u3088\u3046\u306b\u51e1\u4f8b\u3082\u3064\u3051\u3066\u304f\u3060\u3055\u3044\u3002\n",
      "* \u3069\u306e\u3088\u3046\u306a\u30b3\u30fc\u30c9\u3067\u3082\u3001\u30b0\u30e9\u30d5\u304c\u6b63\u3057\u3051\u308c\u3070\u6b63\u89e3\u3068\u3057\u307e\u3059\u304c\u3001\u30b3\u30f3\u30d1\u30af\u30c8\u306b\u307e\u3068\u3081\u305f\u30b3\u30fc\u30c9\u307b\u3069\u9ad8\u5f97\u70b9\u3068\u3057\u307e\u3059\u3002"
     ]
    },
    {
     "cell_type": "code",
     "collapsed": false,
     "input": [
      "S_Logger = createLoggerStub( 'Variable:/:S:Value' )\n",
      "S_Logger.create()\n",
      "S_Logger.getData(0, 50, 1)\n",
      "\n",
      "S_Data = np.array( S_Logger.getData( 0, 50, 1 ))\n",
      "S_Data\n"
     ],
     "language": "python",
     "metadata": {},
     "outputs": [
      {
       "metadata": {},
       "output_type": "pyout",
       "prompt_number": 7,
       "text": [
        "array([[ 0.,  1.,  1.,  1.,  1.],\n",
        "       [ 0.,  1.,  1.,  1.,  1.],\n",
        "       [ 0.,  1.,  1.,  1.,  1.],\n",
        "       [ 0.,  1.,  1.,  1.,  1.],\n",
        "       [ 0.,  1.,  1.,  1.,  1.],\n",
        "       [ 0.,  1.,  1.,  1.,  1.],\n",
        "       [ 0.,  1.,  1.,  1.,  1.],\n",
        "       [ 0.,  1.,  1.,  1.,  1.],\n",
        "       [ 0.,  1.,  1.,  1.,  1.],\n",
        "       [ 0.,  1.,  1.,  1.,  1.],\n",
        "       [ 0.,  1.,  1.,  1.,  1.],\n",
        "       [ 0.,  1.,  1.,  1.,  1.],\n",
        "       [ 0.,  1.,  1.,  1.,  1.],\n",
        "       [ 0.,  1.,  1.,  1.,  1.],\n",
        "       [ 0.,  1.,  1.,  1.,  1.],\n",
        "       [ 0.,  1.,  1.,  1.,  1.],\n",
        "       [ 0.,  1.,  1.,  1.,  1.],\n",
        "       [ 0.,  1.,  1.,  1.,  1.],\n",
        "       [ 0.,  1.,  1.,  1.,  1.],\n",
        "       [ 0.,  1.,  1.,  1.,  1.],\n",
        "       [ 0.,  1.,  1.,  1.,  1.],\n",
        "       [ 0.,  1.,  1.,  1.,  1.],\n",
        "       [ 0.,  1.,  1.,  1.,  1.],\n",
        "       [ 0.,  1.,  1.,  1.,  1.],\n",
        "       [ 0.,  1.,  1.,  1.,  1.],\n",
        "       [ 0.,  1.,  1.,  1.,  1.],\n",
        "       [ 0.,  1.,  1.,  1.,  1.],\n",
        "       [ 0.,  1.,  1.,  1.,  1.],\n",
        "       [ 0.,  1.,  1.,  1.,  1.],\n",
        "       [ 0.,  1.,  1.,  1.,  1.],\n",
        "       [ 0.,  1.,  1.,  1.,  1.],\n",
        "       [ 0.,  1.,  1.,  1.,  1.],\n",
        "       [ 0.,  1.,  1.,  1.,  1.],\n",
        "       [ 0.,  1.,  1.,  1.,  1.],\n",
        "       [ 0.,  1.,  1.,  1.,  1.],\n",
        "       [ 0.,  1.,  1.,  1.,  1.],\n",
        "       [ 0.,  1.,  1.,  1.,  1.],\n",
        "       [ 0.,  1.,  1.,  1.,  1.],\n",
        "       [ 0.,  1.,  1.,  1.,  1.],\n",
        "       [ 0.,  1.,  1.,  1.,  1.],\n",
        "       [ 0.,  1.,  1.,  1.,  1.],\n",
        "       [ 0.,  1.,  1.,  1.,  1.],\n",
        "       [ 0.,  1.,  1.,  1.,  1.],\n",
        "       [ 0.,  1.,  1.,  1.,  1.],\n",
        "       [ 0.,  1.,  1.,  1.,  1.],\n",
        "       [ 0.,  1.,  1.,  1.,  1.],\n",
        "       [ 0.,  1.,  1.,  1.,  1.],\n",
        "       [ 0.,  1.,  1.,  1.,  1.],\n",
        "       [ 0.,  1.,  1.,  1.,  1.],\n",
        "       [ 0.,  1.,  1.,  1.,  1.]])"
       ]
      }
     ],
     "prompt_number": 7
    },
    {
     "cell_type": "code",
     "collapsed": false,
     "input": [
      "P_Logger = createLoggerStub( 'Variable:/:P:Value' )\n",
      "P_Logger.create()\n",
      "P_Logger.getData(0, 50, 1)\n",
      "\n",
      "P_Data = np.array( P_Logger.getData( 0, 50, 1 ))\n",
      "P_Data"
     ],
     "language": "python",
     "metadata": {},
     "outputs": [
      {
       "metadata": {},
       "output_type": "pyout",
       "prompt_number": 8,
       "text": [
        "array([[ 0.,  1.,  1.,  1.,  1.],\n",
        "       [ 0.,  1.,  1.,  1.,  1.],\n",
        "       [ 0.,  1.,  1.,  1.,  1.],\n",
        "       [ 0.,  1.,  1.,  1.,  1.],\n",
        "       [ 0.,  1.,  1.,  1.,  1.],\n",
        "       [ 0.,  1.,  1.,  1.,  1.],\n",
        "       [ 0.,  1.,  1.,  1.,  1.],\n",
        "       [ 0.,  1.,  1.,  1.,  1.],\n",
        "       [ 0.,  1.,  1.,  1.,  1.],\n",
        "       [ 0.,  1.,  1.,  1.,  1.],\n",
        "       [ 0.,  1.,  1.,  1.,  1.],\n",
        "       [ 0.,  1.,  1.,  1.,  1.],\n",
        "       [ 0.,  1.,  1.,  1.,  1.],\n",
        "       [ 0.,  1.,  1.,  1.,  1.],\n",
        "       [ 0.,  1.,  1.,  1.,  1.],\n",
        "       [ 0.,  1.,  1.,  1.,  1.],\n",
        "       [ 0.,  1.,  1.,  1.,  1.],\n",
        "       [ 0.,  1.,  1.,  1.,  1.],\n",
        "       [ 0.,  1.,  1.,  1.,  1.],\n",
        "       [ 0.,  1.,  1.,  1.,  1.],\n",
        "       [ 0.,  1.,  1.,  1.,  1.],\n",
        "       [ 0.,  1.,  1.,  1.,  1.],\n",
        "       [ 0.,  1.,  1.,  1.,  1.],\n",
        "       [ 0.,  1.,  1.,  1.,  1.],\n",
        "       [ 0.,  1.,  1.,  1.,  1.],\n",
        "       [ 0.,  1.,  1.,  1.,  1.],\n",
        "       [ 0.,  1.,  1.,  1.,  1.],\n",
        "       [ 0.,  1.,  1.,  1.,  1.],\n",
        "       [ 0.,  1.,  1.,  1.,  1.],\n",
        "       [ 0.,  1.,  1.,  1.,  1.],\n",
        "       [ 0.,  1.,  1.,  1.,  1.],\n",
        "       [ 0.,  1.,  1.,  1.,  1.],\n",
        "       [ 0.,  1.,  1.,  1.,  1.],\n",
        "       [ 0.,  1.,  1.,  1.,  1.],\n",
        "       [ 0.,  1.,  1.,  1.,  1.],\n",
        "       [ 0.,  1.,  1.,  1.,  1.],\n",
        "       [ 0.,  1.,  1.,  1.,  1.],\n",
        "       [ 0.,  1.,  1.,  1.,  1.],\n",
        "       [ 0.,  1.,  1.,  1.,  1.],\n",
        "       [ 0.,  1.,  1.,  1.,  1.],\n",
        "       [ 0.,  1.,  1.,  1.,  1.],\n",
        "       [ 0.,  1.,  1.,  1.,  1.],\n",
        "       [ 0.,  1.,  1.,  1.,  1.],\n",
        "       [ 0.,  1.,  1.,  1.,  1.],\n",
        "       [ 0.,  1.,  1.,  1.,  1.],\n",
        "       [ 0.,  1.,  1.,  1.,  1.],\n",
        "       [ 0.,  1.,  1.,  1.,  1.],\n",
        "       [ 0.,  1.,  1.,  1.,  1.],\n",
        "       [ 0.,  1.,  1.,  1.,  1.],\n",
        "       [ 0.,  1.,  1.,  1.,  1.]])"
       ]
      }
     ],
     "prompt_number": 8
    },
    {
     "cell_type": "code",
     "collapsed": false,
     "input": [
      "X_Logger = createLoggerStub( 'Variable:/:X:Value' )\n",
      "X_Logger.create()\n",
      "X_Logger.getData(0, 50, 1)\n",
      "\n",
      "X_Data = np.array( X_Logger.getData( 0, 50, 1 ))\n",
      "X_Data"
     ],
     "language": "python",
     "metadata": {},
     "outputs": [
      {
       "metadata": {},
       "output_type": "pyout",
       "prompt_number": 9,
       "text": [
        "array([[ 0.,  1.,  1.,  1.,  1.],\n",
        "       [ 0.,  1.,  1.,  1.,  1.],\n",
        "       [ 0.,  1.,  1.,  1.,  1.],\n",
        "       [ 0.,  1.,  1.,  1.,  1.],\n",
        "       [ 0.,  1.,  1.,  1.,  1.],\n",
        "       [ 0.,  1.,  1.,  1.,  1.],\n",
        "       [ 0.,  1.,  1.,  1.,  1.],\n",
        "       [ 0.,  1.,  1.,  1.,  1.],\n",
        "       [ 0.,  1.,  1.,  1.,  1.],\n",
        "       [ 0.,  1.,  1.,  1.,  1.],\n",
        "       [ 0.,  1.,  1.,  1.,  1.],\n",
        "       [ 0.,  1.,  1.,  1.,  1.],\n",
        "       [ 0.,  1.,  1.,  1.,  1.],\n",
        "       [ 0.,  1.,  1.,  1.,  1.],\n",
        "       [ 0.,  1.,  1.,  1.,  1.],\n",
        "       [ 0.,  1.,  1.,  1.,  1.],\n",
        "       [ 0.,  1.,  1.,  1.,  1.],\n",
        "       [ 0.,  1.,  1.,  1.,  1.],\n",
        "       [ 0.,  1.,  1.,  1.,  1.],\n",
        "       [ 0.,  1.,  1.,  1.,  1.],\n",
        "       [ 0.,  1.,  1.,  1.,  1.],\n",
        "       [ 0.,  1.,  1.,  1.,  1.],\n",
        "       [ 0.,  1.,  1.,  1.,  1.],\n",
        "       [ 0.,  1.,  1.,  1.,  1.],\n",
        "       [ 0.,  1.,  1.,  1.,  1.],\n",
        "       [ 0.,  1.,  1.,  1.,  1.],\n",
        "       [ 0.,  1.,  1.,  1.,  1.],\n",
        "       [ 0.,  1.,  1.,  1.,  1.],\n",
        "       [ 0.,  1.,  1.,  1.,  1.],\n",
        "       [ 0.,  1.,  1.,  1.,  1.],\n",
        "       [ 0.,  1.,  1.,  1.,  1.],\n",
        "       [ 0.,  1.,  1.,  1.,  1.],\n",
        "       [ 0.,  1.,  1.,  1.,  1.],\n",
        "       [ 0.,  1.,  1.,  1.,  1.],\n",
        "       [ 0.,  1.,  1.,  1.,  1.],\n",
        "       [ 0.,  1.,  1.,  1.,  1.],\n",
        "       [ 0.,  1.,  1.,  1.,  1.],\n",
        "       [ 0.,  1.,  1.,  1.,  1.],\n",
        "       [ 0.,  1.,  1.,  1.,  1.],\n",
        "       [ 0.,  1.,  1.,  1.,  1.],\n",
        "       [ 0.,  1.,  1.,  1.,  1.],\n",
        "       [ 0.,  1.,  1.,  1.,  1.],\n",
        "       [ 0.,  1.,  1.,  1.,  1.],\n",
        "       [ 0.,  1.,  1.,  1.,  1.],\n",
        "       [ 0.,  1.,  1.,  1.,  1.],\n",
        "       [ 0.,  1.,  1.,  1.,  1.],\n",
        "       [ 0.,  1.,  1.,  1.,  1.],\n",
        "       [ 0.,  1.,  1.,  1.,  1.],\n",
        "       [ 0.,  1.,  1.,  1.,  1.],\n",
        "       [ 0.,  1.,  1.,  1.,  1.]])"
       ]
      }
     ],
     "prompt_number": 9
    },
    {
     "cell_type": "code",
     "collapsed": false,
     "input": [
      "Y_Logger = createLoggerStub( 'Variable:/:Y:Value' )\n",
      "Y_Logger.create()\n",
      "Y_Logger.getData(0, 50, 1)\n",
      "\n",
      "Y_Data = np.array( Y_Logger.getData( 0, 50, 1 ))\n",
      "Y_Data"
     ],
     "language": "python",
     "metadata": {},
     "outputs": [
      {
       "metadata": {},
       "output_type": "pyout",
       "prompt_number": 10,
       "text": [
        "array([[ 0.,  1.,  1.,  1.,  1.],\n",
        "       [ 0.,  1.,  1.,  1.,  1.],\n",
        "       [ 0.,  1.,  1.,  1.,  1.],\n",
        "       [ 0.,  1.,  1.,  1.,  1.],\n",
        "       [ 0.,  1.,  1.,  1.,  1.],\n",
        "       [ 0.,  1.,  1.,  1.,  1.],\n",
        "       [ 0.,  1.,  1.,  1.,  1.],\n",
        "       [ 0.,  1.,  1.,  1.,  1.],\n",
        "       [ 0.,  1.,  1.,  1.,  1.],\n",
        "       [ 0.,  1.,  1.,  1.,  1.],\n",
        "       [ 0.,  1.,  1.,  1.,  1.],\n",
        "       [ 0.,  1.,  1.,  1.,  1.],\n",
        "       [ 0.,  1.,  1.,  1.,  1.],\n",
        "       [ 0.,  1.,  1.,  1.,  1.],\n",
        "       [ 0.,  1.,  1.,  1.,  1.],\n",
        "       [ 0.,  1.,  1.,  1.,  1.],\n",
        "       [ 0.,  1.,  1.,  1.,  1.],\n",
        "       [ 0.,  1.,  1.,  1.,  1.],\n",
        "       [ 0.,  1.,  1.,  1.,  1.],\n",
        "       [ 0.,  1.,  1.,  1.,  1.],\n",
        "       [ 0.,  1.,  1.,  1.,  1.],\n",
        "       [ 0.,  1.,  1.,  1.,  1.],\n",
        "       [ 0.,  1.,  1.,  1.,  1.],\n",
        "       [ 0.,  1.,  1.,  1.,  1.],\n",
        "       [ 0.,  1.,  1.,  1.,  1.],\n",
        "       [ 0.,  1.,  1.,  1.,  1.],\n",
        "       [ 0.,  1.,  1.,  1.,  1.],\n",
        "       [ 0.,  1.,  1.,  1.,  1.],\n",
        "       [ 0.,  1.,  1.,  1.,  1.],\n",
        "       [ 0.,  1.,  1.,  1.,  1.],\n",
        "       [ 0.,  1.,  1.,  1.,  1.],\n",
        "       [ 0.,  1.,  1.,  1.,  1.],\n",
        "       [ 0.,  1.,  1.,  1.,  1.],\n",
        "       [ 0.,  1.,  1.,  1.,  1.],\n",
        "       [ 0.,  1.,  1.,  1.,  1.],\n",
        "       [ 0.,  1.,  1.,  1.,  1.],\n",
        "       [ 0.,  1.,  1.,  1.,  1.],\n",
        "       [ 0.,  1.,  1.,  1.,  1.],\n",
        "       [ 0.,  1.,  1.,  1.,  1.],\n",
        "       [ 0.,  1.,  1.,  1.,  1.],\n",
        "       [ 0.,  1.,  1.,  1.,  1.],\n",
        "       [ 0.,  1.,  1.,  1.,  1.],\n",
        "       [ 0.,  1.,  1.,  1.,  1.],\n",
        "       [ 0.,  1.,  1.,  1.,  1.],\n",
        "       [ 0.,  1.,  1.,  1.,  1.],\n",
        "       [ 0.,  1.,  1.,  1.,  1.],\n",
        "       [ 0.,  1.,  1.,  1.,  1.],\n",
        "       [ 0.,  1.,  1.,  1.,  1.],\n",
        "       [ 0.,  1.,  1.,  1.,  1.],\n",
        "       [ 0.,  1.,  1.,  1.,  1.]])"
       ]
      }
     ],
     "prompt_number": 10
    },
    {
     "cell_type": "code",
     "collapsed": false,
     "input": [
      "# \u89e3\u7b54\u6b04\n",
      "import numpy as np\n",
      "\n",
      "%matplotlib inline\n",
      "import matplotlib.pyplot as plt\n",
      "fig = plt.figure()\n",
      "value_list = getEntityList( 'Variable', '/' )\n",
      "\n",
      "S = S_Data[ :, 0]\n",
      "P = P_Data[ :, 0]\n",
      "X = X_Data[ :, 0]\n",
      "Y = Y_Data[ :, 0]\n",
      "#x = Y_Data[ :, 1]\n",
      "\n",
      "plt.plot( S, label = \"[S]\" )\n",
      "plt.plot( P, label = \"[P]\" )\n",
      "plt.plot( X, label = \"[X]\" )\n",
      "plt.plot( Y, label = \"[Y]\" )\n",
      "\n",
      "plt.xlabel(\"t(sec)\")\n",
      "plt.ylabel(\"Value\")"
     ],
     "language": "python",
     "metadata": {},
     "outputs": [
      {
       "metadata": {},
       "output_type": "pyout",
       "prompt_number": 35,
       "text": [
        "<matplotlib.text.Text at 0x10ad10b10>"
       ]
      },
      {
       "metadata": {},
       "output_type": "display_data",
       "png": "[encoded data removed]",
       "text": [
        "<matplotlib.figure.Figure at 0x10ac8de10>"
       ]
      }
     ],
     "prompt_number": 35
    },
    {
     "cell_type": "heading",
     "level": 4,
     "metadata": {},
     "source": [
      "FinalExam-2 \u306b\u9032\u3093\u3067\u304f\u3060\u3055\u3044\u3002"
     ]
    },
    {
     "cell_type": "code",
     "collapsed": false,
     "input": [],
     "language": "python",
     "metadata": {},
     "outputs": []
    }
   ],
   "metadata": {}
  }
 ]
}