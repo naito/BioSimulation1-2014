{
 "metadata": {
  "name": "",
  "signature": "sha256:1e2ebb0631f47060d4ce44530f233781fe2fc4600b02d739d8b83fbf6c1a3681"
 },
 "nbformat": 3,
 "nbformat_minor": 0,
 "worksheets": [
  {
   "cells": [
    {
     "cell_type": "heading",
     "level": 1,
     "metadata": {},
     "source": [
      "\u6700\u7d42\u8a66\u9a13\uff08\uff12\uff09"
     ]
    },
    {
     "cell_type": "code",
     "collapsed": false,
     "input": [
      "import imp\n",
      "try:\n",
      "    imp.find_module(\"ecell\")\n",
      "except ImportError:\n",
      "    import sys\n",
      "    sys.path.append(\"/opt/local/lib/python2.7/site-packages\")\n",
      "    sys.path.append(\"/opt/local/Library/Frameworks/Python.framework/Versions/2.7/lib/python2.7/site-packages\")"
     ],
     "language": "python",
     "metadata": {},
     "outputs": [],
     "prompt_number": 1
    },
    {
     "cell_type": "code",
     "collapsed": false,
     "input": [
      "import numpy as np\n",
      "\n",
      "%matplotlib inline\n",
      "import matplotlib.pyplot as plt\n",
      "\n",
      "%install_ext https://raw.githubusercontent.com/naito/ecell3-ipython/master/extensions/ecell3.py\n",
      "%load_ext ecell3"
     ],
     "language": "python",
     "metadata": {},
     "outputs": [
      {
       "output_type": "stream",
       "stream": "stdout",
       "text": [
        "Installed ecell3.py. To use it, type:\n",
        "  %load_ext ecell3\n"
       ]
      }
     ],
     "prompt_number": 2
    },
    {
     "cell_type": "heading",
     "level": 3,
     "metadata": {},
     "source": [
      "\u30e2\u30c7\u30eb\u30d5\u30a1\u30a4\u30eb\u306e\u8aad\u307f\u8fbc\u307f"
     ]
    },
    {
     "cell_type": "code",
     "collapsed": false,
     "input": [
      "loadModel(\"Lec-14.eml\")"
     ],
     "language": "python",
     "metadata": {},
     "outputs": [],
     "prompt_number": 3
    },
    {
     "cell_type": "code",
     "collapsed": false,
     "input": [
      "X_Logger = createLoggerStub( 'Variable:/:X:Value' )\n",
      "X_Logger.create()\n",
      "X_Logger.getData(0, 50, 1)\n",
      "\n",
      "X_Data = np.array( X_Logger.getData( 0, 50, 1 ))\n",
      "X_Data"
     ],
     "language": "python",
     "metadata": {},
     "outputs": [
      {
       "metadata": {},
       "output_type": "pyout",
       "prompt_number": 5,
       "text": [
        "array([[ 0.,  1.,  1.,  1.,  1.],\n",
        "       [ 0.,  1.,  1.,  1.,  1.],\n",
        "       [ 0.,  1.,  1.,  1.,  1.],\n",
        "       [ 0.,  1.,  1.,  1.,  1.],\n",
        "       [ 0.,  1.,  1.,  1.,  1.],\n",
        "       [ 0.,  1.,  1.,  1.,  1.],\n",
        "       [ 0.,  1.,  1.,  1.,  1.],\n",
        "       [ 0.,  1.,  1.,  1.,  1.],\n",
        "       [ 0.,  1.,  1.,  1.,  1.],\n",
        "       [ 0.,  1.,  1.,  1.,  1.],\n",
        "       [ 0.,  1.,  1.,  1.,  1.],\n",
        "       [ 0.,  1.,  1.,  1.,  1.],\n",
        "       [ 0.,  1.,  1.,  1.,  1.],\n",
        "       [ 0.,  1.,  1.,  1.,  1.],\n",
        "       [ 0.,  1.,  1.,  1.,  1.],\n",
        "       [ 0.,  1.,  1.,  1.,  1.],\n",
        "       [ 0.,  1.,  1.,  1.,  1.],\n",
        "       [ 0.,  1.,  1.,  1.,  1.],\n",
        "       [ 0.,  1.,  1.,  1.,  1.],\n",
        "       [ 0.,  1.,  1.,  1.,  1.],\n",
        "       [ 0.,  1.,  1.,  1.,  1.],\n",
        "       [ 0.,  1.,  1.,  1.,  1.],\n",
        "       [ 0.,  1.,  1.,  1.,  1.],\n",
        "       [ 0.,  1.,  1.,  1.,  1.],\n",
        "       [ 0.,  1.,  1.,  1.,  1.],\n",
        "       [ 0.,  1.,  1.,  1.,  1.],\n",
        "       [ 0.,  1.,  1.,  1.,  1.],\n",
        "       [ 0.,  1.,  1.,  1.,  1.],\n",
        "       [ 0.,  1.,  1.,  1.,  1.],\n",
        "       [ 0.,  1.,  1.,  1.,  1.],\n",
        "       [ 0.,  1.,  1.,  1.,  1.],\n",
        "       [ 0.,  1.,  1.,  1.,  1.],\n",
        "       [ 0.,  1.,  1.,  1.,  1.],\n",
        "       [ 0.,  1.,  1.,  1.,  1.],\n",
        "       [ 0.,  1.,  1.,  1.,  1.],\n",
        "       [ 0.,  1.,  1.,  1.,  1.],\n",
        "       [ 0.,  1.,  1.,  1.,  1.],\n",
        "       [ 0.,  1.,  1.,  1.,  1.],\n",
        "       [ 0.,  1.,  1.,  1.,  1.],\n",
        "       [ 0.,  1.,  1.,  1.,  1.],\n",
        "       [ 0.,  1.,  1.,  1.,  1.],\n",
        "       [ 0.,  1.,  1.,  1.,  1.],\n",
        "       [ 0.,  1.,  1.,  1.,  1.],\n",
        "       [ 0.,  1.,  1.,  1.,  1.],\n",
        "       [ 0.,  1.,  1.,  1.,  1.],\n",
        "       [ 0.,  1.,  1.,  1.,  1.],\n",
        "       [ 0.,  1.,  1.,  1.,  1.],\n",
        "       [ 0.,  1.,  1.,  1.,  1.],\n",
        "       [ 0.,  1.,  1.,  1.,  1.],\n",
        "       [ 0.,  1.,  1.,  1.,  1.]])"
       ]
      }
     ],
     "prompt_number": 5
    },
    {
     "cell_type": "heading",
     "level": 2,
     "metadata": {},
     "source": [
      "\u554f\u984c\uff12"
     ]
    },
    {
     "cell_type": "markdown",
     "metadata": {},
     "source": [
      "* \u6642\u523b _t_ = 0 \u3067\u306e _S_ \u306e\u5024\uff08`Value`\uff09\u3092\u30011.1 \u306b\u8a2d\u5b9a\u3057\u3001\u6642\u523b _t_ = 50 \u307e\u3067\u30b7\u30df\u30e5\u30ec\u30fc\u30b7\u30e7\u30f3\u3092\u5b9f\u884c\u3057\u3001_X_ \u306e\u5024\uff08`Value`\uff09\u3092\u30d7\u30ed\u30c3\u30c8\u3057\u306a\u3055\u3044\u3002"
     ]
    },
    {
     "cell_type": "code",
     "collapsed": false,
     "input": [
      "# \u89e3\u7b54\u6b04\n",
      "import numpy as np\n",
      "%matplotlib inline\n",
      "import matplotlib.pyplot as plt\n",
      "fig = plt.figure()\n",
      "value_list = getEntityList( 'Variable', '/' )\n",
      "\n",
      "X = X_Data[ :, 1]\n",
      "plt.plot( X, label = \"[X]\" )\n",
      "\n",
      "plt.xlabel(\"t(sec)\")\n",
      "plt.ylabel(\"Value\")"
     ],
     "language": "python",
     "metadata": {},
     "outputs": [
      {
       "metadata": {},
       "output_type": "pyout",
       "prompt_number": 7,
       "text": [
        "<matplotlib.text.Text at 0x10ace4790>"
       ]
      },
      {
       "metadata": {},
       "output_type": "display_data",
       "png": "[encoded data removed]",
       "text": [
        "<matplotlib.figure.Figure at 0x10abdd6d0>"
       ]
      }
     ],
     "prompt_number": 7
    },
    {
     "cell_type": "markdown",
     "metadata": {},
     "source": [
      "* \u554f\u984c\uff11\u306e _X_ \u306e\u5024\u306e\u9055\u3044\u3092\u8aac\u660e\u3057\u306a\u3055\u3044\u3002\uff11\u884c\u306e\u7c21\u5358\u306a\u8aac\u660e\u3067\u304b\u307e\u3044\u307e\u305b\u3093\u3002"
     ]
    },
    {
     "cell_type": "markdown",
     "metadata": {},
     "source": [
      "\u89e3\u7b54\u6b04"
     ]
    },
    {
     "cell_type": "heading",
     "level": 4,
     "metadata": {},
     "source": [
      "FinalExam-3 \u306b\u9032\u3093\u3067\u304f\u3060\u3055\u3044\u3002"
     ]
    },
    {
     "cell_type": "heading",
     "level": 3,
     "metadata": {},
     "source": [
      "\u554f\u984c\uff12\uff22"
     ]
    },
    {
     "cell_type": "markdown",
     "metadata": {},
     "source": [
      "* \u554f\u984c\uff13\u304c\u96e3\u3057\u304f\u3066\u6b6f\u304c\u7acb\u305f\u306a\u3044\u3068\u611f\u3058\u305f\u3089\u3001\u3053\u3061\u3089\u3092\u89e3\u3044\u3066\u3082\u3044\u3044\u3067\u3059\u3002\u554f\u984c\uff13\u3088\u308a\u306f\u3084\u3084\u6613\u3057\u3044\u306f\u305a\u3067\u3059\u3002\n",
      "* \u5143\u306e\u30e2\u30c7\u30eb\uff08_S_ \u306e\u521d\u671f\u5024 = 1.0 \uff09\u3068\u3001\u554f\u984c\uff12\u3067\u5909\u66f4\u3057\u305f\u30e2\u30c7\u30eb\uff08_S_ \u306e\u521d\u671f\u5024 = 1.1 \uff09\u306e\u9055\u3044\u3092\u3001\uff14\u3064\u306e `Variable` \u306e `Value`\u3001\uff14\u3064\u306e `Process` \u306e `Activity` \uff08\u53cd\u5fdc\u901f\u5ea6\uff09\u3092\u8abf\u3079\u3066\u8aac\u660e\u3057\u306a\u3055\u3044\u3002\n",
      "* \u4e0b\u306e\u89e3\u7b54\u6b04\uff11\u306b\u30b3\u30fc\u30c9\u3092\u3001\u89e3\u7b54\u6b04\uff12\u306b\u8aac\u660e\u3092\u3001\u305d\u308c\u305e\u308c\u66f8\u304d\u306a\u3055\u3044\u3002"
     ]
    },
    {
     "cell_type": "code",
     "collapsed": false,
     "input": [
      "# \u89e3\u7b54\u6b04\uff11"
     ],
     "language": "python",
     "metadata": {},
     "outputs": [],
     "prompt_number": 5
    },
    {
     "cell_type": "markdown",
     "metadata": {},
     "source": [
      "\u89e3\u7b54\u6b04\uff12"
     ]
    }
   ],
   "metadata": {}
  }
 ]
}