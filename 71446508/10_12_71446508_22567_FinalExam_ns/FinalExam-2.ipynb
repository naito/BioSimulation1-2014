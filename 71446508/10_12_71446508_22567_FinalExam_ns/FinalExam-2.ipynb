{
 "metadata": {
  "name": "",
  "signature": "sha256:90fc88d9371cf06ca24335d11aa5f2554b64f660125cf7f63c939610b0768d7a"
 },
 "nbformat": 3,
 "nbformat_minor": 0,
 "worksheets": [
  {
   "cells": [
    {
     "cell_type": "heading",
     "level": 1,
     "metadata": {},
     "source": [
      "\u6700\u7d42\u8a66\u9a13\uff08\uff12\uff09"
     ]
    },
    {
     "cell_type": "code",
     "collapsed": false,
     "input": [
      "import imp\n",
      "try:\n",
      "    imp.find_module(\"ecell\")\n",
      "except ImportError:\n",
      "    import sys\n",
      "    sys.path.append(\"/opt/local/lib/python2.7/site-packages\")\n",
      "    sys.path.append(\"/opt/local/Library/Frameworks/Python.framework/Versions/2.7/lib/python2.7/site-packages\")"
     ],
     "language": "python",
     "metadata": {},
     "outputs": [],
     "prompt_number": 1
    },
    {
     "cell_type": "code",
     "collapsed": false,
     "input": [
      "import numpy as np\n",
      "\n",
      "%matplotlib inline\n",
      "import matplotlib.pyplot as plt\n",
      "\n",
      "%install_ext https://raw.githubusercontent.com/naito/ecell3-ipython/master/extensions/ecell3.py\n",
      "%load_ext ecell3"
     ],
     "language": "python",
     "metadata": {},
     "outputs": [
      {
       "output_type": "stream",
       "stream": "stdout",
       "text": [
        "Installed ecell3.py. To use it, type:\n",
        "  %load_ext ecell3\n"
       ]
      }
     ],
     "prompt_number": 2
    },
    {
     "cell_type": "heading",
     "level": 3,
     "metadata": {},
     "source": [
      "\u30e2\u30c7\u30eb\u30d5\u30a1\u30a4\u30eb\u306e\u8aad\u307f\u8fbc\u307f"
     ]
    },
    {
     "cell_type": "code",
     "collapsed": false,
     "input": [
      "loadModel(\"Lec-14.eml\")"
     ],
     "language": "python",
     "metadata": {},
     "outputs": [],
     "prompt_number": 3
    },
    {
     "cell_type": "heading",
     "level": 2,
     "metadata": {},
     "source": [
      "\u554f\u984c\uff12"
     ]
    },
    {
     "cell_type": "markdown",
     "metadata": {},
     "source": [
      "* \u6642\u523b _t_ = 0 \u3067\u306e _S_ \u306e\u5024\uff08`Value`\uff09\u3092\u30011.1 \u306b\u8a2d\u5b9a\u3057\u3001\u6642\u523b _t_ = 50 \u307e\u3067\u30b7\u30df\u30e5\u30ec\u30fc\u30b7\u30e7\u30f3\u3092\u5b9f\u884c\u3057\u3001_X_ \u306e\u5024\uff08`Value`\uff09\u3092\u30d7\u30ed\u30c3\u30c8\u3057\u306a\u3055\u3044\u3002"
     ]
    },
    {
     "cell_type": "code",
     "collapsed": false,
     "input": [
      "# \u89e3\u7b54\u6b04\n",
      "S = createEntityStub( 'Variable:/:S' )\n",
      "# S.getPropertyList()\n",
      "S['Value'] = 1.1\n",
      "\n",
      "#\u4ed6\u306eVariable \u306e Value\u3082\u307f\u3089\u308c\u308b\u3088\u3046\u8a18\u9332\u3057\u3066\u304a\u304f\n",
      "Logger_dict = {}\n",
      "for E in getEntityList( 'Variable', '/' ):\n",
      "    FullPN = ':'.join( ( 'Variable', '/', E, 'Value' ) )\n",
      "    Logger_dict[ FullPN ] = createLoggerStub( FullPN )\n",
      "    Logger_dict[ FullPN ].create()\n",
      "        \n",
      "run( 50 )\n",
      "\n",
      "Data_dict = {}\n",
      "for FullPN, Logger in Logger_dict.items():\n",
      "    Data_dict[ FullPN ] = np.array( Logger.getData( 0, 50, 0.1 ) )[ :, :2 ]\n",
      "\n",
      "plt.figure()\n",
      "for FullPN, d in Data_dict.items():\n",
      "    if(FullPN.split(':')[2] == 'X'):\n",
      "        plt.plot( d[ :, 0 ], d[ :, 1 ], label = FullPN.split(':')[ 2 ] )\n",
      "\n",
      "plt.legend( loc = 'best' )\n",
      "plt.xlabel(\"time\")\n",
      "plt.ylabel(\"value\")"
     ],
     "language": "python",
     "metadata": {},
     "outputs": [
      {
       "metadata": {},
       "output_type": "pyout",
       "prompt_number": 4,
       "text": [
        "<matplotlib.text.Text at 0x11247a610>"
       ]
      },
      {
       "metadata": {},
       "output_type": "display_data",
       "png": "[encoded data removed]",
       "text": [
        "<matplotlib.figure.Figure at 0x1123c3750>"
       ]
      }
     ],
     "prompt_number": 4
    },
    {
     "cell_type": "markdown",
     "metadata": {},
     "source": [
      "* \u554f\u984c\uff11\u306e _X_ \u306e\u5024\u306e\u9055\u3044\u3092\u8aac\u660e\u3057\u306a\u3055\u3044\u3002\uff11\u884c\u306e\u7c21\u5358\u306a\u8aac\u660e\u3067\u304b\u307e\u3044\u307e\u305b\u3093\u3002"
     ]
    },
    {
     "cell_type": "markdown",
     "metadata": {},
     "source": [
      "\u89e3\u7b54\u6b04\n",
      "\n",
      "\u554f\u984c\uff11\u3067\u306fX\u306e\u5024\u306f\u6642\u523bt=10\u304f\u3089\u3044\u304b\u30890.0\u306e\u5024\u3067\u5b9a\u5e38\u72b6\u614b\u306b\u306a\u3063\u305f\u304c\u3001\u554f\u984c\uff12\u3067\u306f\u6642\u523bt=10\u304f\u3089\u3044\u304b\u3089\u7d046.9\u306e\u5024\u3067\u5b9a\u5e38\u72b6\u614b\u3068\u306a\u3063\u305f\u3002"
     ]
    },
    {
     "cell_type": "heading",
     "level": 4,
     "metadata": {},
     "source": [
      "FinalExam-3 \u306b\u9032\u3093\u3067\u304f\u3060\u3055\u3044\u3002"
     ]
    },
    {
     "cell_type": "heading",
     "level": 3,
     "metadata": {},
     "source": [
      "\u554f\u984c\uff12\uff22"
     ]
    },
    {
     "cell_type": "markdown",
     "metadata": {},
     "source": [
      "* \u554f\u984c\uff13\u304c\u96e3\u3057\u304f\u3066\u6b6f\u304c\u7acb\u305f\u306a\u3044\u3068\u611f\u3058\u305f\u3089\u3001\u3053\u3061\u3089\u3092\u89e3\u3044\u3066\u3082\u3044\u3044\u3067\u3059\u3002\u554f\u984c\uff13\u3088\u308a\u306f\u3084\u3084\u6613\u3057\u3044\u306f\u305a\u3067\u3059\u3002\n",
      "* \u5143\u306e\u30e2\u30c7\u30eb\uff08_S_ \u306e\u521d\u671f\u5024 = 1.0 \uff09\u3068\u3001\u554f\u984c\uff12\u3067\u5909\u66f4\u3057\u305f\u30e2\u30c7\u30eb\uff08_S_ \u306e\u521d\u671f\u5024 = 1.1 \uff09\u306e\u9055\u3044\u3092\u3001\uff14\u3064\u306e `Variable` \u306e `Value`\u3001\uff14\u3064\u306e `Process` \u306e `Activity` \uff08\u53cd\u5fdc\u901f\u5ea6\uff09\u3092\u8abf\u3079\u3066\u8aac\u660e\u3057\u306a\u3055\u3044\u3002\n",
      "* \u4e0b\u306e\u89e3\u7b54\u6b04\uff11\u306b\u30b3\u30fc\u30c9\u3092\u3001\u89e3\u7b54\u6b04\uff12\u306b\u8aac\u660e\u3092\u3001\u305d\u308c\u305e\u308c\u66f8\u304d\u306a\u3055\u3044\u3002"
     ]
    },
    {
     "cell_type": "code",
     "collapsed": false,
     "input": [
      "# \u89e3\u7b54\u6b04\uff11"
     ],
     "language": "python",
     "metadata": {},
     "outputs": [],
     "prompt_number": 5
    },
    {
     "cell_type": "markdown",
     "metadata": {},
     "source": [
      "\u89e3\u7b54\u6b04\uff12"
     ]
    }
   ],
   "metadata": {}
  }
 ]
}