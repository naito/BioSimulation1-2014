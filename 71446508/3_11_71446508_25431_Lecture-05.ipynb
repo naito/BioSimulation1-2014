{
 "metadata": {
  "name": "",
  "signature": "sha256:66f60fb7fe8af16fd8dfa7450b00a75818fc43f907fe166a6140bccf5d37e58d"
 },
 "nbformat": 3,
 "nbformat_minor": 0,
 "worksheets": [
  {
   "cells": [
    {
     "cell_type": "heading",
     "level": 1,
     "metadata": {},
     "source": [
      "\u7b2c\uff15\u56de\u3000\u5fae\u5206\u65b9\u7a0b\u5f0f\u306e\u57fa\u790e"
     ]
    },
    {
     "cell_type": "code",
     "collapsed": false,
     "input": [
      "import numpy as np\n",
      "%matplotlib inline\n",
      "from pylab import *\n",
      "import matplotlib.pyplot as plt"
     ],
     "language": "python",
     "metadata": {},
     "outputs": [],
     "prompt_number": 3
    },
    {
     "cell_type": "heading",
     "level": 2,
     "metadata": {},
     "source": [
      "Python\u306e\u77e5\u8b58"
     ]
    },
    {
     "cell_type": "markdown",
     "metadata": {},
     "source": [
      "* \u30ea\u30c6\u30e9\u30eb\n",
      "    * \u6574\u6570\n",
      "    * \u6d6e\u52d5\u5c0f\u6570\u70b9\u6570\uff08\uff1d\u5b9f\u6570\uff09\n",
      "    * \u6587\u5b57\u5217\n",
      "    * \u30b7\u30fc\u30b1\u30f3\u30b9\n",
      "\n",
      "* \u30b7\u30fc\u30b1\u30f3\u30b9\n",
      "    * \u30ea\u30b9\u30c8\u3000[ 1, 2, 3 ]\n",
      "    * \u8f9e\u66f8\u3000{ \"one\":1, \"two\":2, \"three\":3 }\n",
      "\n",
      "* \u7e70\u308a\u8fd4\u3057\u51e6\u7406\n",
      "    * for\u6587\n",
      "    * while\u6587\n",
      "\n",
      "* \u6587\u3001\u5f0f\u3001\u30a4\u30f3\u30c7\u30f3\u30c8\n"
     ]
    },
    {
     "cell_type": "heading",
     "level": 3,
     "metadata": {},
     "source": [
      "for\u6587\u306e\u66f8\u5f0f"
     ]
    },
    {
     "cell_type": "markdown",
     "metadata": {},
     "source": [
      "```for \u5909\u6570 in \u30b7\u30fc\u30b1\u30f3\u30b9:\n",
      "    \u51e6\u7406\uff11\n",
      "    \u51e6\u7406\uff12\n",
      "    \uff1a```"
     ]
    },
    {
     "cell_type": "heading",
     "level": 3,
     "metadata": {},
     "source": [
      "while\u6587\u306e\u66f8\u5f0f"
     ]
    },
    {
     "cell_type": "markdown",
     "metadata": {},
     "source": [
      "```while \u7d99\u7d9a\u6761\u4ef6:\n",
      "    \u51e6\u7406\uff11\n",
      "    \u51e6\u7406\uff12\n",
      "    \uff1a```"
     ]
    },
    {
     "cell_type": "heading",
     "level": 2,
     "metadata": {},
     "source": [
      "\u6f14\u7fd21-1"
     ]
    },
    {
     "cell_type": "code",
     "collapsed": false,
     "input": [
      "N0 = 200000\n",
      "alpha = 0.02\n",
      "beta = 0.01"
     ],
     "language": "python",
     "metadata": {},
     "outputs": [],
     "prompt_number": 4
    },
    {
     "cell_type": "code",
     "collapsed": false,
     "input": [
      "gamma = alpha - beta\n",
      "dt = 1.0\n",
      "\n",
      "N = N0\n",
      "\n",
      "for t in range( 11 ):\n",
      "    print \"Year {:>2}: N = {}\".format( t, N )\n",
      "    dN = gamma * N * dt\n",
      "    N += dN"
     ],
     "language": "python",
     "metadata": {},
     "outputs": [
      {
       "output_type": "stream",
       "stream": "stdout",
       "text": [
        "Year  0: N = 200000\n",
        "Year  1: N = 202000.0\n",
        "Year  2: N = 204020.0\n",
        "Year  3: N = 206060.2\n",
        "Year  4: N = 208120.802\n",
        "Year  5: N = 210202.01002\n",
        "Year  6: N = 212304.03012\n",
        "Year  7: N = 214427.070421\n",
        "Year  8: N = 216571.341126\n",
        "Year  9: N = 218737.054537\n",
        "Year 10: N = 220924.425082\n"
       ]
      }
     ],
     "prompt_number": 5
    },
    {
     "cell_type": "heading",
     "level": 2,
     "metadata": {},
     "source": [
      "\u6f14\u7fd21-2"
     ]
    },
    {
     "cell_type": "code",
     "collapsed": false,
     "input": [
      "for dt in [ 2, 5, 10 ]:\n",
      "    print \"\\ndt = {}\".format( dt )\n",
      "    \n",
      "    t = 0\n",
      "    N = N0\n",
      "    while t <= 10:\n",
      "        print \"Year {:>2}: N = {}\".format( t, N )\n",
      "        dN = gamma * N * dt\n",
      "        N += dN\n",
      "        t += dt"
     ],
     "language": "python",
     "metadata": {},
     "outputs": [
      {
       "output_type": "stream",
       "stream": "stdout",
       "text": [
        "\n",
        "dt = 2\n",
        "Year  0: N = 200000\n",
        "Year  2: N = 204000.0\n",
        "Year  4: N = 208080.0\n",
        "Year  6: N = 212241.6\n",
        "Year  8: N = 216486.432\n",
        "Year 10: N = 220816.16064\n",
        "\n",
        "dt = 5\n",
        "Year  0: N = 200000\n",
        "Year  5: N = 210000.0\n",
        "Year 10: N = 220500.0\n",
        "\n",
        "dt = 10\n",
        "Year  0: N = 200000\n",
        "Year 10: N = 220000.0\n"
       ]
      }
     ],
     "prompt_number": 6
    },
    {
     "cell_type": "code",
     "collapsed": false,
     "input": [
      "Ns = {}\n",
      "\n",
      "for dt in [ 1, 2, 5, 10 ]:\n",
      "    t = 0\n",
      "    N = N0\n",
      "    _data = []\n",
      "    while t <= 10:\n",
      "        _data.append( [ t, N ] )\n",
      "        dN = gamma * N * dt\n",
      "        N += dN\n",
      "        t += dt\n",
      "\n",
      "    Ns[ dt ] = np.array( _data )"
     ],
     "language": "python",
     "metadata": {},
     "outputs": [],
     "prompt_number": 7
    },
    {
     "cell_type": "code",
     "collapsed": false,
     "input": [
      "fig = plt.figure()\n",
      "ax = fig.add_axes([0.1, 0.1, 0.8, 0.8])\n",
      "\n",
      "for dt, tp in Ns.items():\n",
      "    ax.plot( tp[ :, 0 ], tp[ :, 1 ], label = \"dt={:>2}\".format( dt ) )\n",
      "\n",
      "ax.legend( loc = 2 )\n",
      "ax.set_xlabel('year')\n",
      "ax.set_ylabel('population')"
     ],
     "language": "python",
     "metadata": {},
     "outputs": [
      {
       "metadata": {},
       "output_type": "pyout",
       "prompt_number": 8,
       "text": [
        "<matplotlib.text.Text at 0x105f46550>"
       ]
      },
      {
       "metadata": {},
       "output_type": "display_data",
       "png": "[encoded data removed]",
       "text": [
        "<matplotlib.figure.Figure at 0x105f18050>"
       ]
      }
     ],
     "prompt_number": 8
    },
    {
     "cell_type": "heading",
     "level": 3,
     "metadata": {},
     "source": [
      "100\u5e74\u8a08\u7b97\u3057\u3066\u307f\u308b\u3068\u2026"
     ]
    },
    {
     "cell_type": "code",
     "collapsed": false,
     "input": [
      "Ns = dict()\n",
      "\n",
      "for dt in [ 1, 2, 5, 10 ]:\n",
      "    t = 0\n",
      "    N = N0\n",
      "    _data = []\n",
      "    while t <= 100:\n",
      "        _data.append( [ t, N ] )\n",
      "        dN = gamma * N * dt\n",
      "        N += dN\n",
      "        t += dt\n",
      "\n",
      "    Ns[ dt ] = np.array( _data )\n",
      "\n",
      "fig = plt.figure()\n",
      "ax = fig.add_axes([0.1, 0.1, 0.8, 0.8])\n",
      "\n",
      "for dt, tp in Ns.items():\n",
      "    ax.plot( tp[ :, 0 ], tp[ :, 1 ], label = \"dt={:>2}\".format( dt ) )\n",
      "\n",
      "ax.legend( loc = 2 )\n",
      "ax.set_xlabel('year')\n",
      "ax.set_ylabel('population')"
     ],
     "language": "python",
     "metadata": {},
     "outputs": [
      {
       "metadata": {},
       "output_type": "pyout",
       "prompt_number": 9,
       "text": [
        "<matplotlib.text.Text at 0x1060d9710>"
       ]
      },
      {
       "metadata": {},
       "output_type": "display_data",
       "png": "[encoded data removed]",
       "text": [
        "<matplotlib.figure.Figure at 0x105fd5a50>"
       ]
      }
     ],
     "prompt_number": 9
    },
    {
     "cell_type": "heading",
     "level": 2,
     "metadata": {},
     "source": [
      "\u6f14\u7fd22-1"
     ]
    },
    {
     "cell_type": "code",
     "collapsed": false,
     "input": [
      "import math\n",
      "\n",
      "N0 = 5.60e7\n",
      "gamma = math.log( 5.97 / 5.60 )\n",
      "t = 2\n",
      "\n",
      "N = N0 * math.exp( gamma * t )\n",
      "\n",
      "print N"
     ],
     "language": "python",
     "metadata": {},
     "outputs": [
      {
       "output_type": "stream",
       "stream": "stdout",
       "text": [
        "63644464.2857\n"
       ]
      }
     ],
     "prompt_number": 84
    },
    {
     "cell_type": "heading",
     "level": 2,
     "metadata": {},
     "source": [
      "\u6f14\u7fd22-2"
     ]
    },
    {
     "cell_type": "code",
     "collapsed": false,
     "input": [
      "for t in range( 3, 18 ):\n",
      "    y = 1920 + t * 5\n",
      "    N = N0 * math.exp( gamma * t )\n",
      "    print \"Year {}: N = {:.2e}\".format( y, N )"
     ],
     "language": "python",
     "metadata": {},
     "outputs": [
      {
       "output_type": "stream",
       "stream": "stdout",
       "text": [
        "Year 1935: N = 6.78e+07\n",
        "Year 1940: N = 7.23e+07\n",
        "Year 1945: N = 7.71e+07\n",
        "Year 1950: N = 8.22e+07\n",
        "Year 1955: N = 8.76e+07\n",
        "Year 1960: N = 9.34e+07\n",
        "Year 1965: N = 9.96e+07\n",
        "Year 1970: N = 1.06e+08\n",
        "Year 1975: N = 1.13e+08\n",
        "Year 1980: N = 1.21e+08\n",
        "Year 1985: N = 1.29e+08\n",
        "Year 1990: N = 1.37e+08\n",
        "Year 1995: N = 1.46e+08\n",
        "Year 2000: N = 1.56e+08\n",
        "Year 2005: N = 1.66e+08\n"
       ]
      }
     ],
     "prompt_number": 85
    },
    {
     "cell_type": "heading",
     "level": 2,
     "metadata": {},
     "source": [
      "\u6f14\u7fd23"
     ]
    },
    {
     "cell_type": "code",
     "collapsed": false,
     "input": [
      "def Verhulst( N0, Ninf, gamma, t ):\n",
      "    return Ninf / ( 1.0 + ( Ninf / N0 - 1.0 ) * math.exp( -gamma * t ) )"
     ],
     "language": "python",
     "metadata": {},
     "outputs": [],
     "prompt_number": 86
    },
    {
     "cell_type": "code",
     "collapsed": false,
     "input": [
      "Ninf = 0.010\n",
      "gamma = 0.063\n",
      "\n",
      "for t in range( 18 ):\n",
      "    y = 1920 + t * 5\n",
      "    N = Verhulst( N0, Ninf, gamma, t )\n",
      "    print \"Year {}: N = {:.2e}\".format( y, N )"
     ],
     "language": "python",
     "metadata": {},
     "outputs": [
      {
       "output_type": "stream",
       "stream": "stdout",
       "text": [
        "Year 1920: N = 5.60e+07\n",
        "Year 1925: N = 1.64e-01\n",
        "Year 1930: N = 8.45e-02\n",
        "Year 1935: N = 5.81e-02\n",
        "Year 1940: N = 4.49e-02\n",
        "Year 1945: N = 3.70e-02\n",
        "Year 1950: N = 3.18e-02\n",
        "Year 1955: N = 2.80e-02\n",
        "Year 1960: N = 2.53e-02\n",
        "Year 1965: N = 2.31e-02\n",
        "Year 1970: N = 2.14e-02\n",
        "Year 1975: N = 2.00e-02\n",
        "Year 1980: N = 1.89e-02\n",
        "Year 1985: N = 1.79e-02\n",
        "Year 1990: N = 1.71e-02\n",
        "Year 1995: N = 1.64e-02\n",
        "Year 2000: N = 1.57e-02\n",
        "Year 2005: N = 1.52e-02\n"
       ]
      }
     ],
     "prompt_number": 91
    },
    {
     "cell_type": "code",
     "collapsed": false,
     "input": [
      "N_real = np.array( [\n",
      "    [1920,  5.60],\n",
      "    [1925,  5.97],\n",
      "    [1930,  6.45],\n",
      "    [1935,  6.93],\n",
      "    [1940,  7.19],\n",
      "    [1945,  7.21],\n",
      "    [1950,  8.41],\n",
      "    [1955,  9.01],\n",
      "    [1960,  9.43],\n",
      "    [1965,  9.92],\n",
      "    [1970, 10.47],\n",
      "    [1975, 11.19],\n",
      "    [1980, 11.71],\n",
      "    [1985, 12.10],\n",
      "    [1990, 12.36],\n",
      "    [1995, 12.56],\n",
      "    [2000, 12.69],\n",
      "    [2005, 12.78] ])"
     ],
     "language": "python",
     "metadata": {},
     "outputs": [],
     "prompt_number": 92
    },
    {
     "cell_type": "code",
     "collapsed": false,
     "input": [
      " _data = []\n",
      "for t in range( 3, 18 ):\n",
      "    y = 1920 + t * 5\n",
      "    N = N0 * math.exp( gamma * t )\n",
      "    _data.append( [ y, N ] )\n",
      "\n",
      "N_Malthus = np.array( _data )"
     ],
     "language": "python",
     "metadata": {},
     "outputs": [],
     "prompt_number": 93
    },
    {
     "cell_type": "code",
     "collapsed": false,
     "input": [
      "fig = plt.figure()\n",
      "ax = fig.add_axes([0.1, 0.1, 0.8, 0.8])\n",
      "\n",
      "ax.plot( N_real[ :, 0 ], N_real[ :, 1 ], label = \"Real stat\" )\n",
      "ax.plot( N_Malthus[ :, 0 ], N_Malthus[ :, 1 ] / 1.0e7, label = \"Malthus model\" )\n",
      "\n",
      "ax.legend( loc = 2 )\n",
      "ax.set_xlabel('year')\n",
      "ax.set_ylabel('population (x 1e7)')"
     ],
     "language": "python",
     "metadata": {},
     "outputs": [
      {
       "metadata": {},
       "output_type": "pyout",
       "prompt_number": 94,
       "text": [
        "<matplotlib.text.Text at 0x1087cd410>"
       ]
      },
      {
       "metadata": {},
       "output_type": "display_data",
       "png": "[encoded data removed]",
       "text": [
        "<matplotlib.figure.Figure at 0x10803f610>"
       ]
      }
     ],
     "prompt_number": 94
    },
    {
     "cell_type": "markdown",
     "metadata": {},
     "source": [
      "\u03b3\u5024\u304c0.063\u306e\u3068\u304d\uff0c1975\u5e74\u307e\u3067\u30f4\u30a7\u30a2\u30d5\u30eb\u30b9\u30c8\u306e\u30e2\u30c7\u30eb\u3068\u5b9f\u969b\u306e\u4eba\u53e3\u5897\u6e1b\u306e\u30b0\u30e9\u30d5\u306f\u307b\u307c\u4e00\u81f4\u3057\u3066\u3044\u3088\u3046\u306b\u307f\u3048\u308b\uff0e\u3057\u304b\u3057\uff0c1975\u5e74\u4ee5\u964d\u7a0b\u304b\u3089\u30e2\u30c7\u30eb\u3068\u5b9f\u969b\u306e\u5024\u3068\u306e\u4e56\u96e2\u304c\u59cb\u307e\u3063\u3066\u3044\u3063\u305f\u3002N\u221e\u306e\u5024\u306f\u5909\u66f4\u3057\u3066\u3082\u30b0\u30e9\u30d5\u306b\u5927\u304d\u306a\u5909\u5316\u306f\u898b\u3089\u308c\u306a\u304b\u3063\u305f...\u3002"
     ]
    },
    {
     "cell_type": "code",
     "collapsed": false,
     "input": [],
     "language": "python",
     "metadata": {},
     "outputs": [],
     "prompt_number": 95
    },
    {
     "cell_type": "code",
     "collapsed": false,
     "input": [],
     "language": "python",
     "metadata": {},
     "outputs": [],
     "prompt_number": 59
    },
    {
     "cell_type": "code",
     "collapsed": false,
     "input": [],
     "language": "python",
     "metadata": {},
     "outputs": [],
     "prompt_number": 16
    }
   ],
   "metadata": {}
  }
 ]
}